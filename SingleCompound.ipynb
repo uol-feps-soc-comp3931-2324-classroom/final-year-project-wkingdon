{
 "cells": [
  {
   "cell_type": "code",
   "execution_count": 1,
   "id": "b29f8a44-c8a4-4450-80cf-cd6055e76ecb",
   "metadata": {},
   "outputs": [],
   "source": [
    "from mpi4py import MPI\n",
    "from petsc4py import PETSc\n",
    "\n",
    "from tqdm.notebook import tqdm_notebook\n",
    "\n",
    "import numpy as np\n",
    "\n",
    "import ufl\n",
    "\n",
    "from dolfinx import fem, io, mesh, plot, la\n",
    "from dolfinx.fem.petsc import assemble_matrix, create_vector, apply_lifting, NonlinearProblem\n",
    "from dolfinx.nls.petsc import NewtonSolver\n",
    "from basix.ufl import element, mixed_element\n",
    "from dolfinx.io import XDMFFile\n",
    "\n",
    "import pyvista"
   ]
  },
  {
   "cell_type": "code",
   "execution_count": 2,
   "id": "d9f7ddca-f3d3-44be-87ab-8ccd4ceebe33",
   "metadata": {},
   "outputs": [],
   "source": [
    "# create mesh for calculations to take place in\n",
    "msh = mesh.create_unit_square(MPI.COMM_WORLD, 16,16)\n",
    "\n",
    "# define elements to be used for the velocity and the distribution\n",
    "s_p1 = element(\"P\", msh.basix_cell(), 1)\n",
    "\n",
    "# define time step variables \n",
    "T = 5        # final time\n",
    "num_steps = 500   # number of time steps\n",
    "dt = T / num_steps # time step size"
   ]
  },
  {
   "cell_type": "code",
   "execution_count": 3,
   "id": "66d2eaeb-7029-4456-b62d-93ab8b04f0c9",
   "metadata": {},
   "outputs": [],
   "source": [
    "def initial_condition(x, a=10):\n",
    "    return np.exp(-a * ((x[0]-.5)**2 + (x[1]-.5)**2))"
   ]
  },
  {
   "cell_type": "code",
   "execution_count": 4,
   "id": "45b446ca-073b-4320-8a92-c6cf4410d745",
   "metadata": {},
   "outputs": [],
   "source": [
    "v_p2 = element(\"P\", msh.basix_cell(), 2, shape=(msh.geometry.dim,))\n",
    "V = fem.FunctionSpace(msh, v_p2)\n",
    "def flow(x):\n",
    "    return np.stack((np.ones(x.shape[1]), np.zeros(x.shape[1])))\n",
    "\n",
    "# very basic flow variable\n",
    "u_n = fem.Function(V)\n",
    "u_n.interpolate(flow)"
   ]
  },
  {
   "cell_type": "code",
   "execution_count": 5,
   "id": "dd29d882-8cb1-421b-815a-77abcbaaa777",
   "metadata": {},
   "outputs": [],
   "source": [
    "bcs = []"
   ]
  },
  {
   "cell_type": "code",
   "execution_count": 6,
   "id": "d9ebce5a-b795-4b26-b99c-1c447e236198",
   "metadata": {},
   "outputs": [],
   "source": [
    "S = fem.FunctionSpace(msh, s_p1)\n",
    "\n",
    "s_ = fem.Function(S)\n",
    "s_n = fem.Function(S)\n",
    "\n",
    "s_.interpolate(initial_condition)\n",
    "s_n.interpolate(initial_condition)\n",
    "\n",
    "s = ufl.TrialFunction(S)\n",
    "z = ufl.TestFunction(S)"
   ]
  },
  {
   "cell_type": "code",
   "execution_count": 7,
   "id": "7737db56-865e-4f0c-9ef1-4ab4a3bf111d",
   "metadata": {},
   "outputs": [],
   "source": [
    "eps = fem.Constant(msh, PETSc.ScalarType(0.1)) # diffusion coefficent\n",
    "rho = fem.Constant(msh, PETSc.ScalarType(0))\n",
    "k = fem.Constant(msh, dt)\n",
    "f = fem.Constant(msh, PETSc.ScalarType(0))"
   ]
  },
  {
   "cell_type": "code",
   "execution_count": 8,
   "id": "e39dde7a-18a4-46eb-9fb2-0852a2c810a4",
   "metadata": {},
   "outputs": [],
   "source": [
    "F = 0\n",
    "\n",
    "F += ((s_ - s_n) / k) * z * ufl.dx # advective terms\n",
    "F +=  ufl.dot( u_n, ufl.grad(s_)) * z *ufl.dx # advective terms\n",
    "F += eps * ufl.dot( ufl.grad( s_ ), ufl.grad( z ) ) * ufl.dx # diffusive term\n",
    "F -=  f * z  * ufl.dx\n",
    "\n",
    "\n",
    "prob = NonlinearProblem(F, s_, bcs=bcs)\n",
    "\n",
    "solver = NewtonSolver(MPI.COMM_WORLD, prob)\n",
    "\n",
    "\n",
    "# a = fem.form(ufl.lhs(F))\n",
    "# L = fem.form(ufl.rhs(F))"
   ]
  },
  {
   "cell_type": "code",
   "execution_count": 9,
   "id": "ab0cce63-37d4-427c-bf1b-550e9bd2622e",
   "metadata": {},
   "outputs": [],
   "source": [
    "# A = assemble_matrix(a, bcs=bcs)\n",
    "# A.assemble()\n",
    "# b = create_vector(L)\n",
    "\n",
    "# solver = PETSc.KSP().create(msh.comm)\n",
    "# solver.setOperators(A)\n",
    "# solver.setType(PETSc.KSP.Type.PREONLY)\n",
    "# solver.getPC().setType(PETSc.PC.Type.LU)"
   ]
  },
  {
   "cell_type": "code",
   "execution_count": 10,
   "id": "601738b5-5f0c-4229-8d62-21d0d6695c54",
   "metadata": {},
   "outputs": [],
   "source": [
    "outputfile = io.XDMFFile( msh.comm, \"Reportfigures/Diffusion.xdmf\", \"w\")\n",
    "\n",
    "outputfile.write_mesh( msh )"
   ]
  },
  {
   "cell_type": "code",
   "execution_count": 11,
   "id": "90e77b40-ce16-44cc-94ee-db0b98939c39",
   "metadata": {},
   "outputs": [
    {
     "data": {
      "application/vnd.jupyter.widget-view+json": {
       "model_id": "2f99ac53134d44599f2ac1a056bac75a",
       "version_major": 2,
       "version_minor": 0
      },
      "text/plain": [
       "  0%|          | 0/500 [00:00<?, ?it/s]"
      ]
     },
     "metadata": {},
     "output_type": "display_data"
    }
   ],
   "source": [
    "t = 0\n",
    "outputfile.write_function( s_, t )\n",
    "\n",
    "for i in tqdm_notebook( range( num_steps )):\n",
    "    t += dt\n",
    "    \n",
    "    # with b.localForm() as loc_b:\n",
    "    #     loc_b.set(0)\n",
    "        \n",
    "    # fem.petsc.assemble_vector(b, L)\n",
    "    # apply_lifting(b, [a], [bcs])\n",
    "    # b.ghostUpdate(addv=PETSc.InsertMode.ADD, mode=PETSc.ScatterMode.REVERSE)\n",
    "    # fem.set_bc(b, bcs)\n",
    "        \n",
    "    # solver.solve(b, s_.vector)\n",
    "    solver.solve(s_)\n",
    "    \n",
    "    s_.x.scatter_forward() # correct for inacuracies \n",
    "\n",
    "    s_n.x.array[:] = s_.x.array\n",
    "\n",
    "    outputfile.write_function( s_, t )\n",
    "outputfile.close()"
   ]
  },
  {
   "cell_type": "code",
   "execution_count": null,
   "id": "d18a06ba-e184-4acf-b2c8-d73bef7c34d7",
   "metadata": {},
   "outputs": [],
   "source": []
  },
  {
   "cell_type": "code",
   "execution_count": null,
   "id": "10f69d22-2147-4a7c-ac57-3d6aef8c66e5",
   "metadata": {},
   "outputs": [],
   "source": []
  },
  {
   "cell_type": "code",
   "execution_count": null,
   "id": "d2ea45e2-029f-479c-877f-9f33c8f5fc0f",
   "metadata": {},
   "outputs": [],
   "source": []
  }
 ],
 "metadata": {
  "kernelspec": {
   "display_name": "Python 3 (ipykernel)",
   "language": "python",
   "name": "python3"
  },
  "language_info": {
   "codemirror_mode": {
    "name": "ipython",
    "version": 3
   },
   "file_extension": ".py",
   "mimetype": "text/x-python",
   "name": "python",
   "nbconvert_exporter": "python",
   "pygments_lexer": "ipython3",
   "version": "3.10.13"
  }
 },
 "nbformat": 4,
 "nbformat_minor": 5
}
