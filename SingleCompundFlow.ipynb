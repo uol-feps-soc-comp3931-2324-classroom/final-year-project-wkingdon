{
 "cells": [
  {
   "cell_type": "code",
   "execution_count": 1,
   "id": "b29f8a44-c8a4-4450-80cf-cd6055e76ecb",
   "metadata": {},
   "outputs": [],
   "source": [
    "from mpi4py import MPI\n",
    "from petsc4py import PETSc\n",
    "\n",
    "from tqdm.notebook import tqdm_notebook\n",
    "\n",
    "import numpy as np\n",
    "\n",
    "import ufl\n",
    "\n",
    "from dolfinx import fem, io, mesh, plot, la\n",
    "from dolfinx.fem.petsc import assemble_matrix, create_vector, apply_lifting, NonlinearProblem\n",
    "from dolfinx.nls.petsc import NewtonSolver\n",
    "from basix.ufl import element, mixed_element\n",
    "from dolfinx.io import XDMFFile\n",
    "\n",
    "import pyvista"
   ]
  },
  {
   "cell_type": "code",
   "execution_count": 2,
   "id": "d9f7ddca-f3d3-44be-87ab-8ccd4ceebe33",
   "metadata": {},
   "outputs": [],
   "source": [
    "# create mesh for calculations to take place in\n",
    "msh = mesh.create_unit_square(MPI.COMM_WORLD, 16,16)\n",
    "\n",
    "# define elements to be used for the velocity and the distribution\n",
    "s_p1 = element(\"P\", msh.basix_cell(), 1)\n",
    "p_p1 = element(\"P\", msh.basix_cell(), 1)\n",
    "v_p2 = element(\"P\", msh.basix_cell(), 2, shape=(msh.geometry.dim,))\n",
    "\n",
    "# define time step variables \n",
    "T = 10        # final time\n",
    "num_steps = 1000   # number of time steps\n",
    "dt = T / num_steps # time step size"
   ]
  },
  {
   "cell_type": "code",
   "execution_count": 3,
   "id": "66d2eaeb-7029-4456-b62d-93ab8b04f0c9",
   "metadata": {},
   "outputs": [],
   "source": [
    "def initial_condition(x, a=10):\n",
    "    return np.exp(-a * ((x[0]-.5)**2 + (x[1]-.5)**2))\n",
    "\n",
    "# Function to mark x = 0, x = 1 and y = 0\n",
    "def noslip_boundary(x):\n",
    "    return np.logical_or(np.logical_or(np.isclose(x[0], 0.0), np.isclose(x[0], 1.0)),\n",
    "                         np.isclose(x[1], 0.0))\n",
    "\n",
    "# Function to mark the lid (y = 1)\n",
    "def lid(x):\n",
    "    return np.isclose(x[1], 1.0)\n",
    "\n",
    "def flow(x):\n",
    "    return np.stack((np.ones(x.shape[1]), np.zeros(x.shape[1])))"
   ]
  },
  {
   "cell_type": "code",
   "execution_count": 4,
   "id": "d9ebce5a-b795-4b26-b99c-1c447e236198",
   "metadata": {},
   "outputs": [],
   "source": [
    "TH = mixed_element([v_p2, p_p1])\n",
    "W = fem.functionspace(msh, TH)\n",
    "\n",
    "S = fem.FunctionSpace(msh, s_p1)\n",
    "\n",
    "s_ = fem.Function(S)\n",
    "s_n = fem.Function(S)\n",
    "\n",
    "# s_.interpolate(initial_condition)\n",
    "# s_n.interpolate(initial_condition)\n",
    "\n",
    "s = ufl.TrialFunction(S)\n",
    "z = ufl.TestFunction(S)"
   ]
  },
  {
   "cell_type": "code",
   "execution_count": 5,
   "id": "dd29d882-8cb1-421b-815a-77abcbaaa777",
   "metadata": {},
   "outputs": [],
   "source": [
    "V, submapV = W.sub(0).collapse()\n",
    "Q, submapQ = W.sub(1).collapse()\n",
    "\n",
    "# No slip boundary condition\n",
    "noslip = fem.Function(V)\n",
    "facets = mesh.locate_entities_boundary(msh, 1, noslip_boundary)\n",
    "dofs = fem.locate_dofs_topological((W.sub(0), V), 1, facets)\n",
    "noslip_bc = fem.dirichletbc(noslip, dofs, W.sub(0))\n",
    "\n",
    "# Driving velocity condition u = (1, 0) on top boundary (y = 1)\n",
    "lid_velocity = fem.Function(V)\n",
    "lid_velocity.interpolate(flow)\n",
    "facets = mesh.locate_entities_boundary(msh, 1, lid)\n",
    "dofs = fem.locate_dofs_topological((W.sub(0), V), 1, facets)\n",
    "lid_flow_bc = fem.dirichletbc(lid_velocity, dofs, W.sub(0))\n",
    "\n",
    "# distribution boundary conditions\n",
    "inflow_dofs = fem.locate_dofs_geometrical(S, lid)\n",
    "inflow_dist_bc = fem.dirichletbc(PETSc.ScalarType(1), inflow_dofs, S)\n",
    "outflow_dist_bc = fem.dirichletbc(PETSc.ScalarType(-1), inflow_dofs, S)\n",
    "\n",
    "# Collect Dirichlet boundary conditions\n",
    "flow_bc = [noslip_bc, lid_flow_bc]\n",
    "dist_bc = [outflow_dist_bc, inflow_dist_bc]\n"
   ]
  },
  {
   "cell_type": "code",
   "execution_count": 6,
   "id": "7b8ca18c-c847-4238-96da-c47eb43d0986",
   "metadata": {},
   "outputs": [],
   "source": [
    "# Define variational problem\n",
    "(u, p) = ufl.TrialFunctions(W)\n",
    "(v, q) = ufl.TestFunctions(W)\n",
    "f = fem.Function(V)\n",
    "\n",
    "F1 = (ufl.inner(ufl.grad(u), ufl.grad(v)) + ufl.inner(p, ufl.div(v)) + ufl.inner(ufl.div(u), q)) * ufl.dx - ufl.inner(f, v) * ufl.dx # taylor hood\n",
    "a1 = fem.form(ufl.lhs(F1))\n",
    "L1 = fem.form(ufl.rhs(F1))\n",
    "\n",
    "\n",
    "# Assemble LHS matrix and RHS vector\n",
    "A1 = fem.petsc.assemble_matrix(a1, bcs=flow_bc)\n",
    "A1.assemble()\n",
    "b1 = fem.petsc.assemble_vector(L1)\n",
    "\n",
    "fem.petsc.apply_lifting(b1, [a1], bcs=[flow_bc])\n",
    "b1.ghostUpdate(addv=PETSc.InsertMode.ADD, mode=PETSc.ScatterMode.REVERSE)\n",
    "\n",
    "# Set Dirichlet boundary condition values in the RHS\n",
    "fem.petsc.set_bc(b1, flow_bc)"
   ]
  },
  {
   "cell_type": "code",
   "execution_count": 1,
   "id": "d039e37b-9462-4278-abe2-711a3ee61862",
   "metadata": {},
   "outputs": [
    {
     "ename": "NameError",
     "evalue": "name 'PETSc' is not defined",
     "output_type": "error",
     "traceback": [
      "\u001b[0;31m---------------------------------------------------------------------------\u001b[0m",
      "\u001b[0;31mNameError\u001b[0m                                 Traceback (most recent call last)",
      "Cell \u001b[0;32mIn[1], line 2\u001b[0m\n\u001b[1;32m      1\u001b[0m \u001b[38;5;66;03m# Create and configure solver\u001b[39;00m\n\u001b[0;32m----> 2\u001b[0m ksp \u001b[38;5;241m=\u001b[39m \u001b[43mPETSc\u001b[49m\u001b[38;5;241m.\u001b[39mKSP()\u001b[38;5;241m.\u001b[39mcreate(msh\u001b[38;5;241m.\u001b[39mcomm)\n\u001b[1;32m      3\u001b[0m ksp\u001b[38;5;241m.\u001b[39msetOperators(A1)\n\u001b[1;32m      4\u001b[0m ksp\u001b[38;5;241m.\u001b[39msetType(\u001b[38;5;124m\"\u001b[39m\u001b[38;5;124mpreonly\u001b[39m\u001b[38;5;124m\"\u001b[39m)\n",
      "\u001b[0;31mNameError\u001b[0m: name 'PETSc' is not defined"
     ]
    }
   ],
   "source": [
    "# Create and configure solver\n",
    "ksp = PETSc.KSP().create(msh.comm)\n",
    "ksp.setOperators(A1)\n",
    "ksp.setType(\"preonly\")\n",
    "\n",
    "# Configure MUMPS to handle pressure nullspace\n",
    "pc = ksp.getPC()\n",
    "pc.setType(\"lu\")\n",
    "pc.setFactorSolverType(\"superlu_dist\")"
   ]
  },
  {
   "cell_type": "code",
   "execution_count": 8,
   "id": "77a878d2-05ce-4863-b829-08ff49e6d537",
   "metadata": {},
   "outputs": [],
   "source": [
    "flow_solution = fem.Function(W)\n",
    "\n",
    "ksp.solve(b1, flow_solution.vector)\n",
    "\n",
    "u_n = flow_solution.sub(0)"
   ]
  },
  {
   "cell_type": "code",
   "execution_count": 9,
   "id": "7737db56-865e-4f0c-9ef1-4ab4a3bf111d",
   "metadata": {},
   "outputs": [],
   "source": [
    "eps = fem.Constant(msh, PETSc.ScalarType(0.01)) # diffusion coefficent\n",
    "rho = fem.Constant(msh, PETSc.ScalarType(0))\n",
    "k = fem.Constant(msh, dt)\n",
    "f = fem.Constant(msh, PETSc.ScalarType(0))"
   ]
  },
  {
   "cell_type": "code",
   "execution_count": 10,
   "id": "e39dde7a-18a4-46eb-9fb2-0852a2c810a4",
   "metadata": {},
   "outputs": [],
   "source": [
    "F = 0\n",
    "\n",
    "F += ((s_ - s_n) / k) * z * ufl.dx # advective terms\n",
    "F +=  ufl.dot( u_n, ufl.grad(s_)) * z *ufl.dx # advective terms\n",
    "F += eps * ufl.dot( ufl.grad( s_ ), ufl.grad( z ) ) * ufl.dx # diffusive term\n",
    "F -=  f * z  * ufl.dx\n",
    "\n",
    "\n",
    "prob = NonlinearProblem(F, s_, bcs=dist_bc)\n",
    "\n",
    "solver = NewtonSolver(MPI.COMM_WORLD, prob)\n",
    "\n",
    "\n",
    "# a = fem.form(ufl.lhs(F))\n",
    "# L = fem.form(ufl.rhs(F))"
   ]
  },
  {
   "cell_type": "code",
   "execution_count": 11,
   "id": "ab0cce63-37d4-427c-bf1b-550e9bd2622e",
   "metadata": {},
   "outputs": [],
   "source": [
    "# A = assemble_matrix(a, bcs=bcs)\n",
    "# A.assemble()\n",
    "# b = create_vector(L)\n",
    "\n",
    "# solver = PETSc.KSP().create(msh.comm)\n",
    "# solver.setOperators(A)\n",
    "# solver.setType(PETSc.KSP.Type.PREONLY)\n",
    "# solver.getPC().setType(PETSc.PC.Type.LU)"
   ]
  },
  {
   "cell_type": "code",
   "execution_count": 12,
   "id": "601738b5-5f0c-4229-8d62-21d0d6695c54",
   "metadata": {},
   "outputs": [],
   "source": [
    "outputfile = io.XDMFFile( msh.comm, \"Reportfigures/DiffusionFlow.xdmf\", \"w\")\n",
    "\n",
    "outputfile.write_mesh( msh )"
   ]
  },
  {
   "cell_type": "code",
   "execution_count": 13,
   "id": "90e77b40-ce16-44cc-94ee-db0b98939c39",
   "metadata": {},
   "outputs": [
    {
     "data": {
      "application/vnd.jupyter.widget-view+json": {
       "model_id": "6676371da4e1435f8568ba1166e50f59",
       "version_major": 2,
       "version_minor": 0
      },
      "text/plain": [
       "  0%|          | 0/1000 [00:00<?, ?it/s]"
      ]
     },
     "metadata": {},
     "output_type": "display_data"
    }
   ],
   "source": [
    "t = 0\n",
    "outputfile.write_function( s_, t )\n",
    "\n",
    "for i in tqdm_notebook( range( num_steps )):\n",
    "    t += dt\n",
    "    \n",
    "    # with b.localForm() as loc_b:\n",
    "    #     loc_b.set(0)\n",
    "        \n",
    "    # fem.petsc.assemble_vector(b, L)\n",
    "    # apply_lifting(b, [a], [bcs])\n",
    "    # b.ghostUpdate(addv=PETSc.InsertMode.ADD, mode=PETSc.ScatterMode.REVERSE)\n",
    "    # fem.set_bc(b, bcs)\n",
    "        \n",
    "    # solver.solve(b, s_.vector)\n",
    "    solver.solve(s_)\n",
    "    \n",
    "    s_.x.scatter_forward() # correct for inacuracies \n",
    "\n",
    "    s_n.x.array[:] = s_.x.array\n",
    "\n",
    "    outputfile.write_function( s_, t )\n",
    "outputfile.close()"
   ]
  },
  {
   "cell_type": "code",
   "execution_count": null,
   "id": "d18a06ba-e184-4acf-b2c8-d73bef7c34d7",
   "metadata": {},
   "outputs": [],
   "source": []
  },
  {
   "cell_type": "code",
   "execution_count": null,
   "id": "10f69d22-2147-4a7c-ac57-3d6aef8c66e5",
   "metadata": {},
   "outputs": [],
   "source": []
  },
  {
   "cell_type": "code",
   "execution_count": null,
   "id": "d2ea45e2-029f-479c-877f-9f33c8f5fc0f",
   "metadata": {},
   "outputs": [],
   "source": []
  }
 ],
 "metadata": {
  "kernelspec": {
   "display_name": "Python 3 (ipykernel)",
   "language": "python",
   "name": "python3"
  },
  "language_info": {
   "codemirror_mode": {
    "name": "ipython",
    "version": 3
   },
   "file_extension": ".py",
   "mimetype": "text/x-python",
   "name": "python",
   "nbconvert_exporter": "python",
   "pygments_lexer": "ipython3",
   "version": "3.10.13"
  }
 },
 "nbformat": 4,
 "nbformat_minor": 5
}
