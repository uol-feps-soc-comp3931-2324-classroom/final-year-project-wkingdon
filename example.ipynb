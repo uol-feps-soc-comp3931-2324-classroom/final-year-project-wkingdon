{
 "cells": [
  {
   "cell_type": "code",
   "execution_count": 56,
   "id": "aa33691b-14ca-4983-b6d1-a2536b427b5c",
   "metadata": {},
   "outputs": [],
   "source": [
    "from mpi4py import MPI\n",
    "from petsc4py import PETSc\n",
    "import numpy as np\n",
    "import pyvista\n",
    "\n",
    "import basix\n",
    "\n",
    "import ufl\n",
    "\n",
    "from dolfinx import mesh, fem, plot"
   ]
  },
  {
   "cell_type": "code",
   "execution_count": 57,
   "id": "bb77110c-9918-41e4-856d-ee2abe993ae4",
   "metadata": {},
   "outputs": [],
   "source": [
    "domain = mesh.create_unit_square(MPI.COMM_WORLD, 16,16)\n",
    "element = basix.ufl.element(\"Lagrange\", domain.basix_cell(), 1)\n",
    "V = fem.FunctionSpace(domain, element)"
   ]
  },
  {
   "cell_type": "code",
   "execution_count": 58,
   "id": "18d23885-1ca9-47e0-9c08-03f01c142b37",
   "metadata": {},
   "outputs": [],
   "source": []
  },
  {
   "cell_type": "code",
   "execution_count": 59,
   "id": "5d3b6afe-20ec-4ff6-8778-f51729c13fc1",
   "metadata": {},
   "outputs": [],
   "source": [
    "uD = fem.Function(V)\n",
    "uD.interpolate(lambda x: 1 + x[0]**2 + 2 * x[1]**2)\n",
    "facets = mesh.locate_entities_boundary(domain, 1, lambda x: np.full(x.shape[1], 0))\n",
    "boundary_dofs = fem.locate_dofs_topological(V, fdim, boundary_facets)\n",
    "bc = fem.dirichletbc(uD, boundary_dofs)"
   ]
  },
  {
   "cell_type": "code",
   "execution_count": 60,
   "id": "504ab832-bec1-4285-ba6c-c8111e5bd9b0",
   "metadata": {},
   "outputs": [],
   "source": [
    "u = ufl.TrialFunction(V)\n",
    "v = ufl.TestFunction(V)"
   ]
  },
  {
   "cell_type": "code",
   "execution_count": 61,
   "id": "ff2e6177-2bef-4623-a9e7-4e9838d1ddaf",
   "metadata": {},
   "outputs": [],
   "source": [
    "f = fem.Constant(domain, PETSc.ScalarType(-6))"
   ]
  },
  {
   "cell_type": "code",
   "execution_count": 62,
   "id": "78d0b7d9-4964-4624-aec4-47a3b2a5186f",
   "metadata": {},
   "outputs": [],
   "source": [
    "a = ufl.dot(ufl.grad(u), ufl.grad(v)) * ufl.dx\n",
    "L = f * v * ufl.dx"
   ]
  },
  {
   "cell_type": "code",
   "execution_count": 63,
   "id": "0e8e0557-282f-4eef-859d-1cff77daf650",
   "metadata": {},
   "outputs": [],
   "source": [
    "from dolfinx.fem.petsc import LinearProblem\n",
    "problem = LinearProblem(a, L, bcs=[bc], petsc_options={\"ksp_type\": \"preonly\", \"pc_type\": \"lu\"})\n",
    "uh = problem.solve()"
   ]
  },
  {
   "cell_type": "code",
   "execution_count": 64,
   "id": "fe50545d-1d3b-4fb4-815d-cc5e336961a3",
   "metadata": {},
   "outputs": [
    {
     "data": {
      "application/vnd.jupyter.widget-view+json": {
       "model_id": "2c4ef32ec3b845a89d469a49450733f2",
       "version_major": 2,
       "version_minor": 0
      },
      "text/plain": [
       "Widget(value='<iframe src=\"http://localhost:46335/index.html?ui=P_0x7f1b75f13ca0_12&reconnect=auto\" class=\"pyv…"
      ]
     },
     "metadata": {},
     "output_type": "display_data"
    }
   ],
   "source": [
    "pyvista.start_xvfb()\n",
    "pyvista.set_jupyter_backend('client')\n",
    "u_topology, u_cell_types, u_geometry = plot.vtk_mesh(V)\n",
    "u_grid = pyvista.UnstructuredGrid(u_topology, u_cell_types, u_geometry)\n",
    "u_grid.point_data[\"u\"] = uh.x.array.real\n",
    "u_grid.set_active_scalars(\"u\")\n",
    "u_plotter = pyvista.Plotter()\n",
    "u_plotter.add_mesh(u_grid, show_edges=True)\n",
    "u_plotter.view_xy()\n",
    "if not pyvista.OFF_SCREEN:\n",
    "    u_plotter.show()"
   ]
  },
  {
   "cell_type": "code",
   "execution_count": 65,
   "id": "b795978c-1349-4620-85ee-7ce5e7bbebdb",
   "metadata": {},
   "outputs": [
    {
     "data": {
      "application/vnd.jupyter.widget-view+json": {
       "model_id": "4892b1afa9af4e71af819aa96c967a34",
       "version_major": 2,
       "version_minor": 0
      },
      "text/plain": [
       "Widget(value='<iframe src=\"http://localhost:46335/index.html?ui=P_0x7f1b75b838b0_13&reconnect=auto\" class=\"pyv…"
      ]
     },
     "metadata": {},
     "output_type": "display_data"
    }
   ],
   "source": [
    "warped = u_grid.warp_by_scalar()\n",
    "plotter2 = pyvista.Plotter()\n",
    "plotter2.add_mesh(warped, show_edges=True, show_scalar_bar=True)\n",
    "if not pyvista.OFF_SCREEN:\n",
    "    plotter2.show()\n"
   ]
  },
  {
   "cell_type": "code",
   "execution_count": null,
   "id": "ab13ecae-833f-46fe-b00a-0c021be9b469",
   "metadata": {},
   "outputs": [],
   "source": []
  }
 ],
 "metadata": {
  "kernelspec": {
   "display_name": "Python 3 (ipykernel)",
   "language": "python",
   "name": "python3"
  },
  "language_info": {
   "codemirror_mode": {
    "name": "ipython",
    "version": 3
   },
   "file_extension": ".py",
   "mimetype": "text/x-python",
   "name": "python",
   "nbconvert_exporter": "python",
   "pygments_lexer": "ipython3",
   "version": "3.10.13"
  }
 },
 "nbformat": 4,
 "nbformat_minor": 5
}
