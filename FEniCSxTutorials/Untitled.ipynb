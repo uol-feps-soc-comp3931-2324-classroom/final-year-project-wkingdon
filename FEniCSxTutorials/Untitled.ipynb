{
 "cells": [
  {
   "cell_type": "markdown",
   "id": "88a94b4e-00dd-48f1-9d1e-da26cd4818b8",
   "metadata": {},
   "source": [
    "# Test that's time dependent\n",
    "https://jsdokken.com/dolfinx-tutorial/chapter2/ns_code2.html  \n",
    "https://docs.fenicsproject.org/dolfinx/v0.5.1/python/demos/demo_stokes.html"
   ]
  },
  {
   "cell_type": "code",
   "execution_count": 1,
   "id": "3f1dec04-b69f-49ee-bb61-b8f180f49524",
   "metadata": {},
   "outputs": [
    {
     "name": "stdout",
     "output_type": "stream",
     "text": [
      "DOLFINx version: 0.7.2 based on GIT commit: 4604094c8c3e6dbf6034b25df5ee3ccd1ec2d3b3 of https://github.com/FEniCS/dolfinx/\n"
     ]
    }
   ],
   "source": [
    "import dolfinx\n",
    "print(f\"DOLFINx version: {dolfinx.__version__} based on GIT commit: {dolfinx.git_commit_hash} of https://github.com/FEniCS/dolfinx/\")"
   ]
  },
  {
   "cell_type": "code",
   "execution_count": 2,
   "id": "e49bb58c-0e85-46c2-ad62-9cc61a8a9b37",
   "metadata": {},
   "outputs": [
    {
     "name": "stderr",
     "output_type": "stream",
     "text": [
      "WARNING:py.warnings:/tmp/ipykernel_5285/919224843.py:5: TqdmExperimentalWarning: Using `tqdm.autonotebook.tqdm` in notebook mode. Use `tqdm.tqdm` instead to force console mode (e.g. in jupyter console)\n",
      "  import tqdm.autonotebook\n",
      "\n"
     ]
    }
   ],
   "source": [
    "import gmsh\n",
    "import os\n",
    "import numpy as np\n",
    "import matplotlib.pyplot as plt\n",
    "import tqdm.autonotebook\n",
    "\n",
    "from mpi4py import MPI\n",
    "from petsc4py import PETSc\n",
    "\n",
    "from dolfinx.cpp.mesh import to_type, cell_entity_type\n",
    "from dolfinx.fem import (Constant, Function, FunctionSpace,\n",
    "                         assemble_scalar, dirichletbc, form, locate_dofs_topological, set_bc)\n",
    "from dolfinx.fem.petsc import (apply_lifting, assemble_matrix, assemble_vector,\n",
    "                               create_vector, create_matrix, set_bc)\n",
    "from dolfinx.graph import adjacencylist\n",
    "from dolfinx.geometry import bb_tree, compute_collisions_points, compute_colliding_cells\n",
    "from dolfinx.io import (VTXWriter, distribute_entity_data, gmshio)\n",
    "from dolfinx.mesh import create_mesh, meshtags_from_entities\n",
    "\n",
    "from ufl import (FacetNormal, FiniteElement, Identity, Measure, TestFunction, TrialFunction, VectorElement,\n",
    "                 as_vector, div, dot, ds, dx, inner, lhs, grad, nabla_grad, rhs, sym)\n",
    "\n",
    "gmsh.initialize()\n",
    "\n",
    "L = 2.2\n",
    "H = 0.41\n",
    "c_x = c_y = 0.2\n",
    "r = 0.05\n",
    "gdim = 2\n",
    "mesh_comm = MPI.COMM_WORLD\n",
    "model_rank = 0\n",
    "if mesh_comm.rank == model_rank: # this is required for parallelisation \n",
    "    rectangle = gmsh.model.occ.addRectangle(0, 0, 0, L, H, tag=1)\n",
    "    obstacle = gmsh.model.occ.addDisk(c_x, c_y, 0, r, r)"
   ]
  },
  {
   "cell_type": "code",
   "execution_count": 2,
   "id": "4f1d5fb9-ca38-40da-9dec-5fe180c92952",
   "metadata": {},
   "outputs": [],
   "source": [
    "# subtracts obstical from channel\n",
    "if mesh_comm.rank == model_rank:\n",
    "    fluid = gmsh.model.occ.cut([(gdim, rectangle)], [(gdim, obstacle)])\n",
    "    gmsh.model.occ.synchronize()"
   ]
  },
  {
   "cell_type": "code",
   "execution_count": 3,
   "id": "c8e6c54a-bdf2-4841-8864-08a9318d6539",
   "metadata": {},
   "outputs": [],
   "source": [
    "fluid_marker = 1\n",
    "if mesh_comm.rank == model_rank:\n",
    "    volumes = gmsh.model.getEntities(dim=gdim)\n",
    "    assert (len(volumes) == 1)\n",
    "    gmsh.model.addPhysicalGroup(volumes[0][0], [volumes[0][1]], fluid_marker)\n",
    "    gmsh.model.setPhysicalName(volumes[0][0], fluid_marker, \"Fluid\")"
   ]
  },
  {
   "cell_type": "code",
   "execution_count": 4,
   "id": "de92fc35-5ae8-4e27-852a-7f6b11140604",
   "metadata": {},
   "outputs": [],
   "source": [
    "# Tagging differnet surfaces of the mesh (start from 2 as 1 is ues to mark the fluid volume)\n",
    "\n",
    "inlet_marker, outlet_marker, wall_marker, obstacle_marker = 2, 3, 4, 5\n",
    "inflow, outflow, walls, obstacle = [], [], [], []\n",
    "if mesh_comm.rank == model_rank:\n",
    "    boundaries = gmsh.model.getBoundary(volumes, oriented=False)\n",
    "    for boundary in boundaries:\n",
    "        center_of_mass = gmsh.model.occ.getCenterOfMass(boundary[0], boundary[1])\n",
    "        if np.allclose(center_of_mass, [0, H / 2, 0]):\n",
    "            inflow.append(boundary[1])\n",
    "        elif np.allclose(center_of_mass, [L, H / 2, 0]):\n",
    "            outflow.append(boundary[1])\n",
    "        elif np.allclose(center_of_mass, [L / 2, H, 0]) or np.allclose(center_of_mass, [L / 2, 0, 0]):\n",
    "            walls.append(boundary[1])\n",
    "        else:\n",
    "            obstacle.append(boundary[1])\n",
    "    gmsh.model.addPhysicalGroup(1, walls, wall_marker)\n",
    "    gmsh.model.setPhysicalName(1, wall_marker, \"Walls\")\n",
    "    gmsh.model.addPhysicalGroup(1, inflow, inlet_marker)\n",
    "    gmsh.model.setPhysicalName(1, inlet_marker, \"Inlet\")\n",
    "    gmsh.model.addPhysicalGroup(1, outflow, outlet_marker)\n",
    "    gmsh.model.setPhysicalName(1, outlet_marker, \"Outlet\")\n",
    "    gmsh.model.addPhysicalGroup(1, obstacle, obstacle_marker)\n",
    "    gmsh.model.setPhysicalName(1, obstacle_marker, \"Obstacle\")"
   ]
  },
  {
   "cell_type": "code",
   "execution_count": 5,
   "id": "36d3a954-8884-4501-8d9d-e6408b7a4b34",
   "metadata": {},
   "outputs": [],
   "source": [
    "# This make the mesh not linear\n",
    "\n",
    "# Create distance field from obstacle.\n",
    "# Add threshold of mesh sizes based on the distance field\n",
    "# LcMax -                  /--------\n",
    "#                      /\n",
    "# LcMin -o---------/\n",
    "#        |         |       |\n",
    "#       Point    DistMin DistMax\n",
    "res_min = r / 3\n",
    "if mesh_comm.rank == model_rank:\n",
    "    distance_field = gmsh.model.mesh.field.add(\"Distance\")\n",
    "    gmsh.model.mesh.field.setNumbers(distance_field, \"EdgesList\", obstacle)\n",
    "    threshold_field = gmsh.model.mesh.field.add(\"Threshold\")\n",
    "    gmsh.model.mesh.field.setNumber(threshold_field, \"IField\", distance_field)\n",
    "    gmsh.model.mesh.field.setNumber(threshold_field, \"LcMin\", res_min)\n",
    "    gmsh.model.mesh.field.setNumber(threshold_field, \"LcMax\", 0.25 * H)\n",
    "    gmsh.model.mesh.field.setNumber(threshold_field, \"DistMin\", r)\n",
    "    gmsh.model.mesh.field.setNumber(threshold_field, \"DistMax\", 2 * H)\n",
    "    min_field = gmsh.model.mesh.field.add(\"Min\")\n",
    "    gmsh.model.mesh.field.setNumbers(min_field, \"FieldsList\", [threshold_field])\n",
    "    gmsh.model.mesh.field.setAsBackgroundMesh(min_field)"
   ]
  },
  {
   "cell_type": "code",
   "execution_count": 6,
   "id": "7689b386-f074-4927-b781-d490d9cad456",
   "metadata": {},
   "outputs": [
    {
     "name": "stdout",
     "output_type": "stream",
     "text": [
      "Info    : Meshing 1D...\n",
      "Info    : [  0%] Meshing curve 5 (Ellipse)\n",
      "Info    : [ 20%] Meshing curve 6 (Line)\n",
      "Info    : [ 40%] Meshing curve 7 (Line)\n",
      "Info    : [ 60%] Meshing curve 8 (Line)\n",
      "Info    : [ 80%] Meshing curve 9 (Line)\n",
      "Info    : Done meshing 1D (Wall 0.0121003s, CPU 0.0126s)\n",
      "Info    : Meshing 2D...\n",
      "Info    : Meshing surface 1 (Plane, Frontal-Delaunay for Quads)\n",
      "Info    : Simple recombination completed (Wall 0.00268279s, CPU 0.002388s): 103 quads, 16 triangles, 0 invalid quads, 0 quads with Q < 0.1, avg Q = 0.82361, min Q = 0.425555\n",
      "Info    : Simple recombination completed (Wall 0.00474885s, CPU 0.004693s): 460 quads, 0 triangles, 0 invalid quads, 0 quads with Q < 0.1, avg Q = 0.865979, min Q = 0.499255\n",
      "Info    : Done meshing 2D (Wall 0.0121384s, CPU 0.011349s)\n",
      "Info    : Refining mesh...\n",
      "Info    : Meshing order 2 (curvilinear on)...\n",
      "Info    : [  0%] Meshing curve 5 order 2\n",
      "Info    : [ 20%] Meshing curve 6 order 2\n",
      "Info    : [ 40%] Meshing curve 7 order 2\n",
      "Info    : [ 50%] Meshing curve 8 order 2\n",
      "Info    : [ 70%] Meshing curve 9 order 2\n",
      "Info    : [ 90%] Meshing surface 1 order 2\n",
      "Info    : Done meshing order 2 (Wall 0.00407895s, CPU 0.004291s)\n",
      "Info    : Done refining mesh (Wall 0.0044894s, CPU 0.004791s)\n",
      "Info    : 1952 nodes 2069 elements\n",
      "Info    : Meshing order 2 (curvilinear on)...\n",
      "Info    : [  0%] Meshing curve 5 order 2\n",
      "Info    : [ 20%] Meshing curve 6 order 2\n",
      "Info    : [ 40%] Meshing curve 7 order 2\n",
      "Info    : [ 50%] Meshing curve 8 order 2\n",
      "Info    : [ 70%] Meshing curve 9 order 2\n",
      "Info    : [ 90%] Meshing surface 1 order 2\n",
      "Info    : Done meshing order 2 (Wall 0.0220359s, CPU 0.020714s)\n",
      "Info    : Optimizing mesh (Netgen)...\n",
      "Info    : Done optimizing mesh (Wall 2.281e-06s, CPU 5e-06s)\n"
     ]
    }
   ],
   "source": [
    "# mesh generation\n",
    "\n",
    "if mesh_comm.rank == model_rank:\n",
    "    gmsh.option.setNumber(\"Mesh.Algorithm\", 8)\n",
    "    gmsh.option.setNumber(\"Mesh.RecombinationAlgorithm\", 2)\n",
    "    gmsh.option.setNumber(\"Mesh.RecombineAll\", 1)\n",
    "    gmsh.option.setNumber(\"Mesh.SubdivisionAlgorithm\", 1)\n",
    "    gmsh.model.mesh.generate(gdim)\n",
    "    gmsh.model.mesh.setOrder(2)\n",
    "    gmsh.model.mesh.optimize(\"Netgen\")"
   ]
  },
  {
   "cell_type": "code",
   "execution_count": 7,
   "id": "0ce45d9c-90f8-4eaf-8fc9-ddf95e824051",
   "metadata": {},
   "outputs": [],
   "source": [
    "# Loads in the mesh\n",
    "mesh, _, ft = gmshio.model_to_mesh(gmsh.model, mesh_comm, model_rank, gdim=gdim)\n",
    "ft.name = \"Facet markers\""
   ]
  },
  {
   "cell_type": "code",
   "execution_count": 8,
   "id": "5c05a4ff-8156-47d9-a895-fad587507af5",
   "metadata": {},
   "outputs": [
    {
     "name": "stdout",
     "output_type": "stream",
     "text": [
      "Info    : Writing 'test.msh'...\n",
      "Info    : Done writing 'test.msh'\n"
     ]
    }
   ],
   "source": [
    "# Write to .msh\n",
    "gmsh.write(\"test.msh\")"
   ]
  },
  {
   "cell_type": "code",
   "execution_count": 9,
   "id": "39f3b8ef-c19f-4fca-ba6b-d020c4d2b082",
   "metadata": {},
   "outputs": [],
   "source": [
    "# write to xdmf\n",
    "from dolfinx.io import XDMFFile, gmshio\n",
    "with XDMFFile(mesh.comm, \"test.xdmf\", \"w\") as file:\n",
    "    file.write_mesh(mesh)"
   ]
  },
  {
   "cell_type": "code",
   "execution_count": 10,
   "id": "69a71ac3-72df-40c4-883e-018aff31aeda",
   "metadata": {},
   "outputs": [],
   "source": [
    "# Definition of problem specific parameters\n",
    "t = 0\n",
    "T = 8                       # Final time\n",
    "dt = 1 / 1600                 # Time step size\n",
    "num_steps = int(T / dt)\n",
    "k = Constant(mesh, PETSc.ScalarType(dt))\n",
    "mu = Constant(mesh, PETSc.ScalarType(0.001))  # Dynamic viscosity\n",
    "rho = Constant(mesh, PETSc.ScalarType(1))     # Density"
   ]
  },
  {
   "cell_type": "code",
   "execution_count": 11,
   "id": "49f7634c-6836-495e-affd-bf4e1b39a185",
   "metadata": {},
   "outputs": [],
   "source": [
    "# Definitions of the boundary conditions\n",
    "v_cg2 = VectorElement(\"Lagrange\", mesh.ufl_cell(), 2)\n",
    "s_cg1 = FiniteElement(\"Lagrange\", mesh.ufl_cell(), 1)\n",
    "V = FunctionSpace(mesh, v_cg2)\n",
    "Q = FunctionSpace(mesh, s_cg1)\n",
    "\n",
    "fdim = mesh.topology.dim - 1\n",
    "\n",
    "# Define boundary conditions\n",
    "\n",
    "\n",
    "class InletVelocity():\n",
    "    def __init__(self, t):\n",
    "        self.t = t\n",
    "\n",
    "    def __call__(self, x):\n",
    "        values = np.zeros((gdim, x.shape[1]), dtype=PETSc.ScalarType)\n",
    "        values[0] = 4 * 1.5 * np.sin(self.t * np.pi / 8) * x[1] * (0.41 - x[1]) / (0.41**2)\n",
    "        return values\n",
    "\n",
    "\n",
    "# Inlet\n",
    "u_inlet = Function(V)\n",
    "inlet_velocity = InletVelocity(t)\n",
    "u_inlet.interpolate(inlet_velocity)\n",
    "bcu_inflow = dirichletbc(u_inlet, locate_dofs_topological(V, fdim, ft.find(inlet_marker)))\n",
    "# Walls\n",
    "u_nonslip = np.array((0,) * mesh.geometry.dim, dtype=PETSc.ScalarType)\n",
    "bcu_walls = dirichletbc(u_nonslip, locate_dofs_topological(V, fdim, ft.find(wall_marker)), V)\n",
    "# Obstacle\n",
    "bcu_obstacle = dirichletbc(u_nonslip, locate_dofs_topological(V, fdim, ft.find(obstacle_marker)), V)\n",
    "bcu = [bcu_inflow, bcu_obstacle, bcu_walls]\n",
    "# Outlet\n",
    "bcp_outlet = dirichletbc(PETSc.ScalarType(0), locate_dofs_topological(Q, fdim, ft.find(outlet_marker)), Q)\n",
    "bcp = [bcp_outlet]"
   ]
  },
  {
   "cell_type": "code",
   "execution_count": 19,
   "id": "df184647-896e-4f3f-8e3e-2c29f2593d09",
   "metadata": {},
   "outputs": [],
   "source": [
    "u = TrialFunction(V)\n",
    "v = TestFunction(V)\n",
    "p = TrialFunction(Q)\n",
    "q = TestFunction(Q)\n",
    "f = Constant(mesh, (PETSc.ScalarType(0), PETSc.ScalarType(0)))\n",
    "a = form([[inner(grad(u), grad(v)) * dx, inner(p, div(v)) * dx],\n",
    "          [inner(div(u), q) * dx, None]])\n",
    "L = form([inner(f, v) * dx, inner(Constant(mesh, PETSc.ScalarType(0)), q) * dx])"
   ]
  },
  {
   "cell_type": "code",
   "execution_count": 20,
   "id": "79cb83b9-e8fb-4352-b625-1fa8b595ee29",
   "metadata": {},
   "outputs": [],
   "source": [
    "a_p11 = form(inner(p, q) * dx)\n",
    "a_p = [[a[0][0], None],\n",
    "       [None, a_p11]]"
   ]
  },
  {
   "cell_type": "code",
   "execution_count": 21,
   "id": "fca2a7a9-319b-406f-b6cb-c3801ef94362",
   "metadata": {},
   "outputs": [
    {
     "ename": "NameError",
     "evalue": "name 'W' is not defined",
     "output_type": "error",
     "traceback": [
      "\u001b[0;31m---------------------------------------------------------------------------\u001b[0m",
      "\u001b[0;31mNameError\u001b[0m                                 Traceback (most recent call last)",
      "Cell \u001b[0;32mIn[21], line 1\u001b[0m\n\u001b[0;32m----> 1\u001b[0m w \u001b[38;5;241m=\u001b[39m Function(\u001b[43mW\u001b[49m)\n\u001b[1;32m      2\u001b[0m solve(a \u001b[38;5;241m==\u001b[39m L, w, bcs)\n",
      "\u001b[0;31mNameError\u001b[0m: name 'W' is not defined"
     ]
    }
   ],
   "source": [
    "w = Function(W)\n",
    "solve(a == L, w, bcs)"
   ]
  },
  {
   "cell_type": "code",
   "execution_count": null,
   "id": "63a16d41-c0aa-4061-84f4-9f9c2b9a77ca",
   "metadata": {},
   "outputs": [],
   "source": []
  }
 ],
 "metadata": {
  "kernelspec": {
   "display_name": "Python 3 (ipykernel)",
   "language": "python",
   "name": "python3"
  },
  "language_info": {
   "codemirror_mode": {
    "name": "ipython",
    "version": 3
   },
   "file_extension": ".py",
   "mimetype": "text/x-python",
   "name": "python",
   "nbconvert_exporter": "python",
   "pygments_lexer": "ipython3",
   "version": "3.10.13"
  }
 },
 "nbformat": 4,
 "nbformat_minor": 5
}
