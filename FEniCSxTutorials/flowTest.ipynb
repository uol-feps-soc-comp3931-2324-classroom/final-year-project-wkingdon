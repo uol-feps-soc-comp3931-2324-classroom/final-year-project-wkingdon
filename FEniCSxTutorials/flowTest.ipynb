{
 "cells": [
  {
   "cell_type": "markdown",
   "id": "1277c7bc-eb3d-4d8d-8827-8648019e3fcf",
   "metadata": {},
   "source": [
    "https://docs.fenicsproject.org/dolfinx/v0.7.3/python/demos/demo_stokes.html#nested-matrix-solver  \n",
    "https://github.com/unifem/fenics-notes/blob/master/notebooks/advection-diffusion-reaction.ipynb  \n",
    "https://fenicsproject.org/pub/tutorial/html/._ftut1010.html  \n"
   ]
  },
  {
   "cell_type": "code",
   "execution_count": 6,
   "id": "78e9f354-1864-4b56-a552-b721c38183da",
   "metadata": {},
   "outputs": [],
   "source": [
    "from mpi4py import MPI\n",
    "from petsc4py import PETSc\n",
    "\n",
    "import numpy as np\n",
    "\n",
    "import ufl\n",
    "from basix.ufl import element\n",
    "from dolfinx import fem, io, mesh, plot, la\n",
    "from dolfinx.fem.petsc import assemble_matrix_block, assemble_vector_block, LinearProblem\n",
    "from dolfinx.io import XDMFFile\n",
    "from ufl import div, dx, grad, inner\n",
    "\n",
    "import pyvista\n"
   ]
  },
  {
   "cell_type": "code",
   "execution_count": 7,
   "id": "22af285d-8b7b-4417-99a8-c465112ca27a",
   "metadata": {},
   "outputs": [],
   "source": [
    "# Create mesh\n",
    "msh = mesh.create_rectangle(MPI.COMM_WORLD,\n",
    "                       [np.array([0, 0]), np.array([1, 1])],\n",
    "                       [16, 16],\n",
    "                       mesh.CellType.triangle)\n",
    "\n",
    "\n",
    "# Function to mark x = 0, x = 1 and y = 0\n",
    "def noslip_boundary(x):\n",
    "    return np.logical_or(np.logical_or(np.isclose(x[0], 0.0),\n",
    "                                       np.isclose(x[0], 1.0)),\n",
    "                         np.isclose(x[1], 0.0))\n",
    "\n",
    "\n",
    "# Function to mark the lid (y = 1)\n",
    "def lid(x):\n",
    "    return np.isclose(x[1], 1.0)\n",
    "\n",
    "\n",
    "# Lid velocity\n",
    "def lid_velocity_expression(x):\n",
    "    return np.stack((np.ones(x.shape[1]), np.zeros(x.shape[1]))) * 1"
   ]
  },
  {
   "cell_type": "code",
   "execution_count": 20,
   "id": "4df79a2b-52e2-4278-86f3-f5af84ee53f0",
   "metadata": {},
   "outputs": [],
   "source": [
    "P2 = element(\"Lagrange\", msh.basix_cell(), 2, shape=(msh.geometry.dim,))\n",
    "P1 = element(\"Lagrange\", msh.basix_cell(), 1)\n",
    "V, Q = fem.functionspace(msh, P2), fem.functionspace(msh, P1)"
   ]
  },
  {
   "cell_type": "code",
   "execution_count": 9,
   "id": "256f32d8-2bc4-473c-8743-d1e79c7eefa7",
   "metadata": {},
   "outputs": [],
   "source": [
    "# define boundary conditions\n",
    "\n",
    "# No-slip boundary condition for velocity field (`V`) on boundaries\n",
    "# where x = 0, x = 1, and y = 0\n",
    "noslip = np.zeros(msh.geometry.dim, dtype=PETSc.ScalarType)\n",
    "facets = mesh.locate_entities_boundary(msh, 1, noslip_boundary)\n",
    "bc0 = fem.dirichletbc(noslip, fem.locate_dofs_topological(V, 1, facets), V)\n",
    "\n",
    "# Driving velocity condition u = (1, 0) on top boundary (y = 1)\n",
    "lid_velocity = fem.Function(V)\n",
    "lid_velocity.interpolate(lid_velocity_expression)\n",
    "facets = mesh.locate_entities_boundary(msh, 1, lid)\n",
    "bc1 = fem.dirichletbc(lid_velocity, fem.locate_dofs_topological(V, 1, facets))\n",
    "\n",
    "# Collect Dirichlet boundary conditions\n",
    "bcs = [bc0, bc1]"
   ]
  },
  {
   "cell_type": "code",
   "execution_count": 16,
   "id": "ca5292f5-cad5-4d60-b494-8dda38b5af32",
   "metadata": {},
   "outputs": [],
   "source": [
    "# Define variational problem\n",
    "(u, p) = ufl.TrialFunction(V), ufl.TrialFunction(Q)\n",
    "(v, q) = ufl.TestFunction(V), ufl.TestFunction(Q)\n",
    "f = fem.Constant(msh, (PETSc.ScalarType(0), PETSc.ScalarType(0)))\n",
    "\n",
    "a = fem.form([[inner(grad(u), grad(v)) * dx, inner(p, div(v)) * dx],\n",
    "          [inner(div(u), q) * dx, None]])\n",
    "L = fem.form([inner(f, v) * dx, inner(fem.Constant(msh, PETSc.ScalarType(0)), q) * dx])"
   ]
  },
  {
   "cell_type": "code",
   "execution_count": 11,
   "id": "0b1b16fa-8893-469a-b914-795926400fe3",
   "metadata": {},
   "outputs": [],
   "source": [
    "a_p11 = fem.form(inner(p, q) * dx)\n",
    "a_p = [[a[0][0], None],\n",
    "       [None, a_p11]]"
   ]
  },
  {
   "cell_type": "code",
   "execution_count": 18,
   "id": "29e71739-b314-4465-95df-24897a0dce4a",
   "metadata": {},
   "outputs": [
    {
     "name": "stderr",
     "output_type": "stream",
     "text": [
      "Exception ignored in: <function LinearProblem.__del__ at 0x7fcb057c7ac0>\n",
      "Traceback (most recent call last):\n",
      "  File \"/home/wrk/miniconda3/envs/ProjEnv/lib/python3.10/site-packages/dolfinx/fem/petsc.py\", line 627, in __del__\n",
      "    self._solver.destroy()\n",
      "AttributeError: 'LinearProblem' object has no attribute '_solver'\n"
     ]
    },
    {
     "ename": "TypeError",
     "evalue": "LinearProblem.__init__() missing 1 required positional argument: 'L'",
     "output_type": "error",
     "traceback": [
      "\u001b[0;31m---------------------------------------------------------------------------\u001b[0m",
      "\u001b[0;31mTypeError\u001b[0m                                 Traceback (most recent call last)",
      "Cell \u001b[0;32mIn[18], line 1\u001b[0m\n\u001b[0;32m----> 1\u001b[0m \u001b[43mLinearProblem\u001b[49m\u001b[43m(\u001b[49m\u001b[43ma\u001b[49m\u001b[43m \u001b[49m\u001b[38;5;241;43m==\u001b[39;49m\u001b[43m \u001b[49m\u001b[43mL\u001b[49m\u001b[43m)\u001b[49m\n",
      "\u001b[0;31mTypeError\u001b[0m: LinearProblem.__init__() missing 1 required positional argument: 'L'"
     ]
    }
   ],
   "source": [
    "LinearProblem(a,L)"
   ]
  },
  {
   "cell_type": "code",
   "execution_count": 7,
   "id": "13d5f98a-bc39-483b-88fb-b42fca6fb677",
   "metadata": {},
   "outputs": [
    {
     "name": "stdout",
     "output_type": "stream",
     "text": [
      "(A) Norm of velocity coefficient vector (nested, iterative): 9.259397838352873\n",
      "(A) Norm of pressure coefficient vector (nested, iterative): 0.24049500012348662\n"
     ]
    }
   ],
   "source": [
    "\"\"\"Solve the Stokes problem using nest matrices and an iterative solver.\"\"\"\n",
    "\n",
    "# Assemble nested matrix operators\n",
    "A = fem.petsc.assemble_matrix_nest(a, bcs=bcs)\n",
    "A.assemble()\n",
    "\n",
    "# Create a nested matrix P to use as the preconditioner. The\n",
    "# top-left block of P is shared with the top-left block of A. The\n",
    "# bottom-right diagonal entry is assembled from the form a_p11:\n",
    "P11 = fem.petsc.assemble_matrix(a_p11, [])\n",
    "P = PETSc.Mat().createNest([[A.getNestSubMatrix(0, 0), None], [None, P11]])\n",
    "P.assemble()\n",
    "\n",
    "A00 = A.getNestSubMatrix(0, 0)\n",
    "A00.setOption(PETSc.Mat.Option.SPD, True)\n",
    "\n",
    "P00, P11 = P.getNestSubMatrix(0, 0), P.getNestSubMatrix(1, 1)\n",
    "P00.setOption(PETSc.Mat.Option.SPD, True)\n",
    "P11.setOption(PETSc.Mat.Option.SPD, True)\n",
    "\n",
    "# Assemble right-hand side vector\n",
    "b = fem.petsc.assemble_vector_nest(L)\n",
    "\n",
    "# Modify ('lift') the RHS for Dirichlet boundary conditions\n",
    "fem.petsc.apply_lifting_nest(b, a, bcs=bcs)\n",
    "\n",
    "# Sum contributions for vector entries that are share across\n",
    "# parallel processes\n",
    "for b_sub in b.getNestSubVecs():\n",
    "    b_sub.ghostUpdate(addv=PETSc.InsertMode.ADD, mode=PETSc.ScatterMode.REVERSE)\n",
    "\n",
    "# Set Dirichlet boundary condition values in the RHS vector\n",
    "bcs0 = fem.bcs_by_block(fem.extract_function_spaces(L), bcs)\n",
    "fem.petsc.set_bc_nest(b, bcs0)\n",
    "\n",
    "# The pressure field is determined only up to a constant. We supply\n",
    "# a vector that spans the nullspace to the solver, and any component\n",
    "# of the solution in this direction will be eliminated during the\n",
    "# solution process.\n",
    "null_vec = fem.petsc.create_vector_nest(L)\n",
    "\n",
    "# Set velocity part to zero and the pressure part to a non-zero\n",
    "# constant\n",
    "null_vecs = null_vec.getNestSubVecs()\n",
    "null_vecs[0].set(0.0), null_vecs[1].set(1.0)\n",
    "\n",
    "# Normalize the vector that spans the nullspace, create a nullspace\n",
    "# object, and attach it to the matrix\n",
    "null_vec.normalize()\n",
    "nsp = PETSc.NullSpace().create(vectors=[null_vec])\n",
    "assert nsp.test(A)\n",
    "A.setNullSpace(nsp)\n",
    "\n",
    "# Create a MINRES Krylov solver and a block-diagonal preconditioner\n",
    "# using PETSc's additive fieldsplit preconditioner\n",
    "ksp = PETSc.KSP().create(msh.comm)\n",
    "ksp.setOperators(A, P)\n",
    "ksp.setType(\"minres\")\n",
    "ksp.setTolerances(rtol=1e-9)\n",
    "ksp.getPC().setType(\"fieldsplit\")\n",
    "ksp.getPC().setFieldSplitType(PETSc.PC.CompositeType.ADDITIVE)\n",
    "\n",
    "# Define the matrix blocks in the preconditioner with the velocity\n",
    "# and pressure matrix index sets\n",
    "nested_IS = P.getNestISs()\n",
    "ksp.getPC().setFieldSplitIS((\"u\", nested_IS[0][0]), (\"p\", nested_IS[0][1]))\n",
    "\n",
    "# Set the preconditioners for each block. For the top-left\n",
    "# Laplace-type operator we use algebraic multigrid. For the\n",
    "# lower-right block we use a Jacobi preconditioner. By default, GAMG\n",
    "# will infer the correct near-nullspace from the matrix block size.\n",
    "ksp_u, ksp_p = ksp.getPC().getFieldSplitSubKSP()\n",
    "ksp_u.setType(\"preonly\")\n",
    "ksp_u.getPC().setType(\"gamg\")\n",
    "ksp_p.setType(\"preonly\")\n",
    "ksp_p.getPC().setType(\"jacobi\")\n",
    "\n",
    "# Create finite element {py:class}`Function <dolfinx.fem.Function>`s\n",
    "# for the velocity (on the space `V`) and for the pressure (on the\n",
    "# space `Q`). The vectors for `u` and `p` are combined to form a\n",
    "# nested vector and the system is solved.\n",
    "u, p = fem.Function(V), fem.Function(Q)\n",
    "x = PETSc.Vec().createNest([la.create_petsc_vector_wrap(u.x),\n",
    "                            la.create_petsc_vector_wrap(p.x)])\n",
    "ksp.solve(b, x)\n",
    "\n",
    "# Save solution to file in XDMF format for visualization, e.g. with\n",
    "# ParaView. Before writing to file, ghost values are updated using\n",
    "# `scatter_forward`.\n",
    "with XDMFFile(MPI.COMM_WORLD, \"out_stokes/velocity.xdmf\", \"w\") as ufile_xdmf:\n",
    "    u.x.scatter_forward()\n",
    "    P1 = element(\"Lagrange\", msh.basix_cell(), 1, shape=(msh.geometry.dim,))\n",
    "    u1 = fem.Function(fem.functionspace(msh, P1))\n",
    "    u1.interpolate(u)\n",
    "    ufile_xdmf.write_mesh(msh)\n",
    "    ufile_xdmf.write_function(u1)\n",
    "\n",
    "with XDMFFile(MPI.COMM_WORLD, \"out_stokes/pressure.xdmf\", \"w\") as pfile_xdmf:\n",
    "    p.x.scatter_forward()\n",
    "    pfile_xdmf.write_mesh(msh)\n",
    "    pfile_xdmf.write_function(p)\n",
    "\n",
    "# Compute norms of the solution vectors\n",
    "norm_u = u.x.norm()\n",
    "norm_p = p.x.norm()\n",
    "if MPI.COMM_WORLD.rank == 0:\n",
    "    print(f\"(A) Norm of velocity coefficient vector (nested, iterative): {norm_u}\")\n",
    "    print(f\"(A) Norm of pressure coefficient vector (nested, iterative): {norm_p}\")\n",
    "\n"
   ]
  },
  {
   "cell_type": "code",
   "execution_count": 10,
   "id": "d1ad1b40-e686-45b3-949d-17e1f07c1f64",
   "metadata": {},
   "outputs": [
    {
     "data": {
      "application/vnd.jupyter.widget-view+json": {
       "model_id": "e71b69ffd4d744ea869b29f5af3068fe",
       "version_major": 2,
       "version_minor": 0
      },
      "text/plain": [
       "Widget(value='<iframe src=\"http://localhost:37493/index.html?ui=P_0x7f08b78f46d0_2&reconnect=auto\" class=\"pyvi…"
      ]
     },
     "metadata": {},
     "output_type": "display_data"
    }
   ],
   "source": [
    "pyvista.set_jupyter_backend('client')\n",
    "\n",
    "pyvista.start_xvfb()\n",
    "topology, cell_types, geometry = plot.vtk_mesh(V)\n",
    "values = np.zeros((geometry.shape[0], 3), dtype=np.float64)\n",
    "values[:, :len(u)] = u.x.array.real.reshape((geometry.shape[0], len(u)))\n",
    "\n",
    "# Create a point cloud of glyphs\n",
    "function_grid = pyvista.UnstructuredGrid(topology, cell_types, geometry)\n",
    "function_grid[\"u\"] = values\n",
    "glyphs = function_grid.glyph(orient=\"u\", factor=0.2)\n",
    "\n",
    "# Create pyvist grid to show pressure\n",
    "p_topology, p_cell_types, p_geometry = plot.vtk_mesh(Q)\n",
    "pressure_grid = pyvista.UnstructuredGrid(topology, cell_types, geometry)\n",
    "pressure_grid.point_data[\"p\"] = values\n",
    "pressure_grid.set_active_scalars(\"p\")\n",
    "\n",
    "# Create a pyvista-grid for the mesh\n",
    "grid = pyvista.UnstructuredGrid(*plot.vtk_mesh(msh, msh.topology.dim))\n",
    "\n",
    "# Create plotter\n",
    "plotter = pyvista.Plotter(notebook=True)\n",
    "#plotter.add_mesh(pressure_grid, show_edges=True)\n",
    "plotter.add_mesh(glyphs)\n",
    "plotter.view_xy()\n",
    "\n",
    "plotter.show()\n",
    "#fig_as_array = plotter.screenshot(\"glyphs2.png\")"
   ]
  },
  {
   "cell_type": "code",
   "execution_count": 9,
   "id": "23abdce3-e60e-42da-b9b0-375bb70df09a",
   "metadata": {},
   "outputs": [
    {
     "ename": "RuntimeError",
     "evalue": "All functions in VTXWriter must have the same element type.",
     "output_type": "error",
     "traceback": [
      "\u001b[0;31m---------------------------------------------------------------------------\u001b[0m",
      "\u001b[0;31mAttributeError\u001b[0m                            Traceback (most recent call last)",
      "File \u001b[0;32m~/miniconda3/envs/ProjEnv/lib/python3.10/site-packages/dolfinx/io/utils.py:91\u001b[0m, in \u001b[0;36mVTXWriter.__init__\u001b[0;34m(self, comm, filename, output, engine)\u001b[0m\n\u001b[1;32m     88\u001b[0m \u001b[38;5;28;01mtry\u001b[39;00m:\n\u001b[1;32m     89\u001b[0m     \u001b[38;5;66;03m# Input is a mesh\u001b[39;00m\n\u001b[1;32m     90\u001b[0m     \u001b[38;5;28mself\u001b[39m\u001b[38;5;241m.\u001b[39m_cpp_object \u001b[38;5;241m=\u001b[39m _vtxwriter(\n\u001b[0;32m---> 91\u001b[0m         comm, filename, \u001b[43moutput\u001b[49m\u001b[38;5;241;43m.\u001b[39;49m\u001b[43m_cpp_object\u001b[49m, engine)  \u001b[38;5;66;03m# type: ignore[union-attr]\u001b[39;00m\n\u001b[1;32m     92\u001b[0m \u001b[38;5;28;01mexcept\u001b[39;00m (\u001b[38;5;167;01mNotImplementedError\u001b[39;00m, \u001b[38;5;167;01mTypeError\u001b[39;00m, \u001b[38;5;167;01mAttributeError\u001b[39;00m):\n\u001b[1;32m     93\u001b[0m     \u001b[38;5;66;03m# Input is a single function or a list of functions\u001b[39;00m\n",
      "\u001b[0;31mAttributeError\u001b[0m: 'list' object has no attribute '_cpp_object'",
      "\nDuring handling of the above exception, another exception occurred:\n",
      "\u001b[0;31mRuntimeError\u001b[0m                              Traceback (most recent call last)",
      "Cell \u001b[0;32mIn[9], line 1\u001b[0m\n\u001b[0;32m----> 1\u001b[0m \u001b[38;5;28;01mwith\u001b[39;00m \u001b[43mio\u001b[49m\u001b[38;5;241;43m.\u001b[39;49m\u001b[43mVTXWriter\u001b[49m\u001b[43m(\u001b[49m\u001b[43mmsh\u001b[49m\u001b[38;5;241;43m.\u001b[39;49m\u001b[43mcomm\u001b[49m\u001b[43m,\u001b[49m\u001b[43m \u001b[49m\u001b[38;5;124;43m\"\u001b[39;49m\u001b[38;5;124;43msolution.bp\u001b[39;49m\u001b[38;5;124;43m\"\u001b[39;49m\u001b[43m,\u001b[49m\u001b[43m \u001b[49m\u001b[43m[\u001b[49m\u001b[43mu\u001b[49m\u001b[43m,\u001b[49m\u001b[43m \u001b[49m\u001b[43mp\u001b[49m\u001b[43m]\u001b[49m\u001b[43m,\u001b[49m\u001b[43m \u001b[49m\u001b[43mengine\u001b[49m\u001b[38;5;241;43m=\u001b[39;49m\u001b[38;5;124;43m\"\u001b[39;49m\u001b[38;5;124;43mBP4\u001b[39;49m\u001b[38;5;124;43m\"\u001b[39;49m\u001b[43m)\u001b[49m \u001b[38;5;28;01mas\u001b[39;00m vtx:\n\u001b[1;32m      2\u001b[0m   vtx\u001b[38;5;241m.\u001b[39mwrite(\u001b[38;5;241m0.0\u001b[39m)\n",
      "File \u001b[0;32m~/miniconda3/envs/ProjEnv/lib/python3.10/site-packages/dolfinx/io/utils.py:94\u001b[0m, in \u001b[0;36mVTXWriter.__init__\u001b[0;34m(self, comm, filename, output, engine)\u001b[0m\n\u001b[1;32m     90\u001b[0m     \u001b[38;5;28mself\u001b[39m\u001b[38;5;241m.\u001b[39m_cpp_object \u001b[38;5;241m=\u001b[39m _vtxwriter(\n\u001b[1;32m     91\u001b[0m         comm, filename, output\u001b[38;5;241m.\u001b[39m_cpp_object, engine)  \u001b[38;5;66;03m# type: ignore[union-attr]\u001b[39;00m\n\u001b[1;32m     92\u001b[0m \u001b[38;5;28;01mexcept\u001b[39;00m (\u001b[38;5;167;01mNotImplementedError\u001b[39;00m, \u001b[38;5;167;01mTypeError\u001b[39;00m, \u001b[38;5;167;01mAttributeError\u001b[39;00m):\n\u001b[1;32m     93\u001b[0m     \u001b[38;5;66;03m# Input is a single function or a list of functions\u001b[39;00m\n\u001b[0;32m---> 94\u001b[0m     \u001b[38;5;28mself\u001b[39m\u001b[38;5;241m.\u001b[39m_cpp_object \u001b[38;5;241m=\u001b[39m \u001b[43m_vtxwriter\u001b[49m\u001b[43m(\u001b[49m\u001b[43mcomm\u001b[49m\u001b[43m,\u001b[49m\u001b[43m \u001b[49m\u001b[43mfilename\u001b[49m\u001b[43m,\u001b[49m\u001b[43m \u001b[49m\u001b[43m_extract_cpp_functions\u001b[49m\u001b[43m(\u001b[49m\n\u001b[1;32m     95\u001b[0m \u001b[43m        \u001b[49m\u001b[43moutput\u001b[49m\u001b[43m)\u001b[49m\u001b[43m,\u001b[49m\u001b[43m \u001b[49m\u001b[43mengine\u001b[49m\u001b[43m)\u001b[49m\n",
      "\u001b[0;31mRuntimeError\u001b[0m: All functions in VTXWriter must have the same element type."
     ]
    }
   ],
   "source": [
    "with io.VTXWriter(msh.comm, \"solution.bp\", [u, p], engine=\"BP4\") as vtx:\n",
    "  vtx.write(0.0)"
   ]
  },
  {
   "cell_type": "markdown",
   "id": "62269864-092d-4bca-bd91-c1ab6b9c35f3",
   "metadata": {},
   "source": [
    "# TODO\n",
    "- calculate reynolds number\n",
    "- visualise in different ways\n",
    "- ADR"
   ]
  },
  {
   "cell_type": "code",
   "execution_count": null,
   "id": "1d26fbf6-46a3-4594-9ce7-9c57cfe2cb29",
   "metadata": {},
   "outputs": [],
   "source": []
  }
 ],
 "metadata": {
  "kernelspec": {
   "display_name": "Python 3 (ipykernel)",
   "language": "python",
   "name": "python3"
  },
  "language_info": {
   "codemirror_mode": {
    "name": "ipython",
    "version": 3
   },
   "file_extension": ".py",
   "mimetype": "text/x-python",
   "name": "python",
   "nbconvert_exporter": "python",
   "pygments_lexer": "ipython3",
   "version": "3.10.13"
  }
 },
 "nbformat": 4,
 "nbformat_minor": 5
}
