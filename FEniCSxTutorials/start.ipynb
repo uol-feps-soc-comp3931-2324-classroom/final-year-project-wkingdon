{
 "cells": [
  {
   "attachments": {},
   "cell_type": "markdown",
   "metadata": {},
   "source": [
    "# Solving the Poisson equation\n",
    "follows this tutorial: https://jsdokken.com/dolfinx-tutorial/chapter1/fundamentals_code.html"
   ]
  },
  {
   "cell_type": "code",
   "execution_count": 1,
   "metadata": {},
   "outputs": [
    {
     "name": "stdout",
     "output_type": "stream",
     "text": [
      "DOLFINx version: 0.7.2 based on GIT commit: 4604094c8c3e6dbf6034b25df5ee3ccd1ec2d3b3 of https://github.com/FEniCS/dolfinx/\n"
     ]
    }
   ],
   "source": [
    "import dolfinx\n",
    "print(f\"DOLFINx version: {dolfinx.__version__} based on GIT commit: {dolfinx.git_commit_hash} of https://github.com/FEniCS/dolfinx/\")"
   ]
  },
  {
   "cell_type": "code",
   "execution_count": 2,
   "metadata": {},
   "outputs": [],
   "source": [
    "from mpi4py import MPI\n",
    "from dolfinx import mesh\n",
    "# Unit square is [0,1] x [0,1]\n",
    "# MPI argument indicates how to parallelise computation\n",
    "# this will split the mesh into 8x8\n",
    "# Quadralateral cells are 4 sisded\n",
    "domain = mesh.create_unit_square(MPI.COMM_WORLD, 8, 8, mesh.CellType.quadrilateral)"
   ]
  },
  {
   "cell_type": "code",
   "execution_count": 3,
   "metadata": {},
   "outputs": [],
   "source": [
    "from dolfinx.fem import FunctionSpace\n",
    "# 1st argument is the mesh to act on\n",
    "# 2nd argument specifies the 'family' of the element \n",
    "#3 rd argument is the degree (i.e. 2d for a vector 1d for pressure)\n",
    "V = FunctionSpace(domain, (\"Lagrange\", 1))\n",
    "\n",
    "from dolfinx import fem\n",
    "uD = fem.Function(V)\n",
    "uD.interpolate(lambda x: 1 + x[0]**2 + 2 * x[1]**2)"
   ]
  },
  {
   "cell_type": "code",
   "execution_count": 4,
   "metadata": {},
   "outputs": [],
   "source": [
    "import numpy\n",
    "# Create facet to cell connectivity required to determine boundary facets\n",
    "tdim = domain.topology.dim\n",
    "fdim = tdim - 1\n",
    "domain.topology.create_connectivity(fdim, tdim)\n",
    "boundary_facets = mesh.exterior_facet_indices(domain.topology)"
   ]
  },
  {
   "cell_type": "code",
   "execution_count": 5,
   "metadata": {},
   "outputs": [],
   "source": [
    "boundary_dofs = fem.locate_dofs_topological(V, fdim, boundary_facets)\n",
    "bc = fem.dirichletbc(uD, boundary_dofs)"
   ]
  },
  {
   "cell_type": "code",
   "execution_count": 6,
   "metadata": {},
   "outputs": [],
   "source": [
    "import ufl\n",
    "u = ufl.TrialFunction(V)\n",
    "v = ufl.TestFunction(V)"
   ]
  },
  {
   "cell_type": "code",
   "execution_count": 7,
   "metadata": {},
   "outputs": [],
   "source": [
    "from dolfinx import default_scalar_type\n",
    "f = fem.Constant(domain, default_scalar_type(-6))"
   ]
  },
  {
   "cell_type": "code",
   "execution_count": 8,
   "metadata": {},
   "outputs": [],
   "source": [
    "a = ufl.dot(ufl.grad(u), ufl.grad(v)) * ufl.dx\n",
    "L = f * v * ufl.dx"
   ]
  },
  {
   "cell_type": "code",
   "execution_count": 9,
   "metadata": {},
   "outputs": [],
   "source": [
    "from dolfinx.fem.petsc import LinearProblem\n",
    "problem = LinearProblem(a, L, bcs=[bc], petsc_options={\"ksp_type\": \"preonly\", \"pc_type\": \"lu\"})\n",
    "uh = problem.solve()"
   ]
  },
  {
   "cell_type": "code",
   "execution_count": 10,
   "metadata": {},
   "outputs": [],
   "source": [
    "V2 = fem.FunctionSpace(domain, (\"Lagrange\", 2))\n",
    "uex = fem.Function(V2)\n",
    "uex.interpolate(lambda x: 1 + x[0]**2 + 2 * x[1]**2)"
   ]
  },
  {
   "cell_type": "code",
   "execution_count": 11,
   "metadata": {},
   "outputs": [],
   "source": [
    "L2_error = fem.form(ufl.inner(uh - uex, uh - uex) * ufl.dx)\n",
    "error_local = fem.assemble_scalar(L2_error)\n",
    "error_L2 = numpy.sqrt(domain.comm.allreduce(error_local, op=MPI.SUM))"
   ]
  },
  {
   "cell_type": "code",
   "execution_count": 12,
   "metadata": {},
   "outputs": [
    {
     "name": "stdout",
     "output_type": "stream",
     "text": [
      "Error_L2 : 8.24e-03\n",
      "Error_max : 2.00e-15\n"
     ]
    }
   ],
   "source": [
    "error_max = numpy.max(numpy.abs(uD.x.array-uh.x.array))\n",
    "# Only print the error on one process\n",
    "if domain.comm.rank == 0:\n",
    "    print(f\"Error_L2 : {error_L2:.2e}\")\n",
    "    print(f\"Error_max : {error_max:.2e}\")"
   ]
  },
  {
   "cell_type": "code",
   "execution_count": 13,
   "metadata": {},
   "outputs": [
    {
     "name": "stdout",
     "output_type": "stream",
     "text": [
      "client\n"
     ]
    }
   ],
   "source": [
    "import pyvista\n",
    "pyvista.set_jupyter_backend(\"client\")\n",
    "print(pyvista.global_theme.jupyter_backend)\n"
   ]
  },
  {
   "cell_type": "code",
   "execution_count": 14,
   "metadata": {},
   "outputs": [],
   "source": [
    "from dolfinx import plot\n",
    "pyvista.start_xvfb()\n",
    "topology, cell_types, geometry = plot.vtk_mesh(domain, tdim)\n",
    "grid = pyvista.UnstructuredGrid(topology, cell_types, geometry)"
   ]
  },
  {
   "cell_type": "code",
   "execution_count": 15,
   "metadata": {},
   "outputs": [
    {
     "data": {
      "application/vnd.jupyter.widget-view+json": {
       "model_id": "0cb49f7f95704e5285d38399f94234f9",
       "version_major": 2,
       "version_minor": 0
      },
      "text/plain": [
       "Widget(value='<iframe src=\"http://localhost:39385/index.html?ui=P_0x7fab3f9ce260_0&reconnect=auto\" class=\"pyvi…"
      ]
     },
     "metadata": {},
     "output_type": "display_data"
    }
   ],
   "source": [
    "plotter = pyvista.Plotter(notebook=True)\n",
    "plotter.add_mesh(grid, show_edges=True)\n",
    "plotter.view_xy()\n",
    "plotter.show()"
   ]
  },
  {
   "cell_type": "code",
   "execution_count": 16,
   "metadata": {},
   "outputs": [],
   "source": [
    "u_topology, u_cell_types, u_geometry = plot.vtk_mesh(V)"
   ]
  },
  {
   "cell_type": "code",
   "execution_count": 17,
   "metadata": {},
   "outputs": [
    {
     "data": {
      "application/vnd.jupyter.widget-view+json": {
       "model_id": "79f83abc04b0411488ddb04646b76478",
       "version_major": 2,
       "version_minor": 0
      },
      "text/plain": [
       "Widget(value='<iframe src=\"http://localhost:39385/index.html?ui=P_0x7fab299735b0_1&reconnect=auto\" class=\"pyvi…"
      ]
     },
     "metadata": {},
     "output_type": "display_data"
    },
    {
     "name": "stdout",
     "output_type": "stream",
     "text": [
      " JS Error => Malformed message:  {\"wslink\": \"1.0\", \"id\": \"publish:trame.vtk.delta:0\", \"result\": {\"parent\": \"0x0\", \"id\": 2, \"type\": \"vtkXOpenGLRenderWindow\", \"properties\": {\"numberOfLayers\": 2}, \"dependencies\": [{\"parent\": \"00005597160d3e00\", \"id\": \"00005597160d0d10\", \"type\": \"vtkOpenGLRenderer\", \"properties\": {\"background\": [1.0, 1.0, 1.0], \"background2\": [0.2, 0.2, 0.2], \"viewport\": [0.0, 0.0, 1.0, 1.0], \"twoSidedLighting\": 1, \"lightFollowCamera\": 1, \"layer\": 0, \"preserveColorBuffer\": 0, \"preserveDepthBuffer\": 0, \"nearClippingPlaneTolerance\": 0.001, \"clippingRangeExpansion\": 0.5, \"useShadows\": 0, \"useDepthPeeling\": 0, \"occlusionRatio\": 0.0, \"maximumNumberOfPeels\": 4, \"interactive\": 1}, \"dependencies\": [{\"parent\": \"00005597160d0d10\", \"id\": \"00005597160b4a00\", \"type\": \"vtkOpenGLCamera\", \"properties\": {\"focalPoint\": [0.5000000000000001, 0.5000000000000001, 0.0], \"position\": [0.5000000000000001, 0.5000000000000001, 2.732050807568878], \"viewUp\": [0.0, 1.0, 0.0], \"clippingRange\": [2.559052188786983, 2.9564102969784147]}}, {\"parent\": \"00005597160d0d10\", \"id\": \"0000559716147400\", \"type\": \"vtkOpenGLActor\", \"properties\": {\"visibility\": 1, \"pickable\": 1, \"dragable\": 1, \"useBounds\": true, \"origin\": [0.0, 0.0, 0.0], \"position\": [0.0, 0.0, 0.0], \"scale\": [1.0, 1.0, 1.0], \"forceOpaque\": false, \"forceTranslucent\": false, \"userMatrix\": [1.0, 0.0, 0.0, 0.0, 0.0, 1.0, 0.0, 0.0, 0.0, 0.0, 1.0, 0.0, 0.0, 0.0, 0.0, 1.0]}, \"calls\": [[\"setMapper\", [\"instance:${0000559716139ca0}\"]], [\"setProperty\", [\"instance:${00005597160b4ce0}\"]]], \"dependencies\": [{\"parent\": \"0000559716147400\", \"id\": \"0000559716139ca0\", \"type\": \"vtkMapper\", \"properties\": {\"resolveCoincidentTopology\": 0, \"renderTime\": 0.0, \"arrayAccessMode\": 0, \"scalarRange\": [1.0, 3.999999999999999], \"useLookupTableScalarRange\": 0, \"scalarVisibility\": 1, \"colorByArrayName\": -1, \"colorMode\": 1, \"scalarMode\": 1, \"interpolateScalarsBeforeMapping\": 1}, \"calls\": [[\"setInputData\", [\"instance:${0000559716139ca0-dataset}\"]], [\"setLookupTable\", [\"instance:${0000559715d86780}\"]]], \"dependencies\": [{\"parent\": \"0000559716139ca0\", \"id\": \"0000559716139ca0-dataset\", \"type\": \"vtkPolyData\", \"properties\": {\"points\": {\"hash\": \"4f072cdd1244e6f100b6613909ef1ee5_243d\", \"vtkClass\": \"vtkPoints\", \"name\": \"Points\", \"dataType\": \"Float64Array\", \"numberOfComponents\": 3, \"size\": 243, \"ranges\": [{\"min\": -3.469446951953614e-18, \"max\": 1.0000000000000002, \"component\": null}, {\"min\": -3.469446951953614e-18, \"max\": 1.0000000000000002, \"component\": null}, {\"min\": 0.0, \"max\": 0.0, \"component\": null}, {\"min\": 7.757919228897728e-18, \"max\": 1.414213562373095, \"component\": null}]}, \"polys\": {\"hash\": \"aa63416848b797a39001c8a9189a1852_320L\", \"vtkClass\": \"vtkCellArray\", \"name\": null, \"dataType\": \"Uint32Array\", \"numberOfComponents\": 1, \"size\": 320, \"ranges\": [{\"min\": 0.0, \"max\": 80.0, \"component\": null}]}, \"fields\": [{\"hash\": \"3f8cf956a776007e61fcbcf512e6cd77_81d\", \"vtkClass\": \"vtkDataArray\", \"name\": \"u\", \"dataType\": \"Float64Array\", \"numberOfComponents\": 1, \"size\": 81, \"ranges\": [{\"min\": 1.0, \"max\": 3.999999999999999, \"component\": null}], \"location\": \"pointData\", \"registration\": \"setScalars\"}]}}, {\"parent\": \"0000559716139ca0\", \"id\": \"0000559715d86780\", \"type\": \"vtkLookupTable\", \"properties\": {\"numberOfColors\": 256, \"valueRange\": [1.0, 3.999999999999999], \"hueRange\": [0.5, 0], \"saturationRange\": [1.0, 1.0], \"nanColor\": [0.6627450980392157, 0.6627450980392157, 0.6627450980392157, 1.0], \"belowRangeColor\": [0.0, 0.0, 0.0, 1.0], \"aboveRangeColor\": [1.0, 1.0, 1.0, 1.0], \"useAboveRangeColor\": false, \"useBelowRangeColor\": false, \"alpha\": 1.0, \"vectorSize\": -1, \"vectorComponent\": 0, \"vectorMode\": 1, \"indexedLookup\": 0, \"table\": [[68, 1, 84, 255], [68, 2, 85, 255], [68, 3, 87, 255], [69, 5, 88, 255], [69, 6, 90, 255], [69, 8, 91, 255], [70, 9, 92, 255], [70, 11, 94, 255], [70, 12, 95, 255], [70, 14, 97, 255], [71, 15, 98, 255], [71, 17, 99, 255], [71, 18, 101, 255], [71, 20, 102, 255], [71, 21, 103, 255], [71, 22, 105, 255], [71, 24, 106, 255], [72, 25, 107, 255], [72, 26, 108, 255], [72, 28, 110, 255], [72, 29, 111, 255], [72, 30, 112, 255], [72, 32, 113, 255], [72, 33, 114, 255], [72, 34, 115, 255], [72, 35, 116, 255], [71, 37, 117, 255], [71, 38, 118, 255], [71, 39, 119, 255], [71, 40, 120, 255], [71, 42, 121, 255], [71, 43, 122, 255], [71, 44, 123, 255], [70, 45, 124, 255], [70, 47, 124, 255], [70, 48, 125, 255], [70, 49, 126, 255], [69, 50, 127, 255], [69, 52, 127, 255], [69, 53, 128, 255], [69, 54, 129, 255], [68, 55, 129, 255], [68, 57, 130, 255], [67, 58, 131, 255], [67, 59, 131, 255], [67, 60, 132, 255], [66, 61, 132, 255], [66, 62, 133, 255], [66, 64, 133, 255], [65, 65, 134, 255], [65, 66, 134, 255], [64, 67, 135, 255], [64, 68, 135, 255], [63, 69, 135, 255], [63, 71, 136, 255], [62, 72, 136, 255], [62, 73, 137, 255], [61, 74, 137, 255], [61, 75, 137, 255], [61, 76, 137, 255], [60, 77, 138, 255], [60, 78, 138, 255], [59, 80, 138, 255], [59, 81, 138, 255], [58, 82, 139, 255], [58, 83, 139, 255], [57, 84, 139, 255], [57, 85, 139, 255], [56, 86, 139, 255], [56, 87, 140, 255], [55, 88, 140, 255], [55, 89, 140, 255], [54, 90, 140, 255], [54, 91, 140, 255], [53, 92, 140, 255], [53, 93, 140, 255], [52, 94, 141, 255], [52, 95, 141, 255], [51, 96, 141, 255], [51, 97, 141, 255], [50, 98, 141, 255], [50, 99, 141, 255], [49, 100, 141, 255], [49, 101, 141, 255], [49, 102, 141, 255], [48, 103, 141, 255], [48, 104, 141, 255], [47, 105, 141, 255], [47, 106, 141, 255], [46, 107, 142, 255], [46, 108, 142, 255], [46, 109, 142, 255], [45, 110, 142, 255], [45, 111, 142, 255], [44, 112, 142, 255], [44, 113, 142, 255], [44, 114, 142, 255], [43, 115, 142, 255], [43, 116, 142, 255], [42, 117, 142, 255], [42, 118, 142, 255], [42, 119, 142, 255], [41, 120, 142, 255], [41, 121, 142, 255], [40, 122, 142, 255], [40, 122, 142, 255], [40, 123, 142, 255], [39, 124, 142, 255], [39, 125, 142, 255], [39, 126, 142, 255], [38, 127, 142, 255], [38, 128, 142, 255], [38, 129, 142, 255], [37, 130, 142, 255], [37, 131, 141, 255], [36, 132, 141, 255], [36, 133, 141, 255], [36, 134, 141, 255], [35, 135, 141, 255], [35, 136, 141, 255], [35, 137, 141, 255], [34, 137, 141, 255], [34, 138, 141, 255], [34, 139, 141, 255], [33, 140, 141, 255], [33, 141, 140, 255], [33, 142, 140, 255], [32, 143, 140, 255], [32, 144, 140, 255], [32, 145, 140, 255], [31, 146, 140, 255], [31, 147, 139, 255], [31, 148, 139, 255], [31, 149, 139, 255], [31, 150, 139, 255], [30, 151, 138, 255], [30, 152, 138, 255], [30, 153, 138, 255], [30, 153, 138, 255], [30, 154, 137, 255], [30, 155, 137, 255], [30, 156, 137, 255], [30, 157, 136, 255], [30, 158, 136, 255], [30, 159, 136, 255], [30, 160, 135, 255], [31, 161, 135, 255], [31, 162, 134, 255], [31, 163, 134, 255], [32, 164, 133, 255], [32, 165, 133, 255], [33, 166, 133, 255], [33, 167, 132, 255], [34, 167, 132, 255], [35, 168, 131, 255], [35, 169, 130, 255], [36, 170, 130, 255], [37, 171, 129, 255], [38, 172, 129, 255], [39, 173, 128, 255], [40, 174, 127, 255], [41, 175, 127, 255], [42, 176, 126, 255], [43, 177, 125, 255], [44, 177, 125, 255], [46, 178, 124, 255], [47, 179, 123, 255], [48, 180, 122, 255], [50, 181, 122, 255], [51, 182, 121, 255], [53, 183, 120, 255], [54, 184, 119, 255], [56, 185, 118, 255], [57, 185, 118, 255], [59, 186, 117, 255], [61, 187, 116, 255], [62, 188, 115, 255], [64, 189, 114, 255], [66, 190, 113, 255], [68, 190, 112, 255], [69, 191, 111, 255], [71, 192, 110, 255], [73, 193, 109, 255], [75, 194, 108, 255], [77, 194, 107, 255], [79, 195, 105, 255], [81, 196, 104, 255], [83, 197, 103, 255], [85, 198, 102, 255], [87, 198, 101, 255], [89, 199, 100, 255], [91, 200, 98, 255], [94, 201, 97, 255], [96, 201, 96, 255], [98, 202, 95, 255], [100, 203, 93, 255], [103, 204, 92, 255], [105, 204, 91, 255], [107, 205, 89, 255], [109, 206, 88, 255], [112, 206, 86, 255], [114, 207, 85, 255], [116, 208, 84, 255], [119, 208, 82, 255], [121, 209, 81, 255], [124, 210, 79, 255], [126, 210, 78, 255], [129, 211, 76, 255], [131, 211, 75, 255], [134, 212, 73, 255], [136, 213, 71, 255], [139, 213, 70, 255], [141, 214, 68, 255], [144, 214, 67, 255], [146, 215, 65, 255], [149, 215, 63, 255], [151, 216, 62, 255], [154, 216, 60, 255], [157, 217, 58, 255], [159, 217, 56, 255], [162, 218, 55, 255], [165, 218, 53, 255], [167, 219, 51, 255], [170, 219, 50, 255], [173, 220, 48, 255], [175, 220, 46, 255], [178, 221, 44, 255], [181, 221, 43, 255], [183, 221, 41, 255], [186, 222, 39, 255], [189, 222, 38, 255], [191, 223, 36, 255], [194, 223, 34, 255], [197, 223, 33, 255], [199, 224, 31, 255], [202, 224, 30, 255], [205, 224, 29, 255], [207, 225, 28, 255], [210, 225, 27, 255], [212, 225, 26, 255], [215, 226, 25, 255], [218, 226, 24, 255], [220, 226, 24, 255], [223, 227, 24, 255], [225, 227, 24, 255], [228, 227, 24, 255], [231, 228, 25, 255], [233, 228, 25, 255], [236, 228, 26, 255], [238, 229, 27, 255], [241, 229, 28, 255], [243, 229, 30, 255], [246, 230, 31, 255], [248, 230, 33, 255], [250, 230, 34, 255], [253, 231, 36, 255]]}}]}, {\"parent\": \"0000559716147400\", \"id\": \"00005597160b4ce0\", \"type\": \"vtkOpenGLProperty\", \"properties\": {\"representation\": 2, \"diffuseColor\": [0.6784313725490196, 0.8470588235294118, 0.9019607843137255], \"color\": [0.6784313725490196, 0.8470588235294118, 0.9019607843137255], \"ambientColor\": [0.6784313725490196, 0.8470588235294118, 0.9019607843137255], \"specularColor\": [0.6784313725490196, 0.8470588235294118, 0.9019607843137255], \"edgeColor\": [0.0, 0.0, 0.0], \"ambient\": 0.0, \"diffuse\": 1.0, \"specular\": 0.0, \"specularPower\": 100.0, \"opacity\": 1.0, \"interpolation\": 0, \"edgeVisibility\": 1, \"backfaceCulling\": 0, \"frontfaceCulling\": 0, \"pointSize\": 5.0, \"lineWidth\": 1.0, \"lighting\": 1}}]}, {\"parent\": \"00005597160d0d10\", \"id\": \"00005597160c6b10\", \"type\": \"vtkScalarBarActor\", \"properties\": {\"visibility\": 1, \"pickable\": 0, \"dragable\": 1, \"useBounds\": true, \"automated\": true, \"axisLabel\": \"u\", \"boxPosition\": [0.88, -0.92], \"boxSize\": [0.6, 0.08], \"axisTitlePixelOffset\": 36.0, \"axisTextStyle\": {\"fontColor\": \"#000000\", \"fontStyle\": \"normal\", \"fontSize\": 18, \"fontFamily\": \"serif\"}, \"tickLabelPixelOffset\": 14.0, \"tickTextStyle\": {\"fontColor\": \"#000000\", \"fontStyle\": \"normal\", \"fontSize\": 14, \"fontFamily\": \"serif\"}, \"drawNanAnnotation\": 0, \"drawBelowRangeSwatch\": false, \"drawAboveRangeSwatch\": false}, \"calls\": [[\"setScalarsToColors\", [\"instance:${0000559715d86780}\"]]], \"dependencies\": [{\"parent\": \"00005597160c6b10\", \"id\": \"0000559715d86780\", \"type\": \"vtkLookupTable\", \"properties\": {}}]}, {\"parent\": \"00005597160d0d10\", \"id\": \"00005597160d5040\", \"type\": \"vtkOpenGLLight\", \"properties\": {\"switch\": 1, \"intensity\": 0.25, \"color\": [1.0, 1.0, 1.0], \"position\": [0.0, 0.0, 1.0], \"focalPoint\": [0.0, 0.0, 0.0], \"positional\": 0, \"exponent\": 1.0, \"coneAngle\": 30.0, \"attenuationValues\": [1.0, 0.0, 0.0], \"lightType\": \"HeadLight\", \"shadowAttenuation\": 1.0}}, {\"parent\": \"00005597160d0d10\", \"id\": \"00005597160d5560\", \"type\": \"vtkOpenGLLight\", \"properties\": {\"switch\": 1, \"intensity\": 0.75, \"color\": [1.0, 0.9725490196078431, 0.9019607843137255], \"position\": [0.11161889704894966, 0.766044443118978, 0.6330222215594891], \"focalPoint\": [0.0, 0.0, 0.0], \"positional\": 0, \"exponent\": 1.0, \"coneAngle\": 30.0, \"attenuationValues\": [1.0, 0.0, 0.0], \"lightType\": \"CameraLight\", \"shadowAttenuation\": 1.0}}, {\"parent\": \"00005597160d0d10\", \"id\": \"00005597160d5df0\", \"type\": \"vtkOpenGLLight\", \"properties\": {\"switch\": 1, \"intensity\": 0.25, \"color\": [0.9098039215686274, 0.9333333333333333, 1.0], \"position\": [-0.044943455527547777, -0.9659258262890683, 0.25488700224417876], \"focalPoint\": [0.0, 0.0, 0.0], \"positional\": 0, \"exponent\": 1.0, \"coneAngle\": 30.0, \"attenuationValues\": [1.0, 0.0, 0.0], \"lightType\": \"CameraLight\", \"shadowAttenuation\": 1.0}}, {\"parent\": \"00005597160d0d10\", \"id\": \"00005597160d6870\", \"type\": \"vtkOpenGLLight\", \"properties\": {\"switch\": 1, \"intensity\": 0.21428571428571427, \"color\": [1.0, 1.0, 1.0], \"position\": [0.9396926207859084, 0.0, -0.3420201433256687], \"focalPoint\": [0.0, 0.0, 0.0], \"positional\": 0, \"exponent\": 1.0, \"coneAngle\": 30.0, \"attenuationValues\": [1.0, 0.0, 0.0], \"lightType\": \"CameraLight\", \"shadowAttenuation\": 1.0}}, {\"parent\": \"00005597160d0d10\", \"id\": \"00005597160d72f0\", \"type\": \"vtkOpenGLLight\", \"properties\": {\"switch\": 1, \"intensity\": 0.21428571428571427, \"color\": [1.0, 1.0, 1.0], \"position\": [-0.9396926207859084, 0.0, -0.3420201433256687], \"focalPoint\": [0.0, 0.0, 0.0], \"positional\": 0, \"exponent\": 1.0, \"coneAngle\": 30.0, \"attenuationValues\": [1.0, 0.0, 0.0], \"lightType\": \"CameraLight\", \"shadowAttenuation\": 1.0}}], \"calls\": [[\"setActiveCamera\", [\"instance:${00005597160b4a00}\"]], [\"addViewProp\", [\"instance:${0000559716147400}\"]], [\"addViewProp\", [\"instance:${00005597160c6b10}\"]], [\"addLight\", [\"instance:${00005597160d5040}\"]], [\"addLight\", [\"instance:${00005597160d5560}\"]], [\"addLight\", [\"instance:${00005597160d5df0}\"]], [\"addLight\", [\"instance:${00005597160d6870}\"]], [\"addLight\", [\"instance:${00005597160d72f0}\"]]]}], \"calls\": [[\"addRenderer\", [\"instance:${00005597160d0d10}\"]]], \"mtime\": 6759, \"extra\": {\"vtkRefId\": \"00005597160d3e00\", \"centerOfRotation\": [0.5000000000000001, 0.5000000000000001, 0.0], \"camera\": \"00005597160b4a00\"}}}{\"wslink\": \"1.0\", \"id\": \"publish:trame.vtk.delta:0\", \"result\": {\"parent\": \"0x0\", \"id\": 2, \"type\": \"vtkXOpenGLRenderWindow\", \"properties\": {\"numberOfLayers\": 2}, \"dependencies\": [{\"parent\": \"00005597160d3e00\", \"id\": \"00005597160d0d10\", \"type\": \"vtkOpenGLRenderer\", \"properties\": {\"background\": [1.0, 1.0, 1.0], \"background2\": [0.2, 0.2, 0.2], \"viewport\": [0.0, 0.0, 1.0, 1.0], \"twoSidedLighting\": 1, \"lightFollowCamera\": 1, \"layer\": 0, \"preserveColorBuffer\": 0, \"preserveDepthBuffer\": 0, \"nearClippingPlaneTolerance\": 0.001, \"clippingRangeExpansion\": 0.5, \"useShadows\": 0, \"useDepthPeeling\": 0, \"occlusionRatio\": 0.0, \"maximumNumberOfPeels\": 4, \"interactive\": 1}, \"dependencies\": [{\"parent\": \"00005597160d0d10\", \"id\": \"00005597160b4a00\", \"type\": \"vtkOpenGLCamera\", \"properties\": {\"focalPoint\": [0.5000000000000001, 0.5000000000000001, 0.0], \"position\": [0.5000000000000001, 0.5000000000000001, 2.732050807568878], \"viewUp\": [0.0, 1.0, 0.0], \"clippingRange\": [2.559052188786983, 2.9564102969784147]}}, {\"parent\": \"00005597160d0d10\", \"id\": \"0000559716147400\", \"type\": \"vtkOpenGLActor\", \"properties\": {}, \"calls\": [[\"setMapper\", [\"instance:${0000559716139ca0}\"]], [\"setProperty\", [\"instance:${00005597160b4ce0}\"]]], \"dependencies\": [{\"parent\": \"0000559716147400\", \"id\": \"0000559716139ca0\", \"type\": \"vtkMapper\", \"properties\": {}, \"calls\": [[\"setInputData\", [\"instance:${0000559716139ca0-dataset}\"]], [\"setLookupTable\", [\"instance:${0000559715d86780}\"]]], \"dependencies\": [{\"parent\": \"0000559716139ca0\", \"id\": \"0000559716139ca0-dataset\", \"type\": \"vtkPolyData\", \"properties\": {\"points\": {\"hash\": \"4f072cdd1244e6f100b6613909ef1ee5_243d\", \"vtkClass\": \"vtkPoints\", \"name\": \"Points\", \"dataType\": \"Float64Array\", \"numberOfComponents\": 3, \"size\": 243, \"ranges\": [{\"min\": -3.469446951953614e-18, \"max\": 1.0000000000000002, \"component\": null}, {\"min\": -3.469446951953614e-18, \"max\": 1.0000000000000002, \"component\": null}, {\"min\": 0.0, \"max\": 0.0, \"component\": null}, {\"min\": 7.757919228897728e-18, \"max\": 1.414213562373095, \"component\": null}]}, \"polys\": {\"hash\": \"aa63416848b797a39001c8a9189a1852_320L\", \"vtkClass\": \"vtkCellArray\", \"name\": null, \"dataType\": \"Uint32Array\", \"numberOfComponents\": 1, \"size\": 320, \"ranges\": [{\"min\": 0.0, \"max\": 80.0, \"component\": null}]}, \"fields\": [{\"hash\": \"3f8cf956a776007e61fcbcf512e6cd77_81d\", \"vtkClass\": \"vtkDataArray\", \"name\": \"u\", \"dataType\": \"Float64Array\", \"numberOfComponents\": 1, \"size\": 81, \"ranges\": [{\"min\": 1.0, \"max\": 3.999999999999999, \"component\": null}], \"location\": \"pointData\", \"registration\": \"setScalars\"}]}}, {\"parent\": \"0000559716139ca0\", \"id\": \"0000559715d86780\", \"type\": \"vtkLookupTable\", \"properties\": {}}]}, {\"parent\": \"0000559716147400\", \"id\": \"00005597160b4ce0\", \"type\": \"vtkOpenGLProperty\", \"properties\": {}}]}, {\"parent\": \"00005597160d0d10\", \"id\": \"00005597160c6b10\", \"type\": \"vtkScalarBarActor\", \"properties\": {}, \"calls\": [[\"setScalarsToColors\", [\"instance:${0000559715d86780}\"]]], \"dependencies\": [{\"parent\": \"00005597160c6b10\", \"id\": \"0000559715d86780\", \"type\": \"vtkLookupTable\", \"properties\": {}}]}, {\"parent\": \"00005597160d0d10\", \"id\": \"00005597160d5040\", \"type\": \"vtkOpenGLLight\", \"properties\": {}}, {\"parent\": \"00005597160d0d10\", \"id\": \"00005597160d5560\", \"type\": \"vtkOpenGLLight\", \"properties\": {}}, {\"parent\": \"00005597160d0d10\", \"id\": \"00005597160d5df0\", \"type\": \"vtkOpenGLLight\", \"properties\": {}}, {\"parent\": \"00005597160d0d10\", \"id\": \"00005597160d6870\", \"type\": \"vtkOpenGLLight\", \"properties\": {}}, {\"parent\": \"00005597160d0d10\", \"id\": \"00005597160d72f0\", \"type\": \"vtkOpenGLLight\", \"properties\": {}}], \"calls\": [[\"setActiveCamera\", [\"instance:${00005597160b4a00}\"]]]}], \"calls\": [], \"mtime\": 6759, \"extra\": {\"vtkRefId\": \"00005597160d3e00\", \"centerOfRotation\": [0.5000000000000001, 0.5000000000000001, 0.0], \"camera\": \"00005597160b4a00\"}}}\n"
     ]
    }
   ],
   "source": [
    "u_grid = pyvista.UnstructuredGrid(u_topology, u_cell_types, u_geometry)\n",
    "u_grid.point_data[\"u\"] = uh.x.array.real\n",
    "u_grid.set_active_scalars(\"u\")\n",
    "u_plotter = pyvista.Plotter()\n",
    "u_plotter.add_mesh(u_grid, show_edges=True)\n",
    "u_plotter.view_xy()\n",
    "if not pyvista.OFF_SCREEN:\n",
    "    u_plotter.show()"
   ]
  },
  {
   "cell_type": "code",
   "execution_count": 18,
   "metadata": {},
   "outputs": [
    {
     "data": {
      "application/vnd.jupyter.widget-view+json": {
       "model_id": "b5a767c85e5e4078bd04d51b37867733",
       "version_major": 2,
       "version_minor": 0
      },
      "text/plain": [
       "Widget(value='<iframe src=\"http://localhost:35147/index.html?ui=P_0x7f2060197c70_2&reconnect=auto\" class=\"pyvi…"
      ]
     },
     "metadata": {},
     "output_type": "display_data"
    },
    {
     "name": "stdout",
     "output_type": "stream",
     "text": [
      " JS Error => Malformed message:  {\"wslink\": \"1.0\", \"id\": \"publish:trame.vtk.delta:0\", \"result\": {\"parent\": \"0x0\", \"id\": 3, \"type\": \"vtkXOpenGLRenderWindow\", \"properties\": {\"numberOfLayers\": 2}, \"dependencies\": [{\"parent\": \"000055f5b8ca9ea0\", \"id\": \"000055f5b8c99ce0\", \"type\": \"vtkOpenGLRenderer\", \"properties\": {\"background\": [1.0, 1.0, 1.0], \"background2\": [0.2, 0.2, 0.2], \"viewport\": [0.0, 0.0, 1.0, 1.0], \"twoSidedLighting\": 1, \"lightFollowCamera\": 1, \"layer\": 0, \"preserveColorBuffer\": 0, \"preserveDepthBuffer\": 0, \"nearClippingPlaneTolerance\": 0.001, \"clippingRangeExpansion\": 0.5, \"useShadows\": 0, \"useDepthPeeling\": 0, \"occlusionRatio\": 0.0, \"maximumNumberOfPeels\": 4, \"interactive\": 1}, \"dependencies\": [{\"parent\": \"000055f5b8c99ce0\", \"id\": \"000055f5b8b70a40\", \"type\": \"vtkOpenGLCamera\", \"properties\": {\"focalPoint\": [0.5, 0.5, 2.5], \"position\": [4.199214280684376, 4.199214280684376, 6.199214280684376], \"viewUp\": [0.0, 0.0, 1.0], \"clippingRange\": [3.470837222189011, 10.118991549263171]}}, {\"parent\": \"000055f5b8c99ce0\", \"id\": \"000055f5b8d161d0\", \"type\": \"vtkOpenGLActor\", \"properties\": {\"visibility\": 1, \"pickable\": 1, \"dragable\": 1, \"useBounds\": true, \"origin\": [0.0, 0.0, 0.0], \"position\": [0.0, 0.0, 0.0], \"scale\": [1.0, 1.0, 1.0], \"forceOpaque\": false, \"forceTranslucent\": false, \"userMatrix\": [1.0, 0.0, 0.0, 0.0, 0.0, 1.0, 0.0, 0.0, 0.0, 0.0, 1.0, 0.0, 0.0, 0.0, 0.0, 1.0]}, \"calls\": [[\"setMapper\", [\"instance:${000055f5b8d08980}\"]], [\"setProperty\", [\"instance:${000055f5b8c930c0}\"]]], \"dependencies\": [{\"parent\": \"000055f5b8d161d0\", \"id\": \"000055f5b8d08980\", \"type\": \"vtkMapper\", \"properties\": {\"resolveCoincidentTopology\": 0, \"renderTime\": 0.0, \"arrayAccessMode\": 0, \"scalarRange\": [1.0, 3.999999999999999], \"useLookupTableScalarRange\": 0, \"scalarVisibility\": 1, \"colorByArrayName\": -1, \"colorMode\": 1, \"scalarMode\": 1, \"interpolateScalarsBeforeMapping\": 1}, \"calls\": [[\"setInputData\", [\"instance:${000055f5b8d08980-dataset}\"]], [\"setLookupTable\", [\"instance:${000055f5b8caac80}\"]]], \"dependencies\": [{\"parent\": \"000055f5b8d08980\", \"id\": \"000055f5b8d08980-dataset\", \"type\": \"vtkPolyData\", \"properties\": {\"points\": {\"hash\": \"9fef89bd16630ee709271fb334eb30e9_243f\", \"vtkClass\": \"vtkPoints\", \"name\": \"Points\", \"dataType\": \"Float32Array\", \"numberOfComponents\": 3, \"size\": 243, \"ranges\": [{\"min\": -3.469446951953614e-18, \"max\": 1.0, \"component\": null}, {\"min\": -3.469446951953614e-18, \"max\": 1.0, \"component\": null}, {\"min\": 1.0, \"max\": 4.0, \"component\": null}, {\"min\": 1.0, \"max\": 4.242640687119285, \"component\": null}]}, \"polys\": {\"hash\": \"aa63416848b797a39001c8a9189a1852_320L\", \"vtkClass\": \"vtkCellArray\", \"name\": null, \"dataType\": \"Uint32Array\", \"numberOfComponents\": 1, \"size\": 320, \"ranges\": [{\"min\": 0.0, \"max\": 80.0, \"component\": null}]}, \"fields\": [{\"hash\": \"3f8cf956a776007e61fcbcf512e6cd77_81d\", \"vtkClass\": \"vtkDataArray\", \"name\": \"u\", \"dataType\": \"Float64Array\", \"numberOfComponents\": 1, \"size\": 81, \"ranges\": [{\"min\": 1.0, \"max\": 3.999999999999999, \"component\": null}], \"location\": \"pointData\", \"registration\": \"setScalars\"}]}}, {\"parent\": \"000055f5b8d08980\", \"id\": \"000055f5b8caac80\", \"type\": \"vtkLookupTable\", \"properties\": {\"numberOfColors\": 256, \"valueRange\": [1.0, 3.999999999999999], \"hueRange\": [0.5, 0], \"saturationRange\": [1.0, 1.0], \"nanColor\": [0.6627450980392157, 0.6627450980392157, 0.6627450980392157, 1.0], \"belowRangeColor\": [0.0, 0.0, 0.0, 1.0], \"aboveRangeColor\": [1.0, 1.0, 1.0, 1.0], \"useAboveRangeColor\": false, \"useBelowRangeColor\": false, \"alpha\": 1.0, \"vectorSize\": -1, \"vectorComponent\": 0, \"vectorMode\": 1, \"indexedLookup\": 0, \"table\": [[68, 1, 84, 255], [68, 2, 85, 255], [68, 3, 87, 255], [69, 5, 88, 255], [69, 6, 90, 255], [69, 8, 91, 255], [70, 9, 92, 255], [70, 11, 94, 255], [70, 12, 95, 255], [70, 14, 97, 255], [71, 15, 98, 255], [71, 17, 99, 255], [71, 18, 101, 255], [71, 20, 102, 255], [71, 21, 103, 255], [71, 22, 105, 255], [71, 24, 106, 255], [72, 25, 107, 255], [72, 26, 108, 255], [72, 28, 110, 255], [72, 29, 111, 255], [72, 30, 112, 255], [72, 32, 113, 255], [72, 33, 114, 255], [72, 34, 115, 255], [72, 35, 116, 255], [71, 37, 117, 255], [71, 38, 118, 255], [71, 39, 119, 255], [71, 40, 120, 255], [71, 42, 121, 255], [71, 43, 122, 255], [71, 44, 123, 255], [70, 45, 124, 255], [70, 47, 124, 255], [70, 48, 125, 255], [70, 49, 126, 255], [69, 50, 127, 255], [69, 52, 127, 255], [69, 53, 128, 255], [69, 54, 129, 255], [68, 55, 129, 255], [68, 57, 130, 255], [67, 58, 131, 255], [67, 59, 131, 255], [67, 60, 132, 255], [66, 61, 132, 255], [66, 62, 133, 255], [66, 64, 133, 255], [65, 65, 134, 255], [65, 66, 134, 255], [64, 67, 135, 255], [64, 68, 135, 255], [63, 69, 135, 255], [63, 71, 136, 255], [62, 72, 136, 255], [62, 73, 137, 255], [61, 74, 137, 255], [61, 75, 137, 255], [61, 76, 137, 255], [60, 77, 138, 255], [60, 78, 138, 255], [59, 80, 138, 255], [59, 81, 138, 255], [58, 82, 139, 255], [58, 83, 139, 255], [57, 84, 139, 255], [57, 85, 139, 255], [56, 86, 139, 255], [56, 87, 140, 255], [55, 88, 140, 255], [55, 89, 140, 255], [54, 90, 140, 255], [54, 91, 140, 255], [53, 92, 140, 255], [53, 93, 140, 255], [52, 94, 141, 255], [52, 95, 141, 255], [51, 96, 141, 255], [51, 97, 141, 255], [50, 98, 141, 255], [50, 99, 141, 255], [49, 100, 141, 255], [49, 101, 141, 255], [49, 102, 141, 255], [48, 103, 141, 255], [48, 104, 141, 255], [47, 105, 141, 255], [47, 106, 141, 255], [46, 107, 142, 255], [46, 108, 142, 255], [46, 109, 142, 255], [45, 110, 142, 255], [45, 111, 142, 255], [44, 112, 142, 255], [44, 113, 142, 255], [44, 114, 142, 255], [43, 115, 142, 255], [43, 116, 142, 255], [42, 117, 142, 255], [42, 118, 142, 255], [42, 119, 142, 255], [41, 120, 142, 255], [41, 121, 142, 255], [40, 122, 142, 255], [40, 122, 142, 255], [40, 123, 142, 255], [39, 124, 142, 255], [39, 125, 142, 255], [39, 126, 142, 255], [38, 127, 142, 255], [38, 128, 142, 255], [38, 129, 142, 255], [37, 130, 142, 255], [37, 131, 141, 255], [36, 132, 141, 255], [36, 133, 141, 255], [36, 134, 141, 255], [35, 135, 141, 255], [35, 136, 141, 255], [35, 137, 141, 255], [34, 137, 141, 255], [34, 138, 141, 255], [34, 139, 141, 255], [33, 140, 141, 255], [33, 141, 140, 255], [33, 142, 140, 255], [32, 143, 140, 255], [32, 144, 140, 255], [32, 145, 140, 255], [31, 146, 140, 255], [31, 147, 139, 255], [31, 148, 139, 255], [31, 149, 139, 255], [31, 150, 139, 255], [30, 151, 138, 255], [30, 152, 138, 255], [30, 153, 138, 255], [30, 153, 138, 255], [30, 154, 137, 255], [30, 155, 137, 255], [30, 156, 137, 255], [30, 157, 136, 255], [30, 158, 136, 255], [30, 159, 136, 255], [30, 160, 135, 255], [31, 161, 135, 255], [31, 162, 134, 255], [31, 163, 134, 255], [32, 164, 133, 255], [32, 165, 133, 255], [33, 166, 133, 255], [33, 167, 132, 255], [34, 167, 132, 255], [35, 168, 131, 255], [35, 169, 130, 255], [36, 170, 130, 255], [37, 171, 129, 255], [38, 172, 129, 255], [39, 173, 128, 255], [40, 174, 127, 255], [41, 175, 127, 255], [42, 176, 126, 255], [43, 177, 125, 255], [44, 177, 125, 255], [46, 178, 124, 255], [47, 179, 123, 255], [48, 180, 122, 255], [50, 181, 122, 255], [51, 182, 121, 255], [53, 183, 120, 255], [54, 184, 119, 255], [56, 185, 118, 255], [57, 185, 118, 255], [59, 186, 117, 255], [61, 187, 116, 255], [62, 188, 115, 255], [64, 189, 114, 255], [66, 190, 113, 255], [68, 190, 112, 255], [69, 191, 111, 255], [71, 192, 110, 255], [73, 193, 109, 255], [75, 194, 108, 255], [77, 194, 107, 255], [79, 195, 105, 255], [81, 196, 104, 255], [83, 197, 103, 255], [85, 198, 102, 255], [87, 198, 101, 255], [89, 199, 100, 255], [91, 200, 98, 255], [94, 201, 97, 255], [96, 201, 96, 255], [98, 202, 95, 255], [100, 203, 93, 255], [103, 204, 92, 255], [105, 204, 91, 255], [107, 205, 89, 255], [109, 206, 88, 255], [112, 206, 86, 255], [114, 207, 85, 255], [116, 208, 84, 255], [119, 208, 82, 255], [121, 209, 81, 255], [124, 210, 79, 255], [126, 210, 78, 255], [129, 211, 76, 255], [131, 211, 75, 255], [134, 212, 73, 255], [136, 213, 71, 255], [139, 213, 70, 255], [141, 214, 68, 255], [144, 214, 67, 255], [146, 215, 65, 255], [149, 215, 63, 255], [151, 216, 62, 255], [154, 216, 60, 255], [157, 217, 58, 255], [159, 217, 56, 255], [162, 218, 55, 255], [165, 218, 53, 255], [167, 219, 51, 255], [170, 219, 50, 255], [173, 220, 48, 255], [175, 220, 46, 255], [178, 221, 44, 255], [181, 221, 43, 255], [183, 221, 41, 255], [186, 222, 39, 255], [189, 222, 38, 255], [191, 223, 36, 255], [194, 223, 34, 255], [197, 223, 33, 255], [199, 224, 31, 255], [202, 224, 30, 255], [205, 224, 29, 255], [207, 225, 28, 255], [210, 225, 27, 255], [212, 225, 26, 255], [215, 226, 25, 255], [218, 226, 24, 255], [220, 226, 24, 255], [223, 227, 24, 255], [225, 227, 24, 255], [228, 227, 24, 255], [231, 228, 25, 255], [233, 228, 25, 255], [236, 228, 26, 255], [238, 229, 27, 255], [241, 229, 28, 255], [243, 229, 30, 255], [246, 230, 31, 255], [248, 230, 33, 255], [250, 230, 34, 255], [253, 231, 36, 255]]}}]}, {\"parent\": \"000055f5b8d161d0\", \"id\": \"000055f5b8c930c0\", \"type\": \"vtkOpenGLProperty\", \"properties\": {\"representation\": 2, \"diffuseColor\": [0.6784313725490196, 0.8470588235294118, 0.9019607843137255], \"color\": [0.6784313725490196, 0.8470588235294118, 0.9019607843137255], \"ambientColor\": [0.6784313725490196, 0.8470588235294118, 0.9019607843137255], \"specularColor\": [0.6784313725490196, 0.8470588235294118, 0.9019607843137255], \"edgeColor\": [0.0, 0.0, 0.0], \"ambient\": 0.0, \"diffuse\": 1.0, \"specular\": 0.0, \"specularPower\": 100.0, \"opacity\": 1.0, \"interpolation\": 0, \"edgeVisibility\": 1, \"backfaceCulling\": 0, \"frontfaceCulling\": 0, \"pointSize\": 5.0, \"lineWidth\": 1.0, \"lighting\": 1}}]}, {\"parent\": \"000055f5b8c99ce0\", \"id\": \"000055f5b8c8e4e0\", \"type\": \"vtkScalarBarActor\", \"properties\": {\"visibility\": 1, \"pickable\": 0, \"dragable\": 1, \"useBounds\": true, \"automated\": true, \"axisLabel\": \"u\", \"boxPosition\": [0.88, -0.92], \"boxSize\": [0.6, 0.08], \"axisTitlePixelOffset\": 36.0, \"axisTextStyle\": {\"fontColor\": \"#000000\", \"fontStyle\": \"normal\", \"fontSize\": 18, \"fontFamily\": \"serif\"}, \"tickLabelPixelOffset\": 14.0, \"tickTextStyle\": {\"fontColor\": \"#000000\", \"fontStyle\": \"normal\", \"fontSize\": 14, \"fontFamily\": \"serif\"}, \"drawNanAnnotation\": 0, \"drawBelowRangeSwatch\": false, \"drawAboveRangeSwatch\": false}, \"calls\": [[\"setScalarsToColors\", [\"instance:${000055f5b8caac80}\"]]], \"dependencies\": [{\"parent\": \"000055f5b8c8e4e0\", \"id\": \"000055f5b8caac80\", \"type\": \"vtkLookupTable\", \"properties\": {}}]}, {\"parent\": \"000055f5b8c99ce0\", \"id\": \"000055f5b81a0760\", \"type\": \"vtkOpenGLLight\", \"properties\": {\"switch\": 1, \"intensity\": 0.25, \"color\": [1.0, 1.0, 1.0], \"position\": [0.0, 0.0, 1.0], \"focalPoint\": [0.0, 0.0, 0.0], \"positional\": 0, \"exponent\": 1.0, \"coneAngle\": 30.0, \"attenuationValues\": [1.0, 0.0, 0.0], \"lightType\": \"HeadLight\", \"shadowAttenuation\": 1.0}}, {\"parent\": \"000055f5b8c99ce0\", \"id\": \"000055f5b8cebb70\", \"type\": \"vtkOpenGLLight\", \"properties\": {\"switch\": 1, \"intensity\": 0.75, \"color\": [1.0, 0.9725490196078431, 0.9019607843137255], \"position\": [0.11161889704894966, 0.766044443118978, 0.6330222215594891], \"focalPoint\": [0.0, 0.0, 0.0], \"positional\": 0, \"exponent\": 1.0, \"coneAngle\": 30.0, \"attenuationValues\": [1.0, 0.0, 0.0], \"lightType\": \"CameraLight\", \"shadowAttenuation\": 1.0}}, {\"parent\": \"000055f5b8c99ce0\", \"id\": \"000055f5b8cec5f0\", \"type\": \"vtkOpenGLLight\", \"properties\": {\"switch\": 1, \"intensity\": 0.25, \"color\": [0.9098039215686274, 0.9333333333333333, 1.0], \"position\": [-0.044943455527547777, -0.9659258262890683, 0.25488700224417876], \"focalPoint\": [0.0, 0.0, 0.0], \"positional\": 0, \"exponent\": 1.0, \"coneAngle\": 30.0, \"attenuationValues\": [1.0, 0.0, 0.0], \"lightType\": \"CameraLight\", \"shadowAttenuation\": 1.0}}, {\"parent\": \"000055f5b8c99ce0\", \"id\": \"000055f5b8ced070\", \"type\": \"vtkOpenGLLight\", \"properties\": {\"switch\": 1, \"intensity\": 0.21428571428571427, \"color\": [1.0, 1.0, 1.0], \"position\": [0.9396926207859084, 0.0, -0.3420201433256687], \"focalPoint\": [0.0, 0.0, 0.0], \"positional\": 0, \"exponent\": 1.0, \"coneAngle\": 30.0, \"attenuationValues\": [1.0, 0.0, 0.0], \"lightType\": \"CameraLight\", \"shadowAttenuation\": 1.0}}, {\"parent\": \"000055f5b8c99ce0\", \"id\": \"000055f5b8cedaf0\", \"type\": \"vtkOpenGLLight\", \"properties\": {\"switch\": 1, \"intensity\": 0.21428571428571427, \"color\": [1.0, 1.0, 1.0], \"position\": [-0.9396926207859084, 0.0, -0.3420201433256687], \"focalPoint\": [0.0, 0.0, 0.0], \"positional\": 0, \"exponent\": 1.0, \"coneAngle\": 30.0, \"attenuationValues\": [1.0, 0.0, 0.0], \"lightType\": \"CameraLight\", \"shadowAttenuation\": 1.0}}], \"calls\": [[\"setActiveCamera\", [\"instance:${000055f5b8b70a40}\"]], [\"addViewProp\", [\"instance:${000055f5b8d161d0}\"]], [\"addViewProp\", [\"instance:${000055f5b8c8e4e0}\"]], [\"addLight\", [\"instance:${000055f5b81a0760}\"]], [\"addLight\", [\"instance:${000055f5b8cebb70}\"]], [\"addLight\", [\"instance:${000055f5b8cec5f0}\"]], [\"addLight\", [\"instance:${000055f5b8ced070}\"]], [\"addLight\", [\"instance:${000055f5b8cedaf0}\"]]]}], \"calls\": [[\"addRenderer\", [\"instance:${000055f5b8c99ce0}\"]]], \"mtime\": 13478, \"extra\": {\"vtkRefId\": \"000055f5b8ca9ea0\", \"centerOfRotation\": [0.5, 0.5, 2.5], \"camera\": \"000055f5b8b70a40\"}}}{\"wslink\": \"1.0\", \"id\": \"publish:trame.vtk.delta:0\", \"result\": {\"parent\": \"0x0\", \"id\": 3, \"type\": \"vtkXOpenGLRenderWindow\", \"properties\": {\"numberOfLayers\": 2}, \"dependencies\": [{\"parent\": \"000055f5b8ca9ea0\", \"id\": \"000055f5b8c99ce0\", \"type\": \"vtkOpenGLRenderer\", \"properties\": {\"background\": [1.0, 1.0, 1.0], \"background2\": [0.2, 0.2, 0.2], \"viewport\": [0.0, 0.0, 1.0, 1.0], \"twoSidedLighting\": 1, \"lightFollowCamera\": 1, \"layer\": 0, \"preserveColorBuffer\": 0, \"preserveDepthBuffer\": 0, \"nearClippingPlaneTolerance\": 0.001, \"clippingRangeExpansion\": 0.5, \"useShadows\": 0, \"useDepthPeeling\": 0, \"occlusionRatio\": 0.0, \"maximumNumberOfPeels\": 4, \"interactive\": 1}, \"dependencies\": [{\"parent\": \"000055f5b8c99ce0\", \"id\": \"000055f5b8b70a40\", \"type\": \"vtkOpenGLCamera\", \"properties\": {\"focalPoint\": [0.5, 0.5, 2.5], \"position\": [4.199214280684376, 4.199214280684376, 6.199214280684376], \"viewUp\": [0.0, 0.0, 1.0], \"clippingRange\": [3.470837222189011, 10.118991549263171]}}, {\"parent\": \"000055f5b8c99ce0\", \"id\": \"000055f5b8d161d0\", \"type\": \"vtkOpenGLActor\", \"properties\": {}, \"calls\": [[\"setMapper\", [\"instance:${000055f5b8d08980}\"]], [\"setProperty\", [\"instance:${000055f5b8c930c0}\"]]], \"dependencies\": [{\"parent\": \"000055f5b8d161d0\", \"id\": \"000055f5b8d08980\", \"type\": \"vtkMapper\", \"properties\": {}, \"calls\": [[\"setInputData\", [\"instance:${000055f5b8d08980-dataset}\"]], [\"setLookupTable\", [\"instance:${000055f5b8caac80}\"]]], \"dependencies\": [{\"parent\": \"000055f5b8d08980\", \"id\": \"000055f5b8d08980-dataset\", \"type\": \"vtkPolyData\", \"properties\": {\"points\": {\"hash\": \"9fef89bd16630ee709271fb334eb30e9_243f\", \"vtkClass\": \"vtkPoints\", \"name\": \"Points\", \"dataType\": \"Float32Array\", \"numberOfComponents\": 3, \"size\": 243, \"ranges\": [{\"min\": -3.469446951953614e-18, \"max\": 1.0, \"component\": null}, {\"min\": -3.469446951953614e-18, \"max\": 1.0, \"component\": null}, {\"min\": 1.0, \"max\": 4.0, \"component\": null}, {\"min\": 1.0, \"max\": 4.242640687119285, \"component\": null}]}, \"polys\": {\"hash\": \"aa63416848b797a39001c8a9189a1852_320L\", \"vtkClass\": \"vtkCellArray\", \"name\": null, \"dataType\": \"Uint32Array\", \"numberOfComponents\": 1, \"size\": 320, \"ranges\": [{\"min\": 0.0, \"max\": 80.0, \"component\": null}]}, \"fields\": [{\"hash\": \"3f8cf956a776007e61fcbcf512e6cd77_81d\", \"vtkClass\": \"vtkDataArray\", \"name\": \"u\", \"dataType\": \"Float64Array\", \"numberOfComponents\": 1, \"size\": 81, \"ranges\": [{\"min\": 1.0, \"max\": 3.999999999999999, \"component\": null}], \"location\": \"pointData\", \"registration\": \"setScalars\"}]}}, {\"parent\": \"000055f5b8d08980\", \"id\": \"000055f5b8caac80\", \"type\": \"vtkLookupTable\", \"properties\": {}}]}, {\"parent\": \"000055f5b8d161d0\", \"id\": \"000055f5b8c930c0\", \"type\": \"vtkOpenGLProperty\", \"properties\": {}}]}, {\"parent\": \"000055f5b8c99ce0\", \"id\": \"000055f5b8c8e4e0\", \"type\": \"vtkScalarBarActor\", \"properties\": {}, \"calls\": [[\"setScalarsToColors\", [\"instance:${000055f5b8caac80}\"]]], \"dependencies\": [{\"parent\": \"000055f5b8c8e4e0\", \"id\": \"000055f5b8caac80\", \"type\": \"vtkLookupTable\", \"properties\": {}}]}, {\"parent\": \"000055f5b8c99ce0\", \"id\": \"000055f5b81a0760\", \"type\": \"vtkOpenGLLight\", \"properties\": {}}, {\"parent\": \"000055f5b8c99ce0\", \"id\": \"000055f5b8cebb70\", \"type\": \"vtkOpenGLLight\", \"properties\": {}}, {\"parent\": \"000055f5b8c99ce0\", \"id\": \"000055f5b8cec5f0\", \"type\": \"vtkOpenGLLight\", \"properties\": {}}, {\"parent\": \"000055f5b8c99ce0\", \"id\": \"000055f5b8ced070\", \"type\": \"vtkOpenGLLight\", \"properties\": {}}, {\"parent\": \"000055f5b8c99ce0\", \"id\": \"000055f5b8cedaf0\", \"type\": \"vtkOpenGLLight\", \"properties\": {}}], \"calls\": [[\"setActiveCamera\", [\"instance:${000055f5b8b70a40}\"]]]}], \"calls\": [], \"mtime\": 13478, \"extra\": {\"vtkRefId\": \"000055f5b8ca9ea0\", \"centerOfRotation\": [0.5, 0.5, 2.5], \"camera\": \"000055f5b8b70a40\"}}}\n"
     ]
    }
   ],
   "source": [
    "warped = u_grid.warp_by_scalar()\n",
    "plotter2 = pyvista.Plotter()\n",
    "plotter2.add_mesh(warped, show_edges=True, show_scalar_bar=True)\n",
    "if not pyvista.OFF_SCREEN:\n",
    "    plotter2.show()"
   ]
  },
  {
   "cell_type": "code",
   "execution_count": null,
   "metadata": {},
   "outputs": [],
   "source": []
  },
  {
   "cell_type": "code",
   "execution_count": null,
   "metadata": {},
   "outputs": [],
   "source": []
  }
 ],
 "metadata": {
  "kernelspec": {
   "display_name": "Python 3 (ipykernel)",
   "language": "python",
   "name": "python3"
  },
  "language_info": {
   "codemirror_mode": {
    "name": "ipython",
    "version": 3
   },
   "file_extension": ".py",
   "mimetype": "text/x-python",
   "name": "python",
   "nbconvert_exporter": "python",
   "pygments_lexer": "ipython3",
   "version": "3.10.13"
  }
 },
 "nbformat": 4,
 "nbformat_minor": 4
}
