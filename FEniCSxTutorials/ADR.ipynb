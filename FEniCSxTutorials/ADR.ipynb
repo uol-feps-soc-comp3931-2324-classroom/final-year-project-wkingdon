{
 "cells": [
  {
   "cell_type": "code",
   "execution_count": 60,
   "id": "e275a8ab-6c05-45cc-9613-561cc1a2d26a",
   "metadata": {},
   "outputs": [],
   "source": [
    "from mpi4py import MPI\n",
    "from petsc4py import PETSc\n",
    "\n",
    "from tqdm.notebook import tqdm_notebook\n",
    "\n",
    "import numpy as np\n",
    "\n",
    "import ufl\n",
    "\n",
    "from dolfinx import fem, io, mesh, plot, la\n",
    "from dolfinx.fem.petsc import assemble_matrix, create_vector, apply_lifting\n",
    "from basix.ufl import element\n",
    "from dolfinx.io import XDMFFile\n",
    "\n",
    "import pyvista"
   ]
  },
  {
   "cell_type": "markdown",
   "id": "c86cc28e-31ad-42ae-88b1-d1dcf5166413",
   "metadata": {},
   "source": [
    "https://www.wias-berlin.de/people/john/BETREUUNG/master_ding.pdf\n",
    "https://www.youtube.com/watch?v=LflB3-bEK2M\n",
    "http://redbkit.github.io/redbKIT/math/AdvDiffReact/#id"
   ]
  },
  {
   "cell_type": "code",
   "execution_count": 61,
   "id": "ef34a3af-3ab6-4a13-963f-30af1c16403f",
   "metadata": {},
   "outputs": [],
   "source": [
    "# create mesh for calculations to take place in\n",
    "msh = mesh.create_unit_square(MPI.COMM_WORLD, 16,16)\n",
    "\n",
    "# define elements to be used for the velocity and the distribution\n",
    "z_p1 = element(\"P\", msh.basix_cell(), 1)\n",
    "v_p2 = element(\"P\", msh.basix_cell(), 2, shape=(msh.geometry.dim,))\n",
    "\n",
    "# Define function spaces to be used for the two variables\n",
    "Z = fem.FunctionSpace(msh, z_p1)\n",
    "V = fem.FunctionSpace(msh, v_p2)"
   ]
  },
  {
   "cell_type": "code",
   "execution_count": 62,
   "id": "b22fbca0-6de4-4b88-9b83-2cbb83e3cad9",
   "metadata": {},
   "outputs": [],
   "source": [
    "# define functions to be used for boundaries and initials\n",
    "def initial_condition(x, a=5):\n",
    "    return np.exp(-a * (x[0]**2 + x[1]**2))\n",
    "\n",
    "def flow(x):\n",
    "    return np.stack((np.ones(x.shape[1]), np.zeros(x.shape[1]))) *20\n",
    "    \n",
    "# Function to mark the lid (y = 1)\n",
    "def lid(x):\n",
    "    return np.isclose(x[1], 1)\n",
    "\n",
    "def inflow_point(x):\n",
    "    return np.isclose(x[0], 0) & np.isclose(x[1], 0.5)\n",
    "\n",
    "# define time step variables \n",
    "T = 1.3          # final time\n",
    "num_steps = 1300   # number of time steps\n",
    "dt = T / num_steps # time step size"
   ]
  },
  {
   "cell_type": "code",
   "execution_count": 63,
   "id": "97eaa13b-570c-4e86-b451-55de7efc132e",
   "metadata": {},
   "outputs": [],
   "source": [
    "# define boundary conditions\n",
    "inflow_dofs = fem.locate_dofs_geometrical(Z, lid)\n",
    "bc_inflow = fem.dirichletbc(PETSc.ScalarType(1), inflow_dofs, Z)\n",
    "bc_outlfow = fem.dirichletbc(PETSc.ScalarType(-1), inflow_dofs, Z)\n",
    "\n",
    "# order here is important as want to apply outflow before the inflow\n",
    "bcs = [bc_outlfow, bc_inflow]\n",
    "# bcs = []"
   ]
  },
  {
   "cell_type": "code",
   "execution_count": 64,
   "id": "e03187f4-a448-4297-9cd7-0d6f6aa52431",
   "metadata": {},
   "outputs": [],
   "source": [
    "# Create variables for results at current and previous timesteps\n",
    "s_ = fem.Function(Z)\n",
    "# s_.interpolate(initial_condition)\n",
    "s_n = fem.Function(Z)\n",
    "# s_n.interpolate(initial_condition)\n",
    "\n",
    "# very basic flow variable\n",
    "u_n = fem.Function(V)\n",
    "u_n.interpolate(flow)\n",
    "\n",
    "# create trial and test functions\n",
    "s = ufl.TrialFunction(Z)\n",
    "z = ufl.TestFunction(Z)"
   ]
  },
  {
   "cell_type": "code",
   "execution_count": 65,
   "id": "75f0e917-8fc5-4a64-84f3-bd3903166fc6",
   "metadata": {},
   "outputs": [],
   "source": [
    "# https://github.com/unifem/fenics-notes/blob/master/notebooks/advection-diffusion-reaction.ipynb\n",
    "# https://jsdokken.com/dolfinx-tutorial/chapter2/diffusion_code.html\n",
    "\n",
    "# constants for calculations\n",
    "rho = fem.Constant(msh, PETSc.ScalarType(10)) # advection coefficent\n",
    "eps = fem.Constant(msh, PETSc.ScalarType(1)) # diffusion coefficent\n",
    "k = fem.Constant(msh, dt)\n",
    "fs = fem.Constant(msh, PETSc.ScalarType(0))\n",
    "\n",
    "# https://fenicsproject.discourse.group/t/navier-stokes-and-convection-diffusion/7170\n",
    "F = rho*((s - s_n) / k) *z*ufl.dx \\\n",
    "   + rho*ufl.dot(u_n, ufl.grad(s_n))*z*ufl.dx \\\n",
    "   + eps * ufl.dot(ufl.grad(s), ufl.grad(z))* ufl.dx \\\n",
    "   - fs*z*ufl.dx\n",
    "\n",
    "a = fem.form(ufl.lhs(F))\n",
    "L = fem.form(ufl.rhs(F))\n",
    "\n",
    "# Just diffusion equation\n",
    "# https://jsdokken.com/dolfinx-tutorial/chapter2/diffusion_code.html\n",
    "# a = fem.form(s * z * ufl.dx + dt * ufl.dot(ufl.grad(s), ufl.grad(z)) * ufl.dx)\n",
    "# L = fem.form((s_n + dt * fs) * z * ufl.dx)\n",
    "\n",
    "# create parts of the equation that will not change between timesteps\n",
    "# https://fenicsproject.discourse.group/t/how-to-set-bcs-for-petsc-matrices-and-petsc-vectors-in-dolfinx/4135\n",
    "A = assemble_matrix(a, bcs=bcs)\n",
    "A.assemble()\n",
    "b = create_vector(L)\n",
    "\n",
    "# create solver for the linear (matrix) problem\n",
    "## Using petsc4py to create a linear solver\n",
    "# As we have already assembled `a` into tbhe matrix `A`, we can no longer use the `dolfinx.fem.petsc.LinearProblem` class to solve the problem. Therefore, we create a linear algebra solver using PETSc, and assign the matrix `A` to the solver, and choose the solution strategy.\n",
    "solver2 = PETSc.KSP().create(msh.comm)\n",
    "solver2.setOperators(A)\n",
    "solver2.setType(PETSc.KSP.Type.PREONLY)\n",
    "solver2.getPC().setType(PETSc.PC.Type.LU)"
   ]
  },
  {
   "cell_type": "code",
   "execution_count": 66,
   "id": "0015aa7d-d6ff-4cdd-980d-7eb421db722d",
   "metadata": {},
   "outputs": [],
   "source": [
    "# https://jsdokken.com/dolfinx-tutorial/chapter2/diffusion_code.html\n",
    "# create output file\n",
    "xdmf = io.XDMFFile(msh.comm, \"results/diffusion.xdmf\", \"w\")\n",
    "xdmf.write_mesh(msh)"
   ]
  },
  {
   "cell_type": "code",
   "execution_count": 67,
   "id": "003733d8-7e69-4480-884c-9302f5a65bd3",
   "metadata": {},
   "outputs": [
    {
     "data": {
      "application/vnd.jupyter.widget-view+json": {
       "model_id": "37709f15c94d4182ba7d18b132fddcd7",
       "version_major": 2,
       "version_minor": 0
      },
      "text/plain": [
       "  0%|          | 0/1300 [00:00<?, ?it/s]"
      ]
     },
     "metadata": {},
     "output_type": "display_data"
    }
   ],
   "source": [
    "# inital time\n",
    "t = 0\n",
    "xdmf.write_function(s_,t)\n",
    "\n",
    "for i in tqdm_notebook(range(num_steps)):\n",
    "    t += dt # update time\n",
    "\n",
    "    # https://jsdokken.com/dolfinx-tutorial/chapter2/diffusion_code.html\n",
    "    # Update the right hand side reusing the initial vector\n",
    "    with b.localForm() as loc_b:\n",
    "        loc_b.set(0)\n",
    "    fem.petsc.assemble_vector(b, L)\n",
    "    apply_lifting(b, [a], [bcs])\n",
    "    b.ghostUpdate(addv=PETSc.InsertMode.ADD, mode=PETSc.ScatterMode.REVERSE)\n",
    "    fem.set_bc(b, bcs)\n",
    "\n",
    "    # solve\n",
    "    solver2.solve(b, s_.vector)\n",
    "    s_.x.scatter_forward() # correct for inacuracies \n",
    "\n",
    "    s_n.x.array[:] = s_.x.array # update previous step\n",
    "\n",
    "    xdmf.write_function(s_,t)\n",
    "\n",
    "xdmf.close()"
   ]
  },
  {
   "cell_type": "code",
   "execution_count": 68,
   "id": "d5cbd212-c5b0-46dd-986d-6c7840141889",
   "metadata": {},
   "outputs": [
    {
     "data": {
      "application/vnd.jupyter.widget-view+json": {
       "model_id": "65e7ce8879ad41a8bb12caef743189ed",
       "version_major": 2,
       "version_minor": 0
      },
      "text/plain": [
       "Widget(value='<iframe src=\"http://localhost:36879/index.html?ui=P_0x7fa49da59540_3&reconnect=auto\" class=\"pyvi…"
      ]
     },
     "metadata": {},
     "output_type": "display_data"
    }
   ],
   "source": [
    "# visualisation\n",
    "pyvista.set_jupyter_backend('client')\n",
    "\n",
    "pyvista.start_xvfb()\n",
    "\n",
    "\n",
    "topologyZ, cell_typesZ, geometryZ = plot.vtk_mesh(Z)\n",
    "grid0 = pyvista.UnstructuredGrid(topologyZ, cell_typesZ, geometryZ)\n",
    "grid0.point_data[\"s0\"] = s_n.x.array\n",
    "\n",
    "grid1 = pyvista.UnstructuredGrid(topologyZ, cell_typesZ, geometryZ)\n",
    "grid1.point_data[\"s1\"] = s_.x.array\n",
    "\n",
    "topologyV, cell_typesV, geometryV = plot.vtk_mesh(V)\n",
    "values = np.zeros((geometryV.shape[0], 3), dtype=np.float64)\n",
    "values[:, :len(u_n)] = u_n.x.array.real.reshape((geometryV.shape[0], len(u_n)))\n",
    "velocity_grid = pyvista.UnstructuredGrid(topologyV, cell_typesV, geometryV)\n",
    "velocity_grid[\"u\"] = values\n",
    "# Create a point cloud of glyphs\n",
    "glyphs = velocity_grid.glyph(orient=\"u\", factor=0.2)\n",
    "\n",
    "plotter = pyvista.Plotter(notebook=True, shape=(1, 2))\n",
    "plotter.subplot(0,0)\n",
    "plotter.add_mesh(grid0, show_edges=True)\n",
    "plotter.view_xy()\n",
    "plotter.subplot (0,1)\n",
    "plotter.add_mesh(grid1, show_edges=True)\n",
    "plotter.view_xy()\n",
    "#plotter.add_mesh(glyphs)\n",
    "\n",
    "plotter.show()"
   ]
  },
  {
   "cell_type": "code",
   "execution_count": 28,
   "id": "4c5a796a-1eb5-4137-b6d2-9e823ad91ea4",
   "metadata": {},
   "outputs": [],
   "source": [
    "# f = fem.Constant(msh, PETSc.ScalarType(0))\n",
    "# a = u * v * ufl.dx + dt * ufl.dot(ufl.grad(u), ufl.grad(v)) * ufl.dx\n",
    "# L = (u_n + dt * f) * v * ufl.dx"
   ]
  },
  {
   "cell_type": "code",
   "execution_count": null,
   "id": "99fd49bd-5d97-438f-b284-9c0d1117bf4e",
   "metadata": {},
   "outputs": [],
   "source": []
  }
 ],
 "metadata": {
  "kernelspec": {
   "display_name": "Python 3 (ipykernel)",
   "language": "python",
   "name": "python3"
  },
  "language_info": {
   "codemirror_mode": {
    "name": "ipython",
    "version": 3
   },
   "file_extension": ".py",
   "mimetype": "text/x-python",
   "name": "python",
   "nbconvert_exporter": "python",
   "pygments_lexer": "ipython3",
   "version": "3.10.13"
  }
 },
 "nbformat": 4,
 "nbformat_minor": 5
}
