{
 "cells": [
  {
   "cell_type": "markdown",
   "id": "88a94b4e-00dd-48f1-9d1e-da26cd4818b8",
   "metadata": {},
   "source": [
    "# Test that's time dependent\n",
    "https://jsdokken.com/dolfinx-tutorial/chapter2/ns_code2.html"
   ]
  },
  {
   "cell_type": "code",
   "execution_count": 1,
   "id": "e49bb58c-0e85-46c2-ad62-9cc61a8a9b37",
   "metadata": {},
   "outputs": [
    {
     "name": "stderr",
     "output_type": "stream",
     "text": [
      "/tmp/ipykernel_4085/919224843.py:5: TqdmExperimentalWarning: Using `tqdm.autonotebook.tqdm` in notebook mode. Use `tqdm.tqdm` instead to force console mode (e.g. in jupyter console)\n",
      "  import tqdm.autonotebook\n"
     ]
    }
   ],
   "source": [
    "import gmsh\n",
    "import os\n",
    "import numpy as np\n",
    "import matplotlib.pyplot as plt\n",
    "import tqdm.autonotebook\n",
    "\n",
    "from mpi4py import MPI\n",
    "from petsc4py import PETSc\n",
    "\n",
    "from dolfinx.cpp.mesh import to_type, cell_entity_type\n",
    "from dolfinx.fem import (Constant, Function, FunctionSpace,\n",
    "                         assemble_scalar, dirichletbc, form, locate_dofs_topological, set_bc)\n",
    "from dolfinx.fem.petsc import (apply_lifting, assemble_matrix, assemble_vector,\n",
    "                               create_vector, create_matrix, set_bc)\n",
    "from dolfinx.graph import adjacencylist\n",
    "from dolfinx.geometry import bb_tree, compute_collisions_points, compute_colliding_cells\n",
    "from dolfinx.io import (VTXWriter, distribute_entity_data, gmshio)\n",
    "from dolfinx.mesh import create_mesh, meshtags_from_entities\n",
    "\n",
    "from ufl import (FacetNormal, FiniteElement, Identity, Measure, TestFunction, TrialFunction, VectorElement,\n",
    "                 as_vector, div, dot, ds, dx, inner, lhs, grad, nabla_grad, rhs, sym)\n",
    "\n",
    "gmsh.initialize()\n",
    "\n",
    "L = 2.2\n",
    "H = 0.41\n",
    "c_x = c_y = 0.2\n",
    "r = 0.05\n",
    "gdim = 2\n",
    "mesh_comm = MPI.COMM_WORLD\n",
    "model_rank = 0\n",
    "if mesh_comm.rank == model_rank: # this is required for parallelisation \n",
    "    rectangle = gmsh.model.occ.addRectangle(0, 0, 0, L, H, tag=1)\n",
    "    obstacle = gmsh.model.occ.addDisk(c_x, c_y, 0, r, r)"
   ]
  },
  {
   "cell_type": "code",
   "execution_count": 2,
   "id": "4f1d5fb9-ca38-40da-9dec-5fe180c92952",
   "metadata": {},
   "outputs": [],
   "source": [
    "# subtracts obstical from channel\n",
    "if mesh_comm.rank == model_rank:\n",
    "    fluid = gmsh.model.occ.cut([(gdim, rectangle)], [(gdim, obstacle)])\n",
    "    gmsh.model.occ.synchronize()"
   ]
  },
  {
   "cell_type": "code",
   "execution_count": 3,
   "id": "c8e6c54a-bdf2-4841-8864-08a9318d6539",
   "metadata": {},
   "outputs": [],
   "source": [
    "fluid_marker = 1\n",
    "if mesh_comm.rank == model_rank:\n",
    "    volumes = gmsh.model.getEntities(dim=gdim)\n",
    "    assert (len(volumes) == 1)\n",
    "    gmsh.model.addPhysicalGroup(volumes[0][0], [volumes[0][1]], fluid_marker)\n",
    "    gmsh.model.setPhysicalName(volumes[0][0], fluid_marker, \"Fluid\")"
   ]
  },
  {
   "cell_type": "code",
   "execution_count": 4,
   "id": "de92fc35-5ae8-4e27-852a-7f6b11140604",
   "metadata": {},
   "outputs": [],
   "source": [
    "# Tagging differnet surfaces of the mesh (start from 2 as 1 is ues to mark the fluid volume)\n",
    "\n",
    "inlet_marker, outlet_marker, wall_marker, obstacle_marker = 2, 3, 4, 5\n",
    "inflow, outflow, walls, obstacle = [], [], [], []\n",
    "if mesh_comm.rank == model_rank:\n",
    "    boundaries = gmsh.model.getBoundary(volumes, oriented=False)\n",
    "    for boundary in boundaries:\n",
    "        center_of_mass = gmsh.model.occ.getCenterOfMass(boundary[0], boundary[1])\n",
    "        if np.allclose(center_of_mass, [0, H / 2, 0]):\n",
    "            inflow.append(boundary[1])\n",
    "        elif np.allclose(center_of_mass, [L, H / 2, 0]):\n",
    "            outflow.append(boundary[1])\n",
    "        elif np.allclose(center_of_mass, [L / 2, H, 0]) or np.allclose(center_of_mass, [L / 2, 0, 0]):\n",
    "            walls.append(boundary[1])\n",
    "        else:\n",
    "            obstacle.append(boundary[1])\n",
    "    gmsh.model.addPhysicalGroup(1, walls, wall_marker)\n",
    "    gmsh.model.setPhysicalName(1, wall_marker, \"Walls\")\n",
    "    gmsh.model.addPhysicalGroup(1, inflow, inlet_marker)\n",
    "    gmsh.model.setPhysicalName(1, inlet_marker, \"Inlet\")\n",
    "    gmsh.model.addPhysicalGroup(1, outflow, outlet_marker)\n",
    "    gmsh.model.setPhysicalName(1, outlet_marker, \"Outlet\")\n",
    "    gmsh.model.addPhysicalGroup(1, obstacle, obstacle_marker)\n",
    "    gmsh.model.setPhysicalName(1, obstacle_marker, \"Obstacle\")"
   ]
  },
  {
   "cell_type": "code",
   "execution_count": 5,
   "id": "36d3a954-8884-4501-8d9d-e6408b7a4b34",
   "metadata": {},
   "outputs": [],
   "source": [
    "# This make the mesh not linear\n",
    "\n",
    "# Create distance field from obstacle.\n",
    "# Add threshold of mesh sizes based on the distance field\n",
    "# LcMax -                  /--------\n",
    "#                      /\n",
    "# LcMin -o---------/\n",
    "#        |         |       |\n",
    "#       Point    DistMin DistMax\n",
    "res_min = r / 3\n",
    "if mesh_comm.rank == model_rank:\n",
    "    distance_field = gmsh.model.mesh.field.add(\"Distance\")\n",
    "    gmsh.model.mesh.field.setNumbers(distance_field, \"EdgesList\", obstacle)\n",
    "    threshold_field = gmsh.model.mesh.field.add(\"Threshold\")\n",
    "    gmsh.model.mesh.field.setNumber(threshold_field, \"IField\", distance_field)\n",
    "    gmsh.model.mesh.field.setNumber(threshold_field, \"LcMin\", res_min)\n",
    "    gmsh.model.mesh.field.setNumber(threshold_field, \"LcMax\", 0.25 * H)\n",
    "    gmsh.model.mesh.field.setNumber(threshold_field, \"DistMin\", r)\n",
    "    gmsh.model.mesh.field.setNumber(threshold_field, \"DistMax\", 2 * H)\n",
    "    min_field = gmsh.model.mesh.field.add(\"Min\")\n",
    "    gmsh.model.mesh.field.setNumbers(min_field, \"FieldsList\", [threshold_field])\n",
    "    gmsh.model.mesh.field.setAsBackgroundMesh(min_field)"
   ]
  },
  {
   "cell_type": "code",
   "execution_count": 6,
   "id": "7689b386-f074-4927-b781-d490d9cad456",
   "metadata": {},
   "outputs": [
    {
     "name": "stdout",
     "output_type": "stream",
     "text": [
      "Info    : Meshing 1D...\n",
      "Info    : [  0%] Meshing curve 5 (Ellipse)\n",
      "Info    : [ 20%] Meshing curve 6 (Line)\n",
      "Info    : [ 40%] Meshing curve 7 (Line)\n",
      "Info    : [ 60%] Meshing curve 8 (Line)\n",
      "Info    : [ 80%] Meshing curve 9 (Line)\n",
      "Info    : Done meshing 1D (Wall 0.0121003s, CPU 0.0126s)\n",
      "Info    : Meshing 2D...\n",
      "Info    : Meshing surface 1 (Plane, Frontal-Delaunay for Quads)\n",
      "Info    : Simple recombination completed (Wall 0.00268279s, CPU 0.002388s): 103 quads, 16 triangles, 0 invalid quads, 0 quads with Q < 0.1, avg Q = 0.82361, min Q = 0.425555\n",
      "Info    : Simple recombination completed (Wall 0.00474885s, CPU 0.004693s): 460 quads, 0 triangles, 0 invalid quads, 0 quads with Q < 0.1, avg Q = 0.865979, min Q = 0.499255\n",
      "Info    : Done meshing 2D (Wall 0.0121384s, CPU 0.011349s)\n",
      "Info    : Refining mesh...\n",
      "Info    : Meshing order 2 (curvilinear on)...\n",
      "Info    : [  0%] Meshing curve 5 order 2\n",
      "Info    : [ 20%] Meshing curve 6 order 2\n",
      "Info    : [ 40%] Meshing curve 7 order 2\n",
      "Info    : [ 50%] Meshing curve 8 order 2\n",
      "Info    : [ 70%] Meshing curve 9 order 2\n",
      "Info    : [ 90%] Meshing surface 1 order 2\n",
      "Info    : Done meshing order 2 (Wall 0.00407895s, CPU 0.004291s)\n",
      "Info    : Done refining mesh (Wall 0.0044894s, CPU 0.004791s)\n",
      "Info    : 1952 nodes 2069 elements\n",
      "Info    : Meshing order 2 (curvilinear on)...\n",
      "Info    : [  0%] Meshing curve 5 order 2\n",
      "Info    : [ 20%] Meshing curve 6 order 2\n",
      "Info    : [ 40%] Meshing curve 7 order 2\n",
      "Info    : [ 50%] Meshing curve 8 order 2\n",
      "Info    : [ 70%] Meshing curve 9 order 2\n",
      "Info    : [ 90%] Meshing surface 1 order 2\n",
      "Info    : Done meshing order 2 (Wall 0.0220359s, CPU 0.020714s)\n",
      "Info    : Optimizing mesh (Netgen)...\n",
      "Info    : Done optimizing mesh (Wall 2.281e-06s, CPU 5e-06s)\n"
     ]
    }
   ],
   "source": [
    "# mesh generation\n",
    "\n",
    "if mesh_comm.rank == model_rank:\n",
    "    gmsh.option.setNumber(\"Mesh.Algorithm\", 8)\n",
    "    gmsh.option.setNumber(\"Mesh.RecombinationAlgorithm\", 2)\n",
    "    gmsh.option.setNumber(\"Mesh.RecombineAll\", 1)\n",
    "    gmsh.option.setNumber(\"Mesh.SubdivisionAlgorithm\", 1)\n",
    "    gmsh.model.mesh.generate(gdim)\n",
    "    gmsh.model.mesh.setOrder(2)\n",
    "    gmsh.model.mesh.optimize(\"Netgen\")"
   ]
  },
  {
   "cell_type": "code",
   "execution_count": 7,
   "id": "0ce45d9c-90f8-4eaf-8fc9-ddf95e824051",
   "metadata": {},
   "outputs": [],
   "source": [
    "# Loads in the mesh\n",
    "mesh, _, ft = gmshio.model_to_mesh(gmsh.model, mesh_comm, model_rank, gdim=gdim)\n",
    "ft.name = \"Facet markers\""
   ]
  },
  {
   "cell_type": "code",
   "execution_count": 8,
   "id": "5c05a4ff-8156-47d9-a895-fad587507af5",
   "metadata": {},
   "outputs": [
    {
     "name": "stdout",
     "output_type": "stream",
     "text": [
      "Info    : Writing 'test.msh'...\n",
      "Info    : Done writing 'test.msh'\n"
     ]
    }
   ],
   "source": [
    "# Write to .msh\n",
    "gmsh.write(\"test.msh\")"
   ]
  },
  {
   "cell_type": "code",
   "execution_count": 9,
   "id": "39f3b8ef-c19f-4fca-ba6b-d020c4d2b082",
   "metadata": {},
   "outputs": [],
   "source": [
    "# write to xdmf\n",
    "from dolfinx.io import XDMFFile, gmshio\n",
    "with XDMFFile(mesh.comm, \"test.xdmf\", \"w\") as file:\n",
    "    file.write_mesh(mesh)"
   ]
  },
  {
   "cell_type": "code",
   "execution_count": 10,
   "id": "69a71ac3-72df-40c4-883e-018aff31aeda",
   "metadata": {},
   "outputs": [],
   "source": [
    "# Definition of problem specific parameters\n",
    "t = 0\n",
    "T = 8                       # Final time\n",
    "dt = 1 / 1600                 # Time step size\n",
    "num_steps = int(T / dt)\n",
    "k = Constant(mesh, PETSc.ScalarType(dt))\n",
    "mu = Constant(mesh, PETSc.ScalarType(0.001))  # Dynamic viscosity\n",
    "rho = Constant(mesh, PETSc.ScalarType(1))     # Density"
   ]
  },
  {
   "cell_type": "code",
   "execution_count": 11,
   "id": "49f7634c-6836-495e-affd-bf4e1b39a185",
   "metadata": {},
   "outputs": [],
   "source": [
    "# Definitions of the boundary conditions\n",
    "v_cg2 = VectorElement(\"Lagrange\", mesh.ufl_cell(), 2)\n",
    "s_cg1 = FiniteElement(\"Lagrange\", mesh.ufl_cell(), 1)\n",
    "V = FunctionSpace(mesh, v_cg2)\n",
    "Q = FunctionSpace(mesh, s_cg1)\n",
    "\n",
    "fdim = mesh.topology.dim - 1\n",
    "\n",
    "# Define boundary conditions\n",
    "\n",
    "\n",
    "class InletVelocity():\n",
    "    def __init__(self, t):\n",
    "        self.t = t\n",
    "\n",
    "    def __call__(self, x):\n",
    "        values = np.zeros((gdim, x.shape[1]), dtype=PETSc.ScalarType)\n",
    "        values[0] = 4 * 1.5 * np.sin(self.t * np.pi / 8) * x[1] * (0.41 - x[1]) / (0.41**2)\n",
    "        return values\n",
    "\n",
    "\n",
    "# Inlet\n",
    "u_inlet = Function(V)\n",
    "inlet_velocity = InletVelocity(t)\n",
    "u_inlet.interpolate(inlet_velocity)\n",
    "bcu_inflow = dirichletbc(u_inlet, locate_dofs_topological(V, fdim, ft.find(inlet_marker)))\n",
    "# Walls\n",
    "u_nonslip = np.array((0,) * mesh.geometry.dim, dtype=PETSc.ScalarType)\n",
    "bcu_walls = dirichletbc(u_nonslip, locate_dofs_topological(V, fdim, ft.find(wall_marker)), V)\n",
    "# Obstacle\n",
    "bcu_obstacle = dirichletbc(u_nonslip, locate_dofs_topological(V, fdim, ft.find(obstacle_marker)), V)\n",
    "bcu = [bcu_inflow, bcu_obstacle, bcu_walls]\n",
    "# Outlet\n",
    "bcp_outlet = dirichletbc(PETSc.ScalarType(0), locate_dofs_topological(Q, fdim, ft.find(outlet_marker)), Q)\n",
    "bcp = [bcp_outlet]"
   ]
  },
  {
   "cell_type": "code",
   "execution_count": 14,
   "id": "df184647-896e-4f3f-8e3e-2c29f2593d09",
   "metadata": {},
   "outputs": [
    {
     "ename": "RecursionError",
     "evalue": "maximum recursion depth exceeded in comparison",
     "output_type": "error",
     "traceback": [
      "\u001b[0;31m---------------------------------------------------------------------------\u001b[0m",
      "\u001b[0;31mAttributeError\u001b[0m                            Traceback (most recent call last)",
      "File \u001b[0;32m~/miniconda3/envs/ProjEnv/lib/python3.10/site-packages/ufl/domain.py:298\u001b[0m, in \u001b[0;36mas_domain\u001b[0;34m(domain)\u001b[0m\n\u001b[1;32m    297\u001b[0m \u001b[38;5;28;01mtry\u001b[39;00m:\n\u001b[0;32m--> 298\u001b[0m     \u001b[38;5;28;01mreturn\u001b[39;00m \u001b[43mextract_unique_domain\u001b[49m\u001b[43m(\u001b[49m\u001b[43mdomain\u001b[49m\u001b[43m)\u001b[49m\n\u001b[1;32m    299\u001b[0m \u001b[38;5;28;01mexcept\u001b[39;00m \u001b[38;5;167;01mAttributeError\u001b[39;00m:\n",
      "File \u001b[0;32m~/miniconda3/envs/ProjEnv/lib/python3.10/site-packages/ufl/domain.py:372\u001b[0m, in \u001b[0;36mextract_unique_domain\u001b[0;34m(expr)\u001b[0m\n\u001b[1;32m    371\u001b[0m \u001b[38;5;250m\u001b[39m\u001b[38;5;124;03m\"\"\"Return the single unique domain expression is defined on or throw an error.\"\"\"\u001b[39;00m\n\u001b[0;32m--> 372\u001b[0m domains \u001b[38;5;241m=\u001b[39m \u001b[43mextract_domains\u001b[49m\u001b[43m(\u001b[49m\u001b[43mexpr\u001b[49m\u001b[43m)\u001b[49m\n\u001b[1;32m    373\u001b[0m \u001b[38;5;28;01mif\u001b[39;00m \u001b[38;5;28mlen\u001b[39m(domains) \u001b[38;5;241m==\u001b[39m \u001b[38;5;241m1\u001b[39m:\n",
      "File \u001b[0;32m~/miniconda3/envs/ProjEnv/lib/python3.10/site-packages/ufl/domain.py:365\u001b[0m, in \u001b[0;36mextract_domains\u001b[0;34m(expr)\u001b[0m\n\u001b[1;32m    364\u001b[0m domainlist \u001b[38;5;241m=\u001b[39m []\n\u001b[0;32m--> 365\u001b[0m \u001b[38;5;28;01mfor\u001b[39;00m t \u001b[38;5;129;01min\u001b[39;00m traverse_unique_terminals(expr):\n\u001b[1;32m    366\u001b[0m     domainlist\u001b[38;5;241m.\u001b[39mextend(t\u001b[38;5;241m.\u001b[39mufl_domains())\n",
      "File \u001b[0;32m~/miniconda3/envs/ProjEnv/lib/python3.10/site-packages/ufl/corealg/traversal.py:137\u001b[0m, in \u001b[0;36mtraverse_unique_terminals\u001b[0;34m(expr, visited)\u001b[0m\n\u001b[1;32m    136\u001b[0m \u001b[38;5;28;01mfor\u001b[39;00m op \u001b[38;5;129;01min\u001b[39;00m unique_pre_traversal(expr, visited\u001b[38;5;241m=\u001b[39mvisited):\n\u001b[0;32m--> 137\u001b[0m     \u001b[38;5;28;01mif\u001b[39;00m \u001b[43mop\u001b[49m\u001b[38;5;241;43m.\u001b[39;49m\u001b[43m_ufl_is_terminal_\u001b[49m:\n\u001b[1;32m    138\u001b[0m         \u001b[38;5;28;01myield\u001b[39;00m op\n",
      "\u001b[0;31mAttributeError\u001b[0m: 'tuple' object has no attribute '_ufl_is_terminal_'",
      "\nDuring handling of the above exception, another exception occurred:\n",
      "\u001b[0;31mRecursionError\u001b[0m                            Traceback (most recent call last)",
      "Cell \u001b[0;32mIn[14], line 5\u001b[0m\n\u001b[1;32m      3\u001b[0m p \u001b[38;5;241m=\u001b[39m TrialFunction(Q)\n\u001b[1;32m      4\u001b[0m q \u001b[38;5;241m=\u001b[39m TestFunction(Q)\n\u001b[0;32m----> 5\u001b[0m f \u001b[38;5;241m=\u001b[39m \u001b[43mConstant\u001b[49m\u001b[43m(\u001b[49m\u001b[43m(\u001b[49m\u001b[38;5;241;43m0\u001b[39;49m\u001b[43m,\u001b[49m\u001b[43m \u001b[49m\u001b[38;5;241;43m0\u001b[39;49m\u001b[43m)\u001b[49m\u001b[43m,\u001b[49m\u001b[43m \u001b[49m\u001b[43mPETSc\u001b[49m\u001b[38;5;241;43m.\u001b[39;49m\u001b[43mScalarType\u001b[49m\u001b[43m(\u001b[49m\u001b[43m(\u001b[49m\u001b[38;5;241;43m0\u001b[39;49m\u001b[43m,\u001b[49m\u001b[43m \u001b[49m\u001b[38;5;241;43m0\u001b[39;49m\u001b[43m)\u001b[49m\u001b[43m)\u001b[49m\u001b[43m)\u001b[49m\n\u001b[1;32m      6\u001b[0m a \u001b[38;5;241m=\u001b[39m (inner(grad(u), grad(v)) \u001b[38;5;241m-\u001b[39m div(v)\u001b[38;5;241m*\u001b[39mp \u001b[38;5;241m+\u001b[39m q\u001b[38;5;241m*\u001b[39mdiv(u))\u001b[38;5;241m*\u001b[39mdx\n\u001b[1;32m      7\u001b[0m L \u001b[38;5;241m=\u001b[39m inner(f, v)\u001b[38;5;241m*\u001b[39mdx\n",
      "File \u001b[0;32m~/miniconda3/envs/ProjEnv/lib/python3.10/site-packages/dolfinx/fem/function.py:39\u001b[0m, in \u001b[0;36mConstant.__init__\u001b[0;34m(self, domain, c)\u001b[0m\n\u001b[1;32m     31\u001b[0m \u001b[38;5;250m\u001b[39m\u001b[38;5;124;03m\"\"\"A constant with respect to a domain.\u001b[39;00m\n\u001b[1;32m     32\u001b[0m \n\u001b[1;32m     33\u001b[0m \u001b[38;5;124;03mArgs:\u001b[39;00m\n\u001b[0;32m   (...)\u001b[0m\n\u001b[1;32m     36\u001b[0m \n\u001b[1;32m     37\u001b[0m \u001b[38;5;124;03m\"\"\"\u001b[39;00m\n\u001b[1;32m     38\u001b[0m c \u001b[38;5;241m=\u001b[39m np\u001b[38;5;241m.\u001b[39masarray(c)\n\u001b[0;32m---> 39\u001b[0m \u001b[38;5;28;43msuper\u001b[39;49m\u001b[43m(\u001b[49m\u001b[43m)\u001b[49m\u001b[38;5;241;43m.\u001b[39;49m\u001b[38;5;21;43m__init__\u001b[39;49m\u001b[43m(\u001b[49m\u001b[43mdomain\u001b[49m\u001b[43m,\u001b[49m\u001b[43m \u001b[49m\u001b[43mc\u001b[49m\u001b[38;5;241;43m.\u001b[39;49m\u001b[43mshape\u001b[49m\u001b[43m)\u001b[49m\n\u001b[1;32m     40\u001b[0m \u001b[38;5;28;01mtry\u001b[39;00m:\n\u001b[1;32m     41\u001b[0m     \u001b[38;5;28;01mif\u001b[39;00m c\u001b[38;5;241m.\u001b[39mdtype \u001b[38;5;241m==\u001b[39m np\u001b[38;5;241m.\u001b[39mcomplex64:\n",
      "File \u001b[0;32m~/miniconda3/envs/ProjEnv/lib/python3.10/site-packages/ufl/constant.py:26\u001b[0m, in \u001b[0;36mConstant.__init__\u001b[0;34m(self, domain, shape, count)\u001b[0m\n\u001b[1;32m     23\u001b[0m Terminal\u001b[38;5;241m.\u001b[39m\u001b[38;5;21m__init__\u001b[39m(\u001b[38;5;28mself\u001b[39m)\n\u001b[1;32m     24\u001b[0m Counted\u001b[38;5;241m.\u001b[39m\u001b[38;5;21m__init__\u001b[39m(\u001b[38;5;28mself\u001b[39m, count, Constant)\n\u001b[0;32m---> 26\u001b[0m \u001b[38;5;28mself\u001b[39m\u001b[38;5;241m.\u001b[39m_ufl_domain \u001b[38;5;241m=\u001b[39m \u001b[43mas_domain\u001b[49m\u001b[43m(\u001b[49m\u001b[43mdomain\u001b[49m\u001b[43m)\u001b[49m\n\u001b[1;32m     27\u001b[0m \u001b[38;5;28mself\u001b[39m\u001b[38;5;241m.\u001b[39m_ufl_shape \u001b[38;5;241m=\u001b[39m shape\n\u001b[1;32m     29\u001b[0m \u001b[38;5;66;03m# Repr string is build in such way, that reconstruction\u001b[39;00m\n\u001b[1;32m     30\u001b[0m \u001b[38;5;66;03m# with eval() is possible\u001b[39;00m\n",
      "File \u001b[0;32m~/miniconda3/envs/ProjEnv/lib/python3.10/site-packages/ufl/domain.py:305\u001b[0m, in \u001b[0;36mas_domain\u001b[0;34m(domain)\u001b[0m\n\u001b[1;32m    299\u001b[0m \u001b[38;5;28;01mexcept\u001b[39;00m \u001b[38;5;167;01mAttributeError\u001b[39;00m:\n\u001b[1;32m    300\u001b[0m     \u001b[38;5;28;01mtry\u001b[39;00m:\n\u001b[1;32m    301\u001b[0m         \u001b[38;5;66;03m# Legacy UFL files\u001b[39;00m\n\u001b[1;32m    302\u001b[0m         \u001b[38;5;66;03m# TODO: Make this conversion in the relevant constructors\u001b[39;00m\n\u001b[1;32m    303\u001b[0m         \u001b[38;5;66;03m# closer to the user interface?\u001b[39;00m\n\u001b[1;32m    304\u001b[0m         \u001b[38;5;66;03m# TODO: Make this configurable to be an error from the dolfin side?\u001b[39;00m\n\u001b[0;32m--> 305\u001b[0m         cell \u001b[38;5;241m=\u001b[39m \u001b[43mas_cell\u001b[49m\u001b[43m(\u001b[49m\u001b[43mdomain\u001b[49m\u001b[43m)\u001b[49m\n\u001b[1;32m    306\u001b[0m         \u001b[38;5;28;01mreturn\u001b[39;00m default_domain(cell)\n\u001b[1;32m    307\u001b[0m     \u001b[38;5;28;01mexcept\u001b[39;00m \u001b[38;5;167;01mValueError\u001b[39;00m:\n",
      "File \u001b[0;32m~/miniconda3/envs/ProjEnv/lib/python3.10/site-packages/ufl/cell.py:480\u001b[0m, in \u001b[0;36mas_cell\u001b[0;34m(cell)\u001b[0m\n\u001b[1;32m    478\u001b[0m     \u001b[38;5;28;01mreturn\u001b[39;00m Cell(cell)\n\u001b[1;32m    479\u001b[0m \u001b[38;5;28;01melif\u001b[39;00m \u001b[38;5;28misinstance\u001b[39m(cell, \u001b[38;5;28mtuple\u001b[39m):\n\u001b[0;32m--> 480\u001b[0m     \u001b[38;5;28;01mreturn\u001b[39;00m \u001b[43mTensorProductCell\u001b[49m\u001b[43m(\u001b[49m\u001b[43mcell\u001b[49m\u001b[43m)\u001b[49m\n\u001b[1;32m    481\u001b[0m \u001b[38;5;28;01melse\u001b[39;00m:\n\u001b[1;32m    482\u001b[0m     \u001b[38;5;28;01mraise\u001b[39;00m \u001b[38;5;167;01mValueError\u001b[39;00m(\u001b[38;5;124mf\u001b[39m\u001b[38;5;124m\"\u001b[39m\u001b[38;5;124mInvalid cell \u001b[39m\u001b[38;5;132;01m{\u001b[39;00mcell\u001b[38;5;132;01m}\u001b[39;00m\u001b[38;5;124m.\u001b[39m\u001b[38;5;124m\"\u001b[39m)\n",
      "File \u001b[0;32m~/miniconda3/envs/ProjEnv/lib/python3.10/site-packages/ufl/cell.py:333\u001b[0m, in \u001b[0;36mTensorProductCell.__init__\u001b[0;34m(self, geometric_dimension, *cells)\u001b[0m\n\u001b[1;32m    326\u001b[0m \u001b[38;5;28;01mdef\u001b[39;00m \u001b[38;5;21m__init__\u001b[39m(\u001b[38;5;28mself\u001b[39m, \u001b[38;5;241m*\u001b[39mcells: Cell, geometric_dimension: typing\u001b[38;5;241m.\u001b[39mOptional[\u001b[38;5;28mint\u001b[39m] \u001b[38;5;241m=\u001b[39m \u001b[38;5;28;01mNone\u001b[39;00m):\n\u001b[1;32m    327\u001b[0m \u001b[38;5;250m    \u001b[39m\u001b[38;5;124;03m\"\"\"Initialise.\u001b[39;00m\n\u001b[1;32m    328\u001b[0m \n\u001b[1;32m    329\u001b[0m \u001b[38;5;124;03m    Args:\u001b[39;00m\n\u001b[1;32m    330\u001b[0m \u001b[38;5;124;03m        cells: Cells to take the tensor product of\u001b[39;00m\n\u001b[1;32m    331\u001b[0m \u001b[38;5;124;03m        geometric_dimension: Geometric dimension\u001b[39;00m\n\u001b[1;32m    332\u001b[0m \u001b[38;5;124;03m    \"\"\"\u001b[39;00m\n\u001b[0;32m--> 333\u001b[0m     \u001b[38;5;28mself\u001b[39m\u001b[38;5;241m.\u001b[39m_cells \u001b[38;5;241m=\u001b[39m \u001b[38;5;28;43mtuple\u001b[39;49m\u001b[43m(\u001b[49m\u001b[43mas_cell\u001b[49m\u001b[43m(\u001b[49m\u001b[43mcell\u001b[49m\u001b[43m)\u001b[49m\u001b[43m \u001b[49m\u001b[38;5;28;43;01mfor\u001b[39;49;00m\u001b[43m \u001b[49m\u001b[43mcell\u001b[49m\u001b[43m \u001b[49m\u001b[38;5;129;43;01min\u001b[39;49;00m\u001b[43m \u001b[49m\u001b[43mcells\u001b[49m\u001b[43m)\u001b[49m\n\u001b[1;32m    335\u001b[0m     \u001b[38;5;28mself\u001b[39m\u001b[38;5;241m.\u001b[39m_tdim \u001b[38;5;241m=\u001b[39m \u001b[38;5;28msum\u001b[39m([cell\u001b[38;5;241m.\u001b[39mtopological_dimension() \u001b[38;5;28;01mfor\u001b[39;00m cell \u001b[38;5;129;01min\u001b[39;00m \u001b[38;5;28mself\u001b[39m\u001b[38;5;241m.\u001b[39m_cells])\n\u001b[1;32m    336\u001b[0m     \u001b[38;5;28mself\u001b[39m\u001b[38;5;241m.\u001b[39m_gdim \u001b[38;5;241m=\u001b[39m \u001b[38;5;28mself\u001b[39m\u001b[38;5;241m.\u001b[39m_tdim \u001b[38;5;28;01mif\u001b[39;00m geometric_dimension \u001b[38;5;129;01mis\u001b[39;00m \u001b[38;5;28;01mNone\u001b[39;00m \u001b[38;5;28;01melse\u001b[39;00m geometric_dimension\n",
      "File \u001b[0;32m~/miniconda3/envs/ProjEnv/lib/python3.10/site-packages/ufl/cell.py:333\u001b[0m, in \u001b[0;36m<genexpr>\u001b[0;34m(.0)\u001b[0m\n\u001b[1;32m    326\u001b[0m \u001b[38;5;28;01mdef\u001b[39;00m \u001b[38;5;21m__init__\u001b[39m(\u001b[38;5;28mself\u001b[39m, \u001b[38;5;241m*\u001b[39mcells: Cell, geometric_dimension: typing\u001b[38;5;241m.\u001b[39mOptional[\u001b[38;5;28mint\u001b[39m] \u001b[38;5;241m=\u001b[39m \u001b[38;5;28;01mNone\u001b[39;00m):\n\u001b[1;32m    327\u001b[0m \u001b[38;5;250m    \u001b[39m\u001b[38;5;124;03m\"\"\"Initialise.\u001b[39;00m\n\u001b[1;32m    328\u001b[0m \n\u001b[1;32m    329\u001b[0m \u001b[38;5;124;03m    Args:\u001b[39;00m\n\u001b[1;32m    330\u001b[0m \u001b[38;5;124;03m        cells: Cells to take the tensor product of\u001b[39;00m\n\u001b[1;32m    331\u001b[0m \u001b[38;5;124;03m        geometric_dimension: Geometric dimension\u001b[39;00m\n\u001b[1;32m    332\u001b[0m \u001b[38;5;124;03m    \"\"\"\u001b[39;00m\n\u001b[0;32m--> 333\u001b[0m     \u001b[38;5;28mself\u001b[39m\u001b[38;5;241m.\u001b[39m_cells \u001b[38;5;241m=\u001b[39m \u001b[38;5;28mtuple\u001b[39m(\u001b[43mas_cell\u001b[49m\u001b[43m(\u001b[49m\u001b[43mcell\u001b[49m\u001b[43m)\u001b[49m \u001b[38;5;28;01mfor\u001b[39;00m cell \u001b[38;5;129;01min\u001b[39;00m cells)\n\u001b[1;32m    335\u001b[0m     \u001b[38;5;28mself\u001b[39m\u001b[38;5;241m.\u001b[39m_tdim \u001b[38;5;241m=\u001b[39m \u001b[38;5;28msum\u001b[39m([cell\u001b[38;5;241m.\u001b[39mtopological_dimension() \u001b[38;5;28;01mfor\u001b[39;00m cell \u001b[38;5;129;01min\u001b[39;00m \u001b[38;5;28mself\u001b[39m\u001b[38;5;241m.\u001b[39m_cells])\n\u001b[1;32m    336\u001b[0m     \u001b[38;5;28mself\u001b[39m\u001b[38;5;241m.\u001b[39m_gdim \u001b[38;5;241m=\u001b[39m \u001b[38;5;28mself\u001b[39m\u001b[38;5;241m.\u001b[39m_tdim \u001b[38;5;28;01mif\u001b[39;00m geometric_dimension \u001b[38;5;129;01mis\u001b[39;00m \u001b[38;5;28;01mNone\u001b[39;00m \u001b[38;5;28;01melse\u001b[39;00m geometric_dimension\n",
      "File \u001b[0;32m~/miniconda3/envs/ProjEnv/lib/python3.10/site-packages/ufl/cell.py:480\u001b[0m, in \u001b[0;36mas_cell\u001b[0;34m(cell)\u001b[0m\n\u001b[1;32m    478\u001b[0m     \u001b[38;5;28;01mreturn\u001b[39;00m Cell(cell)\n\u001b[1;32m    479\u001b[0m \u001b[38;5;28;01melif\u001b[39;00m \u001b[38;5;28misinstance\u001b[39m(cell, \u001b[38;5;28mtuple\u001b[39m):\n\u001b[0;32m--> 480\u001b[0m     \u001b[38;5;28;01mreturn\u001b[39;00m \u001b[43mTensorProductCell\u001b[49m\u001b[43m(\u001b[49m\u001b[43mcell\u001b[49m\u001b[43m)\u001b[49m\n\u001b[1;32m    481\u001b[0m \u001b[38;5;28;01melse\u001b[39;00m:\n\u001b[1;32m    482\u001b[0m     \u001b[38;5;28;01mraise\u001b[39;00m \u001b[38;5;167;01mValueError\u001b[39;00m(\u001b[38;5;124mf\u001b[39m\u001b[38;5;124m\"\u001b[39m\u001b[38;5;124mInvalid cell \u001b[39m\u001b[38;5;132;01m{\u001b[39;00mcell\u001b[38;5;132;01m}\u001b[39;00m\u001b[38;5;124m.\u001b[39m\u001b[38;5;124m\"\u001b[39m)\n",
      "File \u001b[0;32m~/miniconda3/envs/ProjEnv/lib/python3.10/site-packages/ufl/cell.py:333\u001b[0m, in \u001b[0;36mTensorProductCell.__init__\u001b[0;34m(self, geometric_dimension, *cells)\u001b[0m\n\u001b[1;32m    326\u001b[0m \u001b[38;5;28;01mdef\u001b[39;00m \u001b[38;5;21m__init__\u001b[39m(\u001b[38;5;28mself\u001b[39m, \u001b[38;5;241m*\u001b[39mcells: Cell, geometric_dimension: typing\u001b[38;5;241m.\u001b[39mOptional[\u001b[38;5;28mint\u001b[39m] \u001b[38;5;241m=\u001b[39m \u001b[38;5;28;01mNone\u001b[39;00m):\n\u001b[1;32m    327\u001b[0m \u001b[38;5;250m    \u001b[39m\u001b[38;5;124;03m\"\"\"Initialise.\u001b[39;00m\n\u001b[1;32m    328\u001b[0m \n\u001b[1;32m    329\u001b[0m \u001b[38;5;124;03m    Args:\u001b[39;00m\n\u001b[1;32m    330\u001b[0m \u001b[38;5;124;03m        cells: Cells to take the tensor product of\u001b[39;00m\n\u001b[1;32m    331\u001b[0m \u001b[38;5;124;03m        geometric_dimension: Geometric dimension\u001b[39;00m\n\u001b[1;32m    332\u001b[0m \u001b[38;5;124;03m    \"\"\"\u001b[39;00m\n\u001b[0;32m--> 333\u001b[0m     \u001b[38;5;28mself\u001b[39m\u001b[38;5;241m.\u001b[39m_cells \u001b[38;5;241m=\u001b[39m \u001b[38;5;28;43mtuple\u001b[39;49m\u001b[43m(\u001b[49m\u001b[43mas_cell\u001b[49m\u001b[43m(\u001b[49m\u001b[43mcell\u001b[49m\u001b[43m)\u001b[49m\u001b[43m \u001b[49m\u001b[38;5;28;43;01mfor\u001b[39;49;00m\u001b[43m \u001b[49m\u001b[43mcell\u001b[49m\u001b[43m \u001b[49m\u001b[38;5;129;43;01min\u001b[39;49;00m\u001b[43m \u001b[49m\u001b[43mcells\u001b[49m\u001b[43m)\u001b[49m\n\u001b[1;32m    335\u001b[0m     \u001b[38;5;28mself\u001b[39m\u001b[38;5;241m.\u001b[39m_tdim \u001b[38;5;241m=\u001b[39m \u001b[38;5;28msum\u001b[39m([cell\u001b[38;5;241m.\u001b[39mtopological_dimension() \u001b[38;5;28;01mfor\u001b[39;00m cell \u001b[38;5;129;01min\u001b[39;00m \u001b[38;5;28mself\u001b[39m\u001b[38;5;241m.\u001b[39m_cells])\n\u001b[1;32m    336\u001b[0m     \u001b[38;5;28mself\u001b[39m\u001b[38;5;241m.\u001b[39m_gdim \u001b[38;5;241m=\u001b[39m \u001b[38;5;28mself\u001b[39m\u001b[38;5;241m.\u001b[39m_tdim \u001b[38;5;28;01mif\u001b[39;00m geometric_dimension \u001b[38;5;129;01mis\u001b[39;00m \u001b[38;5;28;01mNone\u001b[39;00m \u001b[38;5;28;01melse\u001b[39;00m geometric_dimension\n",
      "File \u001b[0;32m~/miniconda3/envs/ProjEnv/lib/python3.10/site-packages/ufl/cell.py:333\u001b[0m, in \u001b[0;36m<genexpr>\u001b[0;34m(.0)\u001b[0m\n\u001b[1;32m    326\u001b[0m \u001b[38;5;28;01mdef\u001b[39;00m \u001b[38;5;21m__init__\u001b[39m(\u001b[38;5;28mself\u001b[39m, \u001b[38;5;241m*\u001b[39mcells: Cell, geometric_dimension: typing\u001b[38;5;241m.\u001b[39mOptional[\u001b[38;5;28mint\u001b[39m] \u001b[38;5;241m=\u001b[39m \u001b[38;5;28;01mNone\u001b[39;00m):\n\u001b[1;32m    327\u001b[0m \u001b[38;5;250m    \u001b[39m\u001b[38;5;124;03m\"\"\"Initialise.\u001b[39;00m\n\u001b[1;32m    328\u001b[0m \n\u001b[1;32m    329\u001b[0m \u001b[38;5;124;03m    Args:\u001b[39;00m\n\u001b[1;32m    330\u001b[0m \u001b[38;5;124;03m        cells: Cells to take the tensor product of\u001b[39;00m\n\u001b[1;32m    331\u001b[0m \u001b[38;5;124;03m        geometric_dimension: Geometric dimension\u001b[39;00m\n\u001b[1;32m    332\u001b[0m \u001b[38;5;124;03m    \"\"\"\u001b[39;00m\n\u001b[0;32m--> 333\u001b[0m     \u001b[38;5;28mself\u001b[39m\u001b[38;5;241m.\u001b[39m_cells \u001b[38;5;241m=\u001b[39m \u001b[38;5;28mtuple\u001b[39m(\u001b[43mas_cell\u001b[49m\u001b[43m(\u001b[49m\u001b[43mcell\u001b[49m\u001b[43m)\u001b[49m \u001b[38;5;28;01mfor\u001b[39;00m cell \u001b[38;5;129;01min\u001b[39;00m cells)\n\u001b[1;32m    335\u001b[0m     \u001b[38;5;28mself\u001b[39m\u001b[38;5;241m.\u001b[39m_tdim \u001b[38;5;241m=\u001b[39m \u001b[38;5;28msum\u001b[39m([cell\u001b[38;5;241m.\u001b[39mtopological_dimension() \u001b[38;5;28;01mfor\u001b[39;00m cell \u001b[38;5;129;01min\u001b[39;00m \u001b[38;5;28mself\u001b[39m\u001b[38;5;241m.\u001b[39m_cells])\n\u001b[1;32m    336\u001b[0m     \u001b[38;5;28mself\u001b[39m\u001b[38;5;241m.\u001b[39m_gdim \u001b[38;5;241m=\u001b[39m \u001b[38;5;28mself\u001b[39m\u001b[38;5;241m.\u001b[39m_tdim \u001b[38;5;28;01mif\u001b[39;00m geometric_dimension \u001b[38;5;129;01mis\u001b[39;00m \u001b[38;5;28;01mNone\u001b[39;00m \u001b[38;5;28;01melse\u001b[39;00m geometric_dimension\n",
      "    \u001b[0;31m[... skipping similar frames: <genexpr> at line 333 (738 times), TensorProductCell.__init__ at line 333 (738 times), as_cell at line 480 (738 times)]\u001b[0m\n",
      "File \u001b[0;32m~/miniconda3/envs/ProjEnv/lib/python3.10/site-packages/ufl/cell.py:480\u001b[0m, in \u001b[0;36mas_cell\u001b[0;34m(cell)\u001b[0m\n\u001b[1;32m    478\u001b[0m     \u001b[38;5;28;01mreturn\u001b[39;00m Cell(cell)\n\u001b[1;32m    479\u001b[0m \u001b[38;5;28;01melif\u001b[39;00m \u001b[38;5;28misinstance\u001b[39m(cell, \u001b[38;5;28mtuple\u001b[39m):\n\u001b[0;32m--> 480\u001b[0m     \u001b[38;5;28;01mreturn\u001b[39;00m \u001b[43mTensorProductCell\u001b[49m\u001b[43m(\u001b[49m\u001b[43mcell\u001b[49m\u001b[43m)\u001b[49m\n\u001b[1;32m    481\u001b[0m \u001b[38;5;28;01melse\u001b[39;00m:\n\u001b[1;32m    482\u001b[0m     \u001b[38;5;28;01mraise\u001b[39;00m \u001b[38;5;167;01mValueError\u001b[39;00m(\u001b[38;5;124mf\u001b[39m\u001b[38;5;124m\"\u001b[39m\u001b[38;5;124mInvalid cell \u001b[39m\u001b[38;5;132;01m{\u001b[39;00mcell\u001b[38;5;132;01m}\u001b[39;00m\u001b[38;5;124m.\u001b[39m\u001b[38;5;124m\"\u001b[39m)\n",
      "File \u001b[0;32m~/miniconda3/envs/ProjEnv/lib/python3.10/site-packages/ufl/cell.py:333\u001b[0m, in \u001b[0;36mTensorProductCell.__init__\u001b[0;34m(self, geometric_dimension, *cells)\u001b[0m\n\u001b[1;32m    326\u001b[0m \u001b[38;5;28;01mdef\u001b[39;00m \u001b[38;5;21m__init__\u001b[39m(\u001b[38;5;28mself\u001b[39m, \u001b[38;5;241m*\u001b[39mcells: Cell, geometric_dimension: typing\u001b[38;5;241m.\u001b[39mOptional[\u001b[38;5;28mint\u001b[39m] \u001b[38;5;241m=\u001b[39m \u001b[38;5;28;01mNone\u001b[39;00m):\n\u001b[1;32m    327\u001b[0m \u001b[38;5;250m    \u001b[39m\u001b[38;5;124;03m\"\"\"Initialise.\u001b[39;00m\n\u001b[1;32m    328\u001b[0m \n\u001b[1;32m    329\u001b[0m \u001b[38;5;124;03m    Args:\u001b[39;00m\n\u001b[1;32m    330\u001b[0m \u001b[38;5;124;03m        cells: Cells to take the tensor product of\u001b[39;00m\n\u001b[1;32m    331\u001b[0m \u001b[38;5;124;03m        geometric_dimension: Geometric dimension\u001b[39;00m\n\u001b[1;32m    332\u001b[0m \u001b[38;5;124;03m    \"\"\"\u001b[39;00m\n\u001b[0;32m--> 333\u001b[0m     \u001b[38;5;28mself\u001b[39m\u001b[38;5;241m.\u001b[39m_cells \u001b[38;5;241m=\u001b[39m \u001b[38;5;28;43mtuple\u001b[39;49m\u001b[43m(\u001b[49m\u001b[43mas_cell\u001b[49m\u001b[43m(\u001b[49m\u001b[43mcell\u001b[49m\u001b[43m)\u001b[49m\u001b[43m \u001b[49m\u001b[38;5;28;43;01mfor\u001b[39;49;00m\u001b[43m \u001b[49m\u001b[43mcell\u001b[49m\u001b[43m \u001b[49m\u001b[38;5;129;43;01min\u001b[39;49;00m\u001b[43m \u001b[49m\u001b[43mcells\u001b[49m\u001b[43m)\u001b[49m\n\u001b[1;32m    335\u001b[0m     \u001b[38;5;28mself\u001b[39m\u001b[38;5;241m.\u001b[39m_tdim \u001b[38;5;241m=\u001b[39m \u001b[38;5;28msum\u001b[39m([cell\u001b[38;5;241m.\u001b[39mtopological_dimension() \u001b[38;5;28;01mfor\u001b[39;00m cell \u001b[38;5;129;01min\u001b[39;00m \u001b[38;5;28mself\u001b[39m\u001b[38;5;241m.\u001b[39m_cells])\n\u001b[1;32m    336\u001b[0m     \u001b[38;5;28mself\u001b[39m\u001b[38;5;241m.\u001b[39m_gdim \u001b[38;5;241m=\u001b[39m \u001b[38;5;28mself\u001b[39m\u001b[38;5;241m.\u001b[39m_tdim \u001b[38;5;28;01mif\u001b[39;00m geometric_dimension \u001b[38;5;129;01mis\u001b[39;00m \u001b[38;5;28;01mNone\u001b[39;00m \u001b[38;5;28;01melse\u001b[39;00m geometric_dimension\n",
      "File \u001b[0;32m~/miniconda3/envs/ProjEnv/lib/python3.10/site-packages/ufl/cell.py:333\u001b[0m, in \u001b[0;36m<genexpr>\u001b[0;34m(.0)\u001b[0m\n\u001b[1;32m    326\u001b[0m \u001b[38;5;28;01mdef\u001b[39;00m \u001b[38;5;21m__init__\u001b[39m(\u001b[38;5;28mself\u001b[39m, \u001b[38;5;241m*\u001b[39mcells: Cell, geometric_dimension: typing\u001b[38;5;241m.\u001b[39mOptional[\u001b[38;5;28mint\u001b[39m] \u001b[38;5;241m=\u001b[39m \u001b[38;5;28;01mNone\u001b[39;00m):\n\u001b[1;32m    327\u001b[0m \u001b[38;5;250m    \u001b[39m\u001b[38;5;124;03m\"\"\"Initialise.\u001b[39;00m\n\u001b[1;32m    328\u001b[0m \n\u001b[1;32m    329\u001b[0m \u001b[38;5;124;03m    Args:\u001b[39;00m\n\u001b[1;32m    330\u001b[0m \u001b[38;5;124;03m        cells: Cells to take the tensor product of\u001b[39;00m\n\u001b[1;32m    331\u001b[0m \u001b[38;5;124;03m        geometric_dimension: Geometric dimension\u001b[39;00m\n\u001b[1;32m    332\u001b[0m \u001b[38;5;124;03m    \"\"\"\u001b[39;00m\n\u001b[0;32m--> 333\u001b[0m     \u001b[38;5;28mself\u001b[39m\u001b[38;5;241m.\u001b[39m_cells \u001b[38;5;241m=\u001b[39m \u001b[38;5;28mtuple\u001b[39m(\u001b[43mas_cell\u001b[49m\u001b[43m(\u001b[49m\u001b[43mcell\u001b[49m\u001b[43m)\u001b[49m \u001b[38;5;28;01mfor\u001b[39;00m cell \u001b[38;5;129;01min\u001b[39;00m cells)\n\u001b[1;32m    335\u001b[0m     \u001b[38;5;28mself\u001b[39m\u001b[38;5;241m.\u001b[39m_tdim \u001b[38;5;241m=\u001b[39m \u001b[38;5;28msum\u001b[39m([cell\u001b[38;5;241m.\u001b[39mtopological_dimension() \u001b[38;5;28;01mfor\u001b[39;00m cell \u001b[38;5;129;01min\u001b[39;00m \u001b[38;5;28mself\u001b[39m\u001b[38;5;241m.\u001b[39m_cells])\n\u001b[1;32m    336\u001b[0m     \u001b[38;5;28mself\u001b[39m\u001b[38;5;241m.\u001b[39m_gdim \u001b[38;5;241m=\u001b[39m \u001b[38;5;28mself\u001b[39m\u001b[38;5;241m.\u001b[39m_tdim \u001b[38;5;28;01mif\u001b[39;00m geometric_dimension \u001b[38;5;129;01mis\u001b[39;00m \u001b[38;5;28;01mNone\u001b[39;00m \u001b[38;5;28;01melse\u001b[39;00m geometric_dimension\n",
      "File \u001b[0;32m~/miniconda3/envs/ProjEnv/lib/python3.10/site-packages/ufl/cell.py:475\u001b[0m, in \u001b[0;36mas_cell\u001b[0;34m(cell)\u001b[0m\n\u001b[1;32m    470\u001b[0m \u001b[38;5;28;01mdef\u001b[39;00m \u001b[38;5;21mas_cell\u001b[39m(cell: typing\u001b[38;5;241m.\u001b[39mUnion[AbstractCell, \u001b[38;5;28mstr\u001b[39m, typing\u001b[38;5;241m.\u001b[39mTuple[AbstractCell, \u001b[38;5;241m.\u001b[39m\u001b[38;5;241m.\u001b[39m\u001b[38;5;241m.\u001b[39m]]) \u001b[38;5;241m-\u001b[39m\u001b[38;5;241m>\u001b[39m AbstractCell:\n\u001b[1;32m    471\u001b[0m \u001b[38;5;250m    \u001b[39m\u001b[38;5;124;03m\"\"\"Convert any valid object to a Cell or return cell if it is already a Cell.\u001b[39;00m\n\u001b[1;32m    472\u001b[0m \n\u001b[1;32m    473\u001b[0m \u001b[38;5;124;03m    Allows an already valid cell, a known cellname string, or a tuple of cells for a product cell.\u001b[39;00m\n\u001b[1;32m    474\u001b[0m \u001b[38;5;124;03m    \"\"\"\u001b[39;00m\n\u001b[0;32m--> 475\u001b[0m     \u001b[38;5;28;01mif\u001b[39;00m \u001b[38;5;28;43misinstance\u001b[39;49m\u001b[43m(\u001b[49m\u001b[43mcell\u001b[49m\u001b[43m,\u001b[49m\u001b[43m \u001b[49m\u001b[43mAbstractCell\u001b[49m\u001b[43m)\u001b[49m:\n\u001b[1;32m    476\u001b[0m         \u001b[38;5;28;01mreturn\u001b[39;00m cell\n\u001b[1;32m    477\u001b[0m     \u001b[38;5;28;01melif\u001b[39;00m \u001b[38;5;28misinstance\u001b[39m(cell, \u001b[38;5;28mstr\u001b[39m):\n",
      "File \u001b[0;32m~/miniconda3/envs/ProjEnv/lib/python3.10/abc.py:119\u001b[0m, in \u001b[0;36mABCMeta.__instancecheck__\u001b[0;34m(cls, instance)\u001b[0m\n\u001b[1;32m    117\u001b[0m \u001b[38;5;28;01mdef\u001b[39;00m \u001b[38;5;21m__instancecheck__\u001b[39m(\u001b[38;5;28mcls\u001b[39m, instance):\n\u001b[1;32m    118\u001b[0m \u001b[38;5;250m    \u001b[39m\u001b[38;5;124;03m\"\"\"Override for isinstance(instance, cls).\"\"\"\u001b[39;00m\n\u001b[0;32m--> 119\u001b[0m     \u001b[38;5;28;01mreturn\u001b[39;00m \u001b[43m_abc_instancecheck\u001b[49m\u001b[43m(\u001b[49m\u001b[38;5;28;43mcls\u001b[39;49m\u001b[43m,\u001b[49m\u001b[43m \u001b[49m\u001b[43minstance\u001b[49m\u001b[43m)\u001b[49m\n",
      "\u001b[0;31mRecursionError\u001b[0m: maximum recursion depth exceeded in comparison"
     ]
    }
   ],
   "source": [
    "u = TrialFunction(V)\n",
    "v = TestFunction(V)\n",
    "p = TrialFunction(Q)\n",
    "q = TestFunction(Q)\n",
    "f = Constant((0, 0), PETSc.ScalarType((0, 0)))\n",
    "a = (inner(grad(u), grad(v)) - div(v)*p + q*div(u))*dx\n",
    "L = inner(f, v)*dx"
   ]
  },
  {
   "cell_type": "code",
   "execution_count": null,
   "id": "79cb83b9-e8fb-4352-b625-1fa8b595ee29",
   "metadata": {},
   "outputs": [],
   "source": []
  }
 ],
 "metadata": {
  "kernelspec": {
   "display_name": "Python 3 (ipykernel)",
   "language": "python",
   "name": "python3"
  },
  "language_info": {
   "codemirror_mode": {
    "name": "ipython",
    "version": 3
   },
   "file_extension": ".py",
   "mimetype": "text/x-python",
   "name": "python",
   "nbconvert_exporter": "python",
   "pygments_lexer": "ipython3",
   "version": "3.10.13"
  }
 },
 "nbformat": 4,
 "nbformat_minor": 5
}
