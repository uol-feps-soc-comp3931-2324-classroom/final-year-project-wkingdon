{
 "cells": [
  {
   "cell_type": "code",
   "execution_count": 1,
   "id": "ae9c1973-451e-47a0-962a-e220cb1e26e0",
   "metadata": {},
   "outputs": [],
   "source": [
    "from mpi4py import MPI\n",
    "from petsc4py import PETSc\n",
    "\n",
    "import numpy as np\n",
    "\n",
    "from tqdm.notebook import tqdm_notebook\n",
    "\n",
    "import ufl\n",
    "from basix.ufl import element, mixed_element\n",
    "from dolfinx import fem, la, plot, io\n",
    "from dolfinx.fem import (Constant, Function, dirichletbc,\n",
    "                         extract_function_spaces, form, functionspace,\n",
    "                         locate_dofs_topological, locate_dofs_geometrical)\n",
    "from dolfinx.fem.petsc import assemble_matrix_block, assemble_vector_block, LinearProblem,assemble_matrix, create_vector, apply_lifting\n",
    "from dolfinx.io import XDMFFile\n",
    "from dolfinx.mesh import CellType, create_rectangle, locate_entities_boundary\n",
    "from ufl import div, dx, grad, inner\n"
   ]
  },
  {
   "cell_type": "code",
   "execution_count": 2,
   "id": "c3565a61-4741-4128-80aa-a5340b330fdf",
   "metadata": {},
   "outputs": [],
   "source": [
    "# constants \n",
    "rho = 1"
   ]
  },
  {
   "cell_type": "code",
   "execution_count": 3,
   "id": "0296cae1-0842-4ea1-b1e1-4872b66be1cb",
   "metadata": {},
   "outputs": [],
   "source": [
    "# Create mesh\n",
    "msh = create_rectangle(MPI.COMM_WORLD, [np.array([0, 0]), np.array([1, 1])],\n",
    "                       [16, 16], CellType.triangle)\n",
    "\n",
    "\n",
    "# Function to mark x = 0, x = 1 and y = 0\n",
    "def noslip_boundary(x):\n",
    "    return np.logical_or(np.logical_or(np.isclose(x[0], 0.0), np.isclose(x[0], 1.0)),\n",
    "                         np.isclose(x[1], 0.0))\n",
    "\n",
    "\n",
    "# Function to mark the lid (y = 1)\n",
    "def lid(x):\n",
    "    return np.isclose(x[1], 1.0)\n",
    "\n",
    "\n",
    "# Lid velocity\n",
    "def lid_velocity_expression(x):\n",
    "    return np.stack((np.ones(x.shape[1]), np.zeros(x.shape[1])))\n",
    "\n",
    "def initial_dist(x, a = 0.5):\n",
    "    np.full(x.shape[1], 0)\n",
    "\n",
    "# define time step variables \n",
    "T = 13          # final time\n",
    "num_steps = 1300   # number of time steps\n",
    "dt = T / num_steps # time step size"
   ]
  },
  {
   "cell_type": "code",
   "execution_count": 4,
   "id": "e4528fa6-13fb-49f5-978d-f278be788ab5",
   "metadata": {},
   "outputs": [],
   "source": [
    "v_p2 = element(\"P\", msh.basix_cell(), 2, shape=(msh.geometry.dim,))\n",
    "q_p1 = element(\"P\", msh.basix_cell(), 1)\n",
    "z_p1 = element(\"P\", msh.basix_cell(), 1)\n",
    "\n",
    "# Create the Taylot-Hood function space\n",
    "TH = mixed_element([v_p2, q_p1])\n",
    "W = functionspace(msh, TH)\n",
    "\n",
    "Z = fem.FunctionSpace(msh, z_p1)\n",
    "\n",
    "# Variable to hold the solution\n",
    "flow_solution = Function(W)\n",
    "\n",
    "# Create variables for results at current and previous timesteps\n",
    "s_ = fem.Function(Z)\n",
    "s_.x.array[:] = 0.5\n",
    "s_n = fem.Function(Z)\n",
    "s_n.x.array[:] = 0.5"
   ]
  },
  {
   "cell_type": "code",
   "execution_count": 5,
   "id": "7cc415ca-ebe4-4ac4-9465-a6e51592fea7",
   "metadata": {},
   "outputs": [],
   "source": [
    "V, submapV = W.sub(0).collapse()\n",
    "Q, submapQ = W.sub(1).collapse()\n",
    "\n",
    "# No slip boundary condition\n",
    "noslip = Function(V)\n",
    "facets = locate_entities_boundary(msh, 1, noslip_boundary)\n",
    "dofs = locate_dofs_topological((W.sub(0), V), 1, facets)\n",
    "noslip_bc = dirichletbc(noslip, dofs, W.sub(0))\n",
    "\n",
    "# Driving velocity condition u = (1, 0) on top boundary (y = 1)\n",
    "lid_velocity = Function(V)\n",
    "lid_velocity.interpolate(lid_velocity_expression)\n",
    "facets = locate_entities_boundary(msh, 1, lid)\n",
    "dofs = locate_dofs_topological((W.sub(0), V), 1, facets)\n",
    "lid_flow_bc = dirichletbc(lid_velocity, dofs, W.sub(0))\n",
    "\n",
    "# distribution boundary conditions\n",
    "inflow_dofs = fem.locate_dofs_geometrical(Z, lid)\n",
    "inflow_dist_bc = fem.dirichletbc(PETSc.ScalarType(1), inflow_dofs, Z)\n",
    "outflow_dist_bc = fem.dirichletbc(PETSc.ScalarType(-1), inflow_dofs, Z)\n",
    "\n",
    "# Collect Dirichlet boundary conditions\n",
    "flow_bc = [noslip_bc, lid_flow_bc]\n",
    "dist_bc = [outflow_dist_bc, inflow_dist_bc]"
   ]
  },
  {
   "cell_type": "code",
   "execution_count": 6,
   "id": "10eb5648-8710-463c-8495-4812f232b68c",
   "metadata": {},
   "outputs": [],
   "source": [
    "# Define variational problem\n",
    "(u, p) = ufl.TrialFunctions(W)\n",
    "(v, q) = ufl.TestFunctions(W)\n",
    "f = Function(V)\n",
    "\n",
    "F1 = (inner(grad(u), grad(v)) + inner(p, div(v)) + inner(div(u), q)) * dx - inner(f, v) * dx # taylor hood\n",
    "a1 = form(ufl.lhs(F1))\n",
    "L1 = form(ufl.rhs(F1))\n",
    "\n",
    "\n",
    "# Assemble LHS matrix and RHS vector\n",
    "A1 = fem.petsc.assemble_matrix(a1, bcs=flow_bc)\n",
    "A1.assemble()\n",
    "b1 = fem.petsc.assemble_vector(L1)\n",
    "\n",
    "fem.petsc.apply_lifting(b1, [a1], bcs=[flow_bc])\n",
    "b1.ghostUpdate(addv=PETSc.InsertMode.ADD, mode=PETSc.ScatterMode.REVERSE)\n",
    "\n",
    "# Set Dirichlet boundary condition values in the RHS\n",
    "fem.petsc.set_bc(b1, flow_bc)"
   ]
  },
  {
   "cell_type": "code",
   "execution_count": 7,
   "id": "e573742e-e003-4282-b8e1-f576837faeeb",
   "metadata": {},
   "outputs": [],
   "source": [
    "# Create and configure solver\n",
    "ksp = PETSc.KSP().create(msh.comm)\n",
    "ksp.setOperators(A1)\n",
    "ksp.setType(\"preonly\")\n",
    "\n",
    "# Configure MUMPS to handle pressure nullspace\n",
    "pc = ksp.getPC()\n",
    "pc.setType(\"lu\")\n",
    "pc.setFactorSolverType(\"mumps\")\n",
    "pc.setFactorSetUpSolverType()\n",
    "pc.getFactorMatrix().setMumpsIcntl(icntl=24, ival=1)\n",
    "pc.getFactorMatrix().setMumpsIcntl(icntl=25, ival=0)"
   ]
  },
  {
   "cell_type": "code",
   "execution_count": 8,
   "id": "96a6f000-f7b6-4903-acdd-19d5d4672a94",
   "metadata": {},
   "outputs": [],
   "source": [
    "try:\n",
    "    ksp.solve(b1, flow_solution.vector)\n",
    "except PETSc.Error as e:\n",
    "    if e.ierr == 92:\n",
    "        print(\"The required PETSc solver/preconditioner is not available. Exiting.\")\n",
    "        print(e)\n",
    "        exit(0)\n",
    "    else:\n",
    "        raise e\n",
    "\n",
    "# Split the mixed solution and collapse\n",
    "u, p= flow_solution.sub(0).collapse(), flow_solution.sub(1).collapse()"
   ]
  },
  {
   "cell_type": "code",
   "execution_count": 14,
   "id": "2f6ec38f-444a-499b-bffe-3957b94fe547",
   "metadata": {},
   "outputs": [
    {
     "ename": "RuntimeError",
     "evalue": "Degree of output Function must be same as mesh degree. Maybe the Function needs to be interpolated?",
     "output_type": "error",
     "traceback": [
      "\u001b[0;31m---------------------------------------------------------------------------\u001b[0m",
      "\u001b[0;31mRuntimeError\u001b[0m                              Traceback (most recent call last)",
      "Cell \u001b[0;32mIn[14], line 10\u001b[0m\n\u001b[1;32m      8\u001b[0m     u1\u001b[38;5;241m.\u001b[39minterpolate(u)\n\u001b[1;32m      9\u001b[0m     ufile_xdmf\u001b[38;5;241m.\u001b[39mwrite_mesh(msh)\n\u001b[0;32m---> 10\u001b[0m     \u001b[43mufile_xdmf\u001b[49m\u001b[38;5;241;43m.\u001b[39;49m\u001b[43mwrite_function\u001b[49m\u001b[43m(\u001b[49m\u001b[43mflow_solution\u001b[49m\u001b[38;5;241;43m.\u001b[39;49m\u001b[43msub\u001b[49m\u001b[43m(\u001b[49m\u001b[38;5;241;43m0\u001b[39;49m\u001b[43m)\u001b[49m\u001b[43m)\u001b[49m\n\u001b[1;32m     12\u001b[0m \u001b[38;5;66;03m# with XDMFFile(MPI.COMM_WORLD, \"results/out_stokes/pressure.xdmf\", \"w\") as pfile_xdmf:\u001b[39;00m\n\u001b[1;32m     13\u001b[0m \u001b[38;5;66;03m#     p.x.scatter_forward()\u001b[39;00m\n\u001b[1;32m     14\u001b[0m \u001b[38;5;66;03m#     pfile_xdmf.write_mesh(msh)\u001b[39;00m\n\u001b[0;32m   (...)\u001b[0m\n\u001b[1;32m     20\u001b[0m \u001b[38;5;66;03m#     print(f\"(D) Norm of velocity coefficient vector (monolithic, direct): {norm_u}\")\u001b[39;00m\n\u001b[1;32m     21\u001b[0m \u001b[38;5;66;03m#     print(f\"(D) Norm of pressure coefficient vector (monolithic, direct): {norm_p}\")\u001b[39;00m\n",
      "File \u001b[0;32m~/miniconda3/envs/ProjEnv/lib/python3.10/site-packages/dolfinx/io/utils.py:235\u001b[0m, in \u001b[0;36mXDMFFile.write_function\u001b[0;34m(self, u, t, mesh_xpath)\u001b[0m\n\u001b[1;32m    219\u001b[0m \u001b[38;5;28;01mdef\u001b[39;00m \u001b[38;5;21mwrite_function\u001b[39m(\u001b[38;5;28mself\u001b[39m, u: Function, t: \u001b[38;5;28mfloat\u001b[39m \u001b[38;5;241m=\u001b[39m \u001b[38;5;241m0.0\u001b[39m, mesh_xpath\u001b[38;5;241m=\u001b[39m\u001b[38;5;124m\"\u001b[39m\u001b[38;5;124m/Xdmf/Domain/Grid[@GridType=\u001b[39m\u001b[38;5;124m'\u001b[39m\u001b[38;5;124mUniform\u001b[39m\u001b[38;5;124m'\u001b[39m\u001b[38;5;124m][1]\u001b[39m\u001b[38;5;124m\"\u001b[39m):\n\u001b[1;32m    220\u001b[0m \u001b[38;5;250m    \u001b[39m\u001b[38;5;124;03m\"\"\"Write function to file for a given time.\u001b[39;00m\n\u001b[1;32m    221\u001b[0m \n\u001b[1;32m    222\u001b[0m \u001b[38;5;124;03m    Note:\u001b[39;00m\n\u001b[0;32m   (...)\u001b[0m\n\u001b[1;32m    233\u001b[0m \n\u001b[1;32m    234\u001b[0m \u001b[38;5;124;03m    \"\"\"\u001b[39;00m\n\u001b[0;32m--> 235\u001b[0m     \u001b[38;5;28;43msuper\u001b[39;49m\u001b[43m(\u001b[49m\u001b[43m)\u001b[49m\u001b[38;5;241;43m.\u001b[39;49m\u001b[43mwrite_function\u001b[49m\u001b[43m(\u001b[49m\u001b[38;5;28;43mgetattr\u001b[39;49m\u001b[43m(\u001b[49m\u001b[43mu\u001b[49m\u001b[43m,\u001b[49m\u001b[43m \u001b[49m\u001b[38;5;124;43m\"\u001b[39;49m\u001b[38;5;124;43m_cpp_object\u001b[39;49m\u001b[38;5;124;43m\"\u001b[39;49m\u001b[43m,\u001b[49m\u001b[43m \u001b[49m\u001b[43mu\u001b[49m\u001b[43m)\u001b[49m\u001b[43m,\u001b[49m\u001b[43m \u001b[49m\u001b[43mt\u001b[49m\u001b[43m,\u001b[49m\u001b[43m \u001b[49m\u001b[43mmesh_xpath\u001b[49m\u001b[43m)\u001b[49m\n",
      "\u001b[0;31mRuntimeError\u001b[0m: Degree of output Function must be same as mesh degree. Maybe the Function needs to be interpolated?"
     ]
    }
   ],
   "source": [
    "# # Save solution to file in XDMF format for visualization, e.g. with\n",
    "# # ParaView. Before writing to file, ghost values are updated using\n",
    "# # `scatter_forward`.\n",
    "with XDMFFile(MPI.COMM_WORLD, \"results/out_stokes/velocity.xdmf\", \"w\") as ufile_xdmf:\n",
    "    u.x.scatter_forward()\n",
    "    q_p1 = element(\"Lagrange\", msh.basix_cell(), 1, shape=(msh.geometry.dim,))\n",
    "    u1 = Function(functionspace(msh, q_p1))\n",
    "    u1.interpolate(u)\n",
    "    ufile_xdmf.write_mesh(msh)\n",
    "    ufile_xdmf.write_function(u1)\n",
    "\n",
    "# with XDMFFile(MPI.COMM_WORLD, \"results/out_stokes/pressure.xdmf\", \"w\") as pfile_xdmf:\n",
    "#     p.x.scatter_forward()\n",
    "#     pfile_xdmf.write_mesh(msh)\n",
    "#     pfile_xdmf.write_function(p)\n",
    "\n",
    "# # Compute norms\n",
    "# norm_u, norm_p = u.x.norm(), p.x.norm()\n",
    "# if MPI.COMM_WORLD.rank == 0:\n",
    "#     print(f\"(D) Norm of velocity coefficient vector (monolithic, direct): {norm_u}\")\n",
    "#     print(f\"(D) Norm of pressure coefficient vector (monolithic, direct): {norm_p}\")"
   ]
  },
  {
   "cell_type": "code",
   "execution_count": 13,
   "id": "f9c9c827-3d57-43b4-af59-641c9b267204",
   "metadata": {},
   "outputs": [],
   "source": [
    "# constants for calculations\n",
    "rho = fem.Constant(msh, PETSc.ScalarType(10)) # advection coefficent\n",
    "eps = fem.Constant(msh, PETSc.ScalarType(1)) # diffusion coefficent\n",
    "k = fem.Constant(msh, dt)\n",
    "fs = fem.Constant(msh, PETSc.ScalarType(0))"
   ]
  },
  {
   "cell_type": "code",
   "execution_count": 74,
   "id": "e910be3a-de92-420d-8412-6456d5f87c87",
   "metadata": {},
   "outputs": [],
   "source": [
    "u_n = flow_solution.sub(0)\n",
    "\n",
    "s = ufl.TrialFunction(Z)\n",
    "z = ufl.TestFunction(Z)\n",
    "\n",
    "# https://fenicsproject.discourse.group/t/navier-stokes-and-convection-diffusion/7170\n",
    "F2 = rho*((s - s_n) / k) *z*ufl.dx \\\n",
    "   + rho*ufl.dot(u_n, ufl.grad(s_n))*z*ufl.dx \\\n",
    "   + eps * ufl.dot(ufl.grad(s), ufl.grad(z))* ufl.dx \\\n",
    "   - fs*z*ufl.dx\n",
    "\n",
    "a2 = fem.form(ufl.lhs(F2))\n",
    "L2 = fem.form(ufl.rhs(F2))\n",
    "\n",
    "\n",
    "# create parts of the equation that will not change between timesteps\n",
    "# https://fenicsproject.discourse.group/t/how-to-set-bcs-for-petsc-matrices-and-petsc-vectors-in-dolfinx/4135\n",
    "A2 = assemble_matrix(a2, bcs=dist_bc)\n",
    "A2.assemble()\n",
    "b2 = create_vector(L2)\n",
    "\n",
    "# create solver for the linear (matrix) problem\n",
    "## Using petsc4py to create a linear solver\n",
    "# As we have already assembled `a` into tbhe matrix `A`, we can no longer use the `dolfinx.fem.petsc.LinearProblem` class to solve the problem. Therefore, we create a linear algebra solver using PETSc, and assign the matrix `A` to the solver, and choose the solution strategy.\n",
    "solver2 = PETSc.KSP().create(msh.comm)\n",
    "solver2.setOperators(A2)\n",
    "solver2.setType(PETSc.KSP.Type.PREONLY)\n",
    "solver2.getPC().setType(PETSc.PC.Type.LU)"
   ]
  },
  {
   "cell_type": "code",
   "execution_count": 75,
   "id": "9caf488a-2bdf-417e-b7ab-e730848d962a",
   "metadata": {},
   "outputs": [],
   "source": [
    "# https://jsdokken.com/dolfinx-tutorial/chapter2/diffusion_code.html\n",
    "# create output file\n",
    "xdmf = io.XDMFFile(msh.comm, \"results/cavityDiffusion.xdmf\", \"w\")\n",
    "xdmf.write_mesh(msh)"
   ]
  },
  {
   "cell_type": "code",
   "execution_count": 76,
   "id": "822e28ee-cdfe-4777-9372-edc431f22f97",
   "metadata": {},
   "outputs": [
    {
     "data": {
      "application/vnd.jupyter.widget-view+json": {
       "model_id": "7472d705db5e4eeb9d074a2e02e73db1",
       "version_major": 2,
       "version_minor": 0
      },
      "text/plain": [
       "  0%|          | 0/1300 [00:00<?, ?it/s]"
      ]
     },
     "metadata": {},
     "output_type": "display_data"
    }
   ],
   "source": [
    "# inital time\n",
    "t = 0\n",
    "xdmf.write_function(s_,t)\n",
    "\n",
    "for i in tqdm_notebook(range(num_steps)):\n",
    "    t += dt # update time\n",
    "\n",
    "    # https://jsdokken.com/dolfinx-tutorial/chapter2/diffusion_code.html\n",
    "    # Update the right hand side reusing the initial vector\n",
    "    with b2.localForm() as loc_b:\n",
    "        loc_b.set(0)\n",
    "    fem.petsc.assemble_vector(b2, L2)\n",
    "    apply_lifting(b2, [a2], [dist_bc])\n",
    "    b2.ghostUpdate(addv=PETSc.InsertMode.ADD, mode=PETSc.ScatterMode.REVERSE)\n",
    "    fem.set_bc(b2, dist_bc)\n",
    "\n",
    "    # solve\n",
    "    solver2.solve(b2, s_.vector)\n",
    "    s_.x.scatter_forward() # correct for inacuracies \n",
    "\n",
    "    s_n.x.array[:] = s_.x.array # update previous step\n",
    "\n",
    "    xdmf.write_function(s_,t)\n",
    "\n",
    "xdmf.close()"
   ]
  },
  {
   "cell_type": "code",
   "execution_count": 77,
   "id": "2c827822-d15a-4014-bfbf-0a8da4b7ac36",
   "metadata": {},
   "outputs": [],
   "source": [
    "# t = 0\n",
    "\n",
    "# for n in range(num_steps):\n",
    "#     t += dt\n",
    "    \n",
    "#     A = fem.petsc.assemble_matrix(a4)\n",
    "#     A.assemble()\n",
    "#     b = fem.petsc.create_vector(L4)\n",
    "#     solver2.solve(b, s_.vector)\n",
    "\n",
    "#     s_n = s_.copy"
   ]
  },
  {
   "cell_type": "code",
   "execution_count": 78,
   "id": "739017f7-72cd-4d92-b2d2-3f9d55ea295d",
   "metadata": {},
   "outputs": [
    {
     "data": {
      "application/vnd.jupyter.widget-view+json": {
       "model_id": "fafa02261a1a44cba61c239a4ea04892",
       "version_major": 2,
       "version_minor": 0
      },
      "text/plain": [
       "Widget(value='<iframe src=\"http://localhost:38805/index.html?ui=P_0x7ff40d43c820_5&reconnect=auto\" class=\"pyvi…"
      ]
     },
     "metadata": {},
     "output_type": "display_data"
    }
   ],
   "source": [
    "import pyvista \n",
    "pyvista.set_jupyter_backend('client')\n",
    "\n",
    "pyvista.start_xvfb()\n",
    "topology, cell_types, geometry = plot.vtk_mesh(V)\n",
    "values = np.zeros((geometry.shape[0], 3), dtype=np.float64)\n",
    "values[:, :len(u)] = u.x.array.real.reshape((geometry.shape[0], len(u)))\n",
    "\n",
    "topologyZ, cell_typesZ, geometryZ = plot.vtk_mesh(Z)\n",
    "dist_grid = pyvista.UnstructuredGrid(topologyZ, cell_typesZ, geometryZ)\n",
    "#dist_grid[\"s\"] = s_.x.array\n",
    "\n",
    "# store velocity data in grid\n",
    "velocity_grid = pyvista.UnstructuredGrid(topology, cell_types, geometry)\n",
    "velocity_grid[\"u\"] = values\n",
    "# Create a point cloud of glyphs\n",
    "glyphs = velocity_grid.glyph(orient=\"u\", factor=0.2)\n",
    "\n",
    "# Create a pyvista-grid for the mesh\n",
    "grid = pyvista.UnstructuredGrid(*plot.vtk_mesh(msh, msh.topology.dim))\n",
    "\n",
    "# Create plotter\n",
    "plotter = pyvista.Plotter(notebook=True)\n",
    "plotter.add_mesh(velocity_grid, show_edges=True)\n",
    "#plotter.add_mesh(dist_grid, show_edges=True)\n",
    "#plotter.add_mesh(glyphs)\n",
    "plotter.view_xy()\n",
    "\n",
    "plotter.show()\n",
    "#fig_as_array = plotter.screenshot(\"glyphs.png\")\n",
    "\n"
   ]
  },
  {
   "cell_type": "code",
   "execution_count": null,
   "id": "29b3de5e-84a6-49a0-8879-3df56840a9e8",
   "metadata": {},
   "outputs": [],
   "source": [
    "## https://www.youtube.com/watch?v=lB1YriNgnfw"
   ]
  }
 ],
 "metadata": {
  "kernelspec": {
   "display_name": "Python 3 (ipykernel)",
   "language": "python",
   "name": "python3"
  },
  "language_info": {
   "codemirror_mode": {
    "name": "ipython",
    "version": 3
   },
   "file_extension": ".py",
   "mimetype": "text/x-python",
   "name": "python",
   "nbconvert_exporter": "python",
   "pygments_lexer": "ipython3",
   "version": "3.10.13"
  }
 },
 "nbformat": 4,
 "nbformat_minor": 5
}
