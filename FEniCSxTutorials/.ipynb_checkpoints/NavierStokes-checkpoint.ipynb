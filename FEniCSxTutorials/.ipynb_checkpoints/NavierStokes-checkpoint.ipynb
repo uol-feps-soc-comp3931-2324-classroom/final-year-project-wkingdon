{
 "cells": [
  {
   "cell_type": "markdown",
   "id": "0461dc1d-c8c5-4f34-8108-fafa71da1280",
   "metadata": {},
   "source": [
    "# Channel flow (Poiseuille flow) \n",
    "this will compute a flow between two infinite plates. $H$ is the distance between the plates and $L$ is the length of the channel.\n",
    "This folows this tutorial: https://jsdokken.com/dolfinx-tutorial/chapter2/ns_code1.html \n",
    "- There is also an older version of this tutorial here https://fenicsproject.org/pub/tutorial/html/._ftut1009.html"
   ]
  },
  {
   "cell_type": "code",
   "execution_count": 2,
   "id": "0b180c78-5422-4912-89c7-d244033d2153",
   "metadata": {},
   "outputs": [],
   "source": [
    "# Initial setup\n",
    "from mpi4py import MPI\n",
    "from petsc4py import PETSc\n",
    "import numpy as np\n",
    "import pyvista\n",
    "\n",
    "from dolfinx.fem import Constant, Function, FunctionSpace, assemble_scalar, dirichletbc, form, locate_dofs_geometrical\n",
    "from dolfinx.fem.petsc import assemble_matrix, assemble_vector, apply_lifting, create_vector, set_bc\n",
    "from dolfinx.io import VTXWriter\n",
    "from dolfinx.mesh import create_unit_square\n",
    "from dolfinx.plot import vtk_mesh\n",
    "from ufl import (FacetNormal, FiniteElement, Identity, TestFunction, TrialFunction, VectorElement,\n",
    "                 div, dot, ds, dx, inner, lhs, nabla_grad, rhs, sym)\n",
    "\n",
    "# creates mesh\n",
    "mesh = create_unit_square(MPI.COMM_WORLD, 16, 16)\n",
    "# set up time steps\n",
    "t = 0\n",
    "T = 10\n",
    "num_steps = 500\n",
    "dt = T / num_steps"
   ]
  },
  {
   "cell_type": "code",
   "execution_count": 3,
   "id": "66c4a5dd-c97a-4cce-9d55-cdba53e5dc43",
   "metadata": {},
   "outputs": [],
   "source": [
    "# create two function spaces, a vector one for velocity and \n",
    "# a scalar one for pressure\n",
    "v_cg2 = VectorElement(\"Lagrange\", mesh.ufl_cell(), 2)\n",
    "s_cg1 = FiniteElement(\"Lagrange\", mesh.ufl_cell(), 1)\n",
    "V = FunctionSpace(mesh, v_cg2)\n",
    "Q = FunctionSpace(mesh, s_cg1)\n"
   ]
  },
  {
   "cell_type": "code",
   "execution_count": 4,
   "id": "c8b269b5-214f-47c8-907a-6f2078997954",
   "metadata": {},
   "outputs": [],
   "source": [
    "# set up trial functions and test functions for velocity and pressure\n",
    "u = TrialFunction(V)\n",
    "v = TestFunction(V)\n",
    "p = TrialFunction(Q)\n",
    "q = TestFunction(Q)"
   ]
  },
  {
   "cell_type": "code",
   "execution_count": 5,
   "id": "dd924a38-9b2a-4e3f-9ec4-796be6e072c6",
   "metadata": {},
   "outputs": [],
   "source": [
    "# python fucntion to create different Dirichlet conditions\n",
    "def walls(x):\n",
    "    return np.logical_or(np.isclose(x[1], 0), np.isclose(x[1], 1))"
   ]
  },
  {
   "cell_type": "code",
   "execution_count": 6,
   "id": "720b0dd0-62e2-4483-9584-14f1b08916ca",
   "metadata": {},
   "outputs": [],
   "source": [
    "wall_dofs = locate_dofs_geometrical(V, walls)\n",
    "u_noslip = np.array((0,) * mesh.geometry.dim, dtype=PETSc.ScalarType)\n",
    "bc_noslip = dirichletbc(u_noslip, wall_dofs, V)"
   ]
  },
  {
   "cell_type": "code",
   "execution_count": 7,
   "id": "b3615502-500e-4424-b1ae-0db687d79055",
   "metadata": {},
   "outputs": [],
   "source": [
    "# Set the presure to 8 at the inflow (x=0)\n",
    "def inflow(x):\n",
    "    return np.isclose(x[0], 0)\n",
    "inflow_dofs = locate_dofs_geometrical(Q, inflow)\n",
    "bc_inflow = dirichletbc(PETSc.ScalarType(8), inflow_dofs, Q)"
   ]
  },
  {
   "cell_type": "code",
   "execution_count": 8,
   "id": "f019fded-6711-4425-98dd-47df8b670546",
   "metadata": {},
   "outputs": [],
   "source": [
    "# Set the presrue to 0 at the outflow (x=1) to create a gradient \n",
    "def outflow(x):\n",
    "    return np.isclose(x[0], 1)\n",
    "\n",
    "outflow_dofs = locate_dofs_geometrical(Q, outflow)\n",
    "bc_outflow = dirichletbc(PETSc.ScalarType(0), outflow_dofs, Q)\n",
    "bcu = [bc_noslip] # boundaries for velocity \n",
    "bcp = [bc_inflow, bc_outflow] # boundaries for pressure"
   ]
  },
  {
   "cell_type": "code",
   "execution_count": 9,
   "id": "99eb08d1-1b03-478a-9bdd-dcda9a0f89da",
   "metadata": {},
   "outputs": [],
   "source": [
    "# Set up values for computation, many of these are constant\n",
    "u_n = Function(V)\n",
    "u_n.name = \"u_n\"\n",
    "U = 0.5 * (u_n + u)\n",
    "n = FacetNormal(mesh)\n",
    "f = Constant(mesh, PETSc.ScalarType((0, 0)))\n",
    "k = Constant(mesh, PETSc.ScalarType(dt))\n",
    "mu = Constant(mesh, PETSc.ScalarType(1))\n",
    "rho = Constant(mesh, PETSc.ScalarType(1))"
   ]
  },
  {
   "cell_type": "code",
   "execution_count": 10,
   "id": "01cf397e-c369-4b63-a520-71a3e9a65a19",
   "metadata": {},
   "outputs": [],
   "source": [
    "# Define strain-rate tensor\n",
    "def epsilon(u):\n",
    "    return sym(nabla_grad(u))\n",
    "\n",
    "# Define stress tensor\n",
    "\n",
    "\n",
    "def sigma(u, p):\n",
    "    return 2 * mu * epsilon(u) - p * Identity(len(u))\n",
    "\n",
    "\n",
    "# Define the variational problem for the first step\n",
    "p_n = Function(Q)\n",
    "p_n.name = \"p_n\"\n",
    "F1 = rho * dot((u - u_n) / k, v) * dx\n",
    "F1 += rho * dot(dot(u_n, nabla_grad(u_n)), v) * dx\n",
    "F1 += inner(sigma(U, p_n), epsilon(v)) * dx\n",
    "F1 += dot(p_n * n, v) * ds - dot(mu * nabla_grad(U) * n, v) * ds\n",
    "F1 -= dot(f, v) * dx\n",
    "a1 = form(lhs(F1))\n",
    "L1 = form(rhs(F1))"
   ]
  },
  {
   "cell_type": "code",
   "execution_count": 11,
   "id": "60474dc6-683e-4402-8be0-bad6c40e0c1e",
   "metadata": {},
   "outputs": [],
   "source": [
    "A1 = assemble_matrix(a1, bcs=bcu)\n",
    "A1.assemble()\n",
    "b1 = create_vector(L1)"
   ]
  },
  {
   "cell_type": "code",
   "execution_count": 12,
   "id": "c0c61791-f8ad-4bc7-aeea-6b1a7b980e2a",
   "metadata": {},
   "outputs": [],
   "source": [
    "# Define variational problem for step 2\n",
    "u_ = Function(V)\n",
    "a2 = form(dot(nabla_grad(p), nabla_grad(q)) * dx)\n",
    "L2 = form(dot(nabla_grad(p_n), nabla_grad(q)) * dx - (rho / k) * div(u_) * q * dx)\n",
    "A2 = assemble_matrix(a2, bcs=bcp)\n",
    "A2.assemble()\n",
    "b2 = create_vector(L2)\n",
    "\n",
    "# Define variational problem for step 3\n",
    "p_ = Function(Q)\n",
    "a3 = form(rho * dot(u, v) * dx)\n",
    "L3 = form(rho * dot(u_, v) * dx - k * dot(nabla_grad(p_ - p_n), v) * dx)\n",
    "A3 = assemble_matrix(a3)\n",
    "A3.assemble()\n",
    "b3 = create_vector(L3)"
   ]
  },
  {
   "cell_type": "code",
   "execution_count": 13,
   "id": "6ba78057-0fb4-405c-bd7a-8a67ed346e84",
   "metadata": {},
   "outputs": [],
   "source": [
    "# Solver for step 1\n",
    "solver1 = PETSc.KSP().create(mesh.comm)\n",
    "solver1.setOperators(A1)\n",
    "solver1.setType(PETSc.KSP.Type.BCGS)\n",
    "pc1 = solver1.getPC()\n",
    "pc1.setType(PETSc.PC.Type.HYPRE)\n",
    "pc1.setHYPREType(\"boomeramg\")\n",
    "\n",
    "# Solver for step 2\n",
    "solver2 = PETSc.KSP().create(mesh.comm)\n",
    "solver2.setOperators(A2)\n",
    "solver2.setType(PETSc.KSP.Type.BCGS)\n",
    "pc2 = solver2.getPC()\n",
    "pc2.setType(PETSc.PC.Type.HYPRE)\n",
    "pc2.setHYPREType(\"boomeramg\")\n",
    "\n",
    "# Solver for step 3\n",
    "solver3 = PETSc.KSP().create(mesh.comm)\n",
    "solver3.setOperators(A3)\n",
    "solver3.setType(PETSc.KSP.Type.CG)\n",
    "pc3 = solver3.getPC()\n",
    "pc3.setType(PETSc.PC.Type.SOR)"
   ]
  },
  {
   "cell_type": "code",
   "execution_count": 14,
   "id": "0890eb7e-bf21-40b3-be18-b58de7f2b9f3",
   "metadata": {},
   "outputs": [],
   "source": [
    "from pathlib import Path\n",
    "folder = Path(\"results\")\n",
    "folder.mkdir(exist_ok=True, parents=True)\n",
    "vtx_u = VTXWriter(mesh.comm, folder / \"poiseuille_u.bp\", u_n, engine=\"BP4\")\n",
    "vtx_p = VTXWriter(mesh.comm, folder / \"poiseuille_p.bp\", p_n, engine=\"BP4\")\n",
    "vtx_u.write(t)\n",
    "vtx_p.write(t)"
   ]
  },
  {
   "cell_type": "code",
   "execution_count": 15,
   "id": "2fd380a6-0b34-4958-8252-321f7b4edc9a",
   "metadata": {},
   "outputs": [],
   "source": [
    "def u_exact(x):\n",
    "    values = np.zeros((2, x.shape[1]), dtype=PETSc.ScalarType)\n",
    "    values[0] = 4 * x[1] * (1.0 - x[1])\n",
    "    return values\n",
    "\n",
    "\n",
    "u_ex = Function(V)\n",
    "u_ex.interpolate(u_exact)\n",
    "\n",
    "L2_error = form(dot(u_ - u_ex, u_ - u_ex) * dx)"
   ]
  },
  {
   "cell_type": "code",
   "execution_count": null,
   "id": "a1e8c7e2-8d78-450b-851a-51eb04c56561",
   "metadata": {},
   "outputs": [],
   "source": []
  },
  {
   "cell_type": "code",
   "execution_count": 16,
   "id": "bc6174a2-283f-4471-9efc-27d624fc3da2",
   "metadata": {},
   "outputs": [
    {
     "name": "stdout",
     "output_type": "stream",
     "text": [
      "Time 0.02, L2-error 5.88e-01, Max error 1.60e-01\n",
      "Time 0.42, L2-error 1.09e-02, Max error 8.28e-05\n",
      "Time 0.82, L2-error 2.23e-04, Max error 4.65e-04\n",
      "Time 1.22, L2-error 4.58e-05, Max error 3.31e-04\n",
      "Time 1.62, L2-error 2.78e-05, Max error 2.20e-04\n",
      "Time 2.02, L2-error 1.84e-05, Max error 1.53e-04\n",
      "Time 2.42, L2-error 1.32e-05, Max error 1.10e-04\n",
      "Time 2.82, L2-error 1.03e-05, Max error 8.24e-05\n",
      "Time 3.22, L2-error 8.57e-06, Max error 6.38e-05\n",
      "Time 3.62, L2-error 7.62e-06, Max error 5.36e-05\n",
      "Time 4.02, L2-error 7.07e-06, Max error 5.82e-05\n",
      "Time 4.42, L2-error 6.76e-06, Max error 6.16e-05\n",
      "Time 4.82, L2-error 6.57e-06, Max error 6.43e-05\n",
      "Time 5.22, L2-error 6.45e-06, Max error 6.64e-05\n",
      "Time 5.62, L2-error 6.37e-06, Max error 6.82e-05\n",
      "Time 6.02, L2-error 6.32e-06, Max error 6.96e-05\n",
      "Time 6.42, L2-error 6.28e-06, Max error 7.08e-05\n",
      "Time 6.82, L2-error 6.26e-06, Max error 7.18e-05\n",
      "Time 7.22, L2-error 6.24e-06, Max error 7.26e-05\n",
      "Time 7.62, L2-error 6.22e-06, Max error 7.34e-05\n",
      "Time 8.02, L2-error 6.21e-06, Max error 7.40e-05\n",
      "Time 8.42, L2-error 6.20e-06, Max error 7.46e-05\n",
      "Time 8.82, L2-error 6.19e-06, Max error 7.51e-05\n",
      "Time 9.22, L2-error 6.18e-06, Max error 7.55e-05\n",
      "Time 9.62, L2-error 6.18e-06, Max error 7.59e-05\n",
      "Time 10.00, L2-error 6.13e-06, Max error 8.23e-05\n"
     ]
    },
    {
     "data": {
      "text/plain": [
       "<petsc4py.PETSc.KSP at 0x7f0289294d10>"
      ]
     },
     "execution_count": 16,
     "metadata": {},
     "output_type": "execute_result"
    }
   ],
   "source": [
    "# for loop over time \n",
    "for i in range(num_steps):\n",
    "    # Update current time step\n",
    "    t += dt\n",
    "\n",
    "    # Step 1: Tentative veolcity step\n",
    "    with b1.localForm() as loc_1:\n",
    "        loc_1.set(0)\n",
    "    assemble_vector(b1, L1)\n",
    "    apply_lifting(b1, [a1], [bcu])\n",
    "    b1.ghostUpdate(addv=PETSc.InsertMode.ADD_VALUES, mode=PETSc.ScatterMode.REVERSE)\n",
    "    set_bc(b1, bcu)\n",
    "    solver1.solve(b1, u_.vector)\n",
    "    u_.x.scatter_forward()\n",
    "\n",
    "    # Step 2: Pressure corrrection step\n",
    "    with b2.localForm() as loc_2:\n",
    "        loc_2.set(0)\n",
    "    assemble_vector(b2, L2)\n",
    "    apply_lifting(b2, [a2], [bcp])\n",
    "    b2.ghostUpdate(addv=PETSc.InsertMode.ADD_VALUES, mode=PETSc.ScatterMode.REVERSE)\n",
    "    set_bc(b2, bcp)\n",
    "    solver2.solve(b2, p_.vector)\n",
    "    p_.x.scatter_forward()\n",
    "\n",
    "    # Step 3: Velocity correction step\n",
    "    with b3.localForm() as loc_3:\n",
    "        loc_3.set(0)\n",
    "    assemble_vector(b3, L3)\n",
    "    b3.ghostUpdate(addv=PETSc.InsertMode.ADD_VALUES, mode=PETSc.ScatterMode.REVERSE)\n",
    "    solver3.solve(b3, u_.vector)\n",
    "    u_.x.scatter_forward()\n",
    "    # Update variable with solution form this time step\n",
    "    u_n.x.array[:] = u_.x.array[:]\n",
    "    p_n.x.array[:] = p_.x.array[:]\n",
    "\n",
    "    # Write solutions to file\n",
    "    vtx_u.write(t)\n",
    "    vtx_p.write(t)\n",
    "\n",
    "    # Compute error at current time-step\n",
    "    error_L2 = np.sqrt(mesh.comm.allreduce(assemble_scalar(L2_error), op=MPI.SUM))\n",
    "    error_max = mesh.comm.allreduce(np.max(u_.vector.array - u_ex.vector.array), op=MPI.MAX)\n",
    "    # Print error only every 20th step and at the last step\n",
    "    if (i % 20 == 0) or (i == num_steps - 1):\n",
    "        print(f\"Time {t:.2f}, L2-error {error_L2:.2e}, Max error {error_max:.2e}\")\n",
    "# Close xmdf file\n",
    "vtx_u.close()\n",
    "vtx_p.close()\n",
    "b1.destroy()\n",
    "b2.destroy()\n",
    "b3.destroy()\n",
    "solver1.destroy()\n",
    "solver2.destroy()\n",
    "solver3.destroy()"
   ]
  },
  {
   "cell_type": "code",
   "execution_count": 17,
   "id": "f78aa191-00e9-4a66-bc06-9a57f99adfea",
   "metadata": {},
   "outputs": [
    {
     "data": {
      "application/vnd.jupyter.widget-view+json": {
       "model_id": "d931ac8fdc034ebaaa6a0ed99de38040",
       "version_major": 2,
       "version_minor": 0
      },
      "text/plain": [
       "Widget(value='<iframe src=\"http://localhost:37633/index.html?ui=P_0x7f028929dab0_0&reconnect=auto\" class=\"pyvi…"
      ]
     },
     "metadata": {},
     "output_type": "display_data"
    }
   ],
   "source": [
    "\n",
    "pyvista.set_jupyter_backend('client')\n",
    "pyvista.start_xvfb()\n",
    "topology, cell_types, geometry = vtk_mesh(V)\n",
    "values = np.zeros((geometry.shape[0], 3), dtype=np.float64)\n",
    "values[:, :len(u_n)] = u_n.x.array.real.reshape((geometry.shape[0], len(u_n)))\n",
    "\n",
    "# Create a point cloud of glyphs\n",
    "function_grid = pyvista.UnstructuredGrid(topology, cell_types, geometry)\n",
    "function_grid[\"u\"] = values\n",
    "glyphs = function_grid.glyph(orient=\"u\", factor=0.2)\n",
    "\n",
    "# Create a pyvista-grid for the mesh\n",
    "grid = pyvista.UnstructuredGrid(*vtk_mesh(mesh, mesh.topology.dim))\n",
    "\n",
    "# Create plotter\n",
    "plotter = pyvista.Plotter()\n",
    "plotter.add_mesh(grid, style=\"wireframe\", color=\"k\")\n",
    "plotter.add_mesh(glyphs)\n",
    "plotter.view_xy()\n",
    "if not pyvista.OFF_SCREEN:\n",
    "    plotter.show()\n",
    "else:\n",
    "    fig_as_array = plotter.screenshot(\"glyphs.png\")"
   ]
  },
  {
   "cell_type": "code",
   "execution_count": null,
   "id": "8d1eec75-a393-41bf-b373-b91779984ba3",
   "metadata": {},
   "outputs": [],
   "source": []
  },
  {
   "cell_type": "code",
   "execution_count": null,
   "id": "fadff213-d42a-4257-bd0b-01dc0f189a2c",
   "metadata": {},
   "outputs": [],
   "source": []
  }
 ],
 "metadata": {
  "kernelspec": {
   "display_name": "Python 3 (ipykernel)",
   "language": "python",
   "name": "python3"
  },
  "language_info": {
   "codemirror_mode": {
    "name": "ipython",
    "version": 3
   },
   "file_extension": ".py",
   "mimetype": "text/x-python",
   "name": "python",
   "nbconvert_exporter": "python",
   "pygments_lexer": "ipython3",
   "version": "3.10.13"
  }
 },
 "nbformat": 4,
 "nbformat_minor": 5
}
